{
 "cells": [
  {
   "cell_type": "code",
   "execution_count": 2,
   "id": "834506c5-603a-41ad-bd50-bfb3532ddd58",
   "metadata": {},
   "outputs": [],
   "source": [
    "import pandas as pd\n",
    "import matplotlib as mpl\n",
    "import seaborn as sns \n",
    "import matplotlib.pyplot as plt"
   ]
  },
  {
   "cell_type": "code",
   "execution_count": 8,
   "id": "8411cc99-7ad8-48d6-b47c-a1a01412c2d5",
   "metadata": {},
   "outputs": [],
   "source": [
    "df = pd.read_csv(\"./Ficheiros/train.csv\")"
   ]
  },
  {
   "cell_type": "code",
   "execution_count": 4,
   "id": "82c08246-e2ce-4e8a-a2b8-7fcb91ebf4e6",
   "metadata": {},
   "outputs": [
    {
     "data": {
      "text/html": [
       "<div>\n",
       "<style scoped>\n",
       "    .dataframe tbody tr th:only-of-type {\n",
       "        vertical-align: middle;\n",
       "    }\n",
       "\n",
       "    .dataframe tbody tr th {\n",
       "        vertical-align: top;\n",
       "    }\n",
       "\n",
       "    .dataframe thead th {\n",
       "        text-align: right;\n",
       "    }\n",
       "</style>\n",
       "<table border=\"1\" class=\"dataframe\">\n",
       "  <thead>\n",
       "    <tr style=\"text-align: right;\">\n",
       "      <th></th>\n",
       "      <th>brand</th>\n",
       "      <th>model</th>\n",
       "      <th>model_year</th>\n",
       "      <th>milage</th>\n",
       "      <th>fuel_type</th>\n",
       "      <th>engine</th>\n",
       "      <th>transmission</th>\n",
       "      <th>ext_col</th>\n",
       "      <th>int_col</th>\n",
       "      <th>accident</th>\n",
       "      <th>clean_title</th>\n",
       "      <th>price</th>\n",
       "    </tr>\n",
       "  </thead>\n",
       "  <tbody>\n",
       "    <tr>\n",
       "      <th>0</th>\n",
       "      <td>Jeep</td>\n",
       "      <td>Wrangler Sport</td>\n",
       "      <td>2014</td>\n",
       "      <td>71,000 mi.</td>\n",
       "      <td>Gasoline</td>\n",
       "      <td>285.0HP 3.6L V6 Cylinder Engine Gasoline Fuel</td>\n",
       "      <td>5-Speed A/T</td>\n",
       "      <td>Gray</td>\n",
       "      <td>Black</td>\n",
       "      <td>None reported</td>\n",
       "      <td>Yes</td>\n",
       "      <td>22000</td>\n",
       "    </tr>\n",
       "    <tr>\n",
       "      <th>1</th>\n",
       "      <td>Toyota</td>\n",
       "      <td>Highlander XLE</td>\n",
       "      <td>2015</td>\n",
       "      <td>68,575 mi.</td>\n",
       "      <td>Gasoline</td>\n",
       "      <td>270.0HP 3.5L V6 Cylinder Engine Gasoline Fuel</td>\n",
       "      <td>A/T</td>\n",
       "      <td>Silver</td>\n",
       "      <td>Gray</td>\n",
       "      <td>At least 1 accident or damage reported</td>\n",
       "      <td>Yes</td>\n",
       "      <td>26000</td>\n",
       "    </tr>\n",
       "    <tr>\n",
       "      <th>2</th>\n",
       "      <td>Toyota</td>\n",
       "      <td>Camry Hybrid XLE</td>\n",
       "      <td>2018</td>\n",
       "      <td>69,641 mi.</td>\n",
       "      <td>Hybrid</td>\n",
       "      <td>208.0HP 2.5L 4 Cylinder Engine Gas/Electric Hy...</td>\n",
       "      <td>CVT Transmission</td>\n",
       "      <td>White</td>\n",
       "      <td>Black</td>\n",
       "      <td>At least 1 accident or damage reported</td>\n",
       "      <td>Yes</td>\n",
       "      <td>23995</td>\n",
       "    </tr>\n",
       "    <tr>\n",
       "      <th>3</th>\n",
       "      <td>Subaru</td>\n",
       "      <td>Outback Touring XT</td>\n",
       "      <td>2021</td>\n",
       "      <td>33,500 mi.</td>\n",
       "      <td>Gasoline</td>\n",
       "      <td>260.0HP 2.4L 4 Cylinder Engine Gasoline Fuel</td>\n",
       "      <td>CVT Transmission</td>\n",
       "      <td>Blue</td>\n",
       "      <td>Brown</td>\n",
       "      <td>None reported</td>\n",
       "      <td>Yes</td>\n",
       "      <td>34000</td>\n",
       "    </tr>\n",
       "    <tr>\n",
       "      <th>4</th>\n",
       "      <td>Lexus</td>\n",
       "      <td>GX 460 Base</td>\n",
       "      <td>2018</td>\n",
       "      <td>75,000 mi.</td>\n",
       "      <td>Gasoline</td>\n",
       "      <td>301.0HP 4.6L 8 Cylinder Engine Gasoline Fuel</td>\n",
       "      <td>6-Speed A/T</td>\n",
       "      <td>White</td>\n",
       "      <td>Beige</td>\n",
       "      <td>At least 1 accident or damage reported</td>\n",
       "      <td>Yes</td>\n",
       "      <td>38095</td>\n",
       "    </tr>\n",
       "  </tbody>\n",
       "</table>\n",
       "</div>"
      ],
      "text/plain": [
       "    brand               model  model_year      milage fuel_type  \\\n",
       "0    Jeep      Wrangler Sport        2014  71,000 mi.  Gasoline   \n",
       "1  Toyota      Highlander XLE        2015  68,575 mi.  Gasoline   \n",
       "2  Toyota    Camry Hybrid XLE        2018  69,641 mi.    Hybrid   \n",
       "3  Subaru  Outback Touring XT        2021  33,500 mi.  Gasoline   \n",
       "4   Lexus         GX 460 Base        2018  75,000 mi.  Gasoline   \n",
       "\n",
       "                                              engine      transmission  \\\n",
       "0      285.0HP 3.6L V6 Cylinder Engine Gasoline Fuel       5-Speed A/T   \n",
       "1      270.0HP 3.5L V6 Cylinder Engine Gasoline Fuel               A/T   \n",
       "2  208.0HP 2.5L 4 Cylinder Engine Gas/Electric Hy...  CVT Transmission   \n",
       "3       260.0HP 2.4L 4 Cylinder Engine Gasoline Fuel  CVT Transmission   \n",
       "4       301.0HP 4.6L 8 Cylinder Engine Gasoline Fuel       6-Speed A/T   \n",
       "\n",
       "  ext_col int_col                                accident clean_title  price  \n",
       "0    Gray   Black                           None reported         Yes  22000  \n",
       "1  Silver    Gray  At least 1 accident or damage reported         Yes  26000  \n",
       "2   White   Black  At least 1 accident or damage reported         Yes  23995  \n",
       "3    Blue   Brown                           None reported         Yes  34000  \n",
       "4   White   Beige  At least 1 accident or damage reported         Yes  38095  "
      ]
     },
     "execution_count": 4,
     "metadata": {},
     "output_type": "execute_result"
    }
   ],
   "source": [
    "df.head()"
   ]
  },
  {
   "cell_type": "code",
   "execution_count": 9,
   "id": "307b9228-b852-4995-a69d-bf387d8772c7",
   "metadata": {},
   "outputs": [
    {
     "data": {
      "image/png": "[encoded data removed]",
      "text/plain": [
       "<Figure size 640x480 with 1 Axes>"
      ]
     },
     "metadata": {},
     "output_type": "display_data"
    }
   ],
   "source": [
    "data = [\n",
    "    df.shape[0],\n",
    "    df[\"accident\"].isnull().sum(),\n",
    "    df[\"accident\"].nunique(),\n",
    "    df[\"accident\"].duplicated().sum(),\n",
    "    df[\"accident\"].str.isspace().sum(),\n",
    "]\n",
    "\n",
    "index=[\"num_linhas\", \"nulas\", \"distintas\", \"duplicadas\", \"em branco\"]\n",
    "\n",
    "plt.bar(index, data)\n",
    "\n",
    "plt.xlabel(\"Métrica\")\n",
    "plt.ylabel(\"Valor\")\n",
    "\n",
    "for i in range(len(data)):\n",
    "    plt.annotate(str(data[i]), (index[i], data[i]))\n",
    "\n",
    "plt.show()"
   ]
  },
  {
   "cell_type": "code",
   "execution_count": 12,
   "id": "bab4e890-d5ae-465c-9a05-466e66408fc3",
   "metadata": {},
   "outputs": [
    {
     "name": "stderr",
     "output_type": "stream",
     "text": [
      "C:\\Users\\gonca\\AppData\\Local\\Temp\\ipykernel_29880\\870527426.py:8: FutureWarning: Series.__getitem__ treating keys as positions is deprecated. In a future version, integer keys will always be treated as labels (consistent with DataFrame behavior). To access a value by position, use `ser.iloc[pos]`\n",
      "  plt.annotate(str(accident[i]), (accident.index[i], accident[i]))\n"
     ]
    },
    {
     "data": {
      "image/png": "[encoded data removed]",
      "text/plain": [
       "<Figure size 1000x400 with 1 Axes>"
      ]
     },
     "metadata": {},
     "output_type": "display_data"
    }
   ],
   "source": [
    "accident = df['accident'].value_counts()[:4]\n",
    "\n",
    "# Criar um gráfico de barras\n",
    "plt.figure(figsize=(10, 4))\n",
    "plt.bar(accident.index, accident)\n",
    "\n",
    "for i in range(len(accident)):\n",
    "    plt.annotate(str(accident[i]), (accident.index[i], accident[i]))\n",
    "\n",
    "plt.show()"
   ]
  },
  {
   "cell_type": "code",
   "execution_count": 11,
   "id": "e861af1d-c3c7-487c-9789-2e6f3e27b1c5",
   "metadata": {},
   "outputs": [],
   "source": [
    "# Substituir linhas nulas por 'None'\n",
    "df['accident'] = df['accident'].fillna('None')\n"
   ]
  },
  {
   "cell_type": "code",
   "execution_count": 9,
   "id": "0fcb95cc-1828-440e-9982-92462bfe690c",
   "metadata": {},
   "outputs": [],
   "source": [
    "# Substituir 'None reported' por '0'\n",
    "df['accident'] = df['accident'].replace('None reported', '0')\n",
    "\n",
    "# Substituir 'at least 1 accident ou damaged reported' por '1'\n",
    "df['accident'] = df['accident'].replace('At least 1 accident or damage reported', '1')\n",
    "\n",
    "# Substituir 'None' por '-1'\n",
    "df['accident'] = df['accident'].replace('None', '-1')"
   ]
  },
  {
   "cell_type": "code",
   "execution_count": 10,
   "id": "4feae309-8ad8-49a0-a759-c7de2546b9cb",
   "metadata": {},
   "outputs": [
    {
     "data": {
      "image/png": "[encoded data removed]",
      "text/plain": [
       "<Figure size 1000x400 with 1 Axes>"
      ]
     },
     "metadata": {},
     "output_type": "display_data"
    }
   ],
   "source": [
    "accident = df['accident'].value_counts()[:3]\n",
    "\n",
    "# Criar um gráfico de barras\n",
    "plt.figure(figsize=(10, 4))\n",
    "plt.bar(accident.index, accident)\n",
    "\n",
    "for i in range(len(accident)):\n",
    "    plt.annotate(str(accident[i]), (accident.index[i], accident[i]))\n",
    "\n",
    "plt.show()"
   ]
  },
  {
   "cell_type": "code",
   "execution_count": null,
   "id": "da6a3067-a00f-4a50-b59c-266dddd9e441",
   "metadata": {},
   "outputs": [],
   "source": []
  }
 ],
 "metadata": {
  "kernelspec": {
   "display_name": "Python 3 (ipykernel)",
   "language": "python",
   "name": "python3"
  },
  "language_info": {
   "codemirror_mode": {
    "name": "ipython",
    "version": 3
   },
   "file_extension": ".py",
   "mimetype": "text/x-python",
   "name": "python",
   "nbconvert_exporter": "python",
   "pygments_lexer": "ipython3",
   "version": "3.12.0"
  }
 },
 "nbformat": 4,
 "nbformat_minor": 5
}
