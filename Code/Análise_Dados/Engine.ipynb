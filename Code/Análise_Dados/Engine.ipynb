{
 "cells": [
  {
   "cell_type": "code",
   "execution_count": 3,
   "metadata": {},
   "outputs": [],
   "source": [
    "import pandas as pd\n",
    "import matplotlib as mpl\n",
    "import seaborn as sns \n",
    "import matplotlib.pyplot as plt"
   ]
  },
  {
   "cell_type": "code",
   "execution_count": 37,
   "metadata": {},
   "outputs": [],
   "source": [
    "df = pd.read_csv(\"./Ficheiros/train.csv\")"
   ]
  },
  {
   "cell_type": "code",
   "execution_count": 38,
   "metadata": {},
   "outputs": [
    {
     "data": {
      "text/html": [
       "<div>\n",
       "<style scoped>\n",
       "    .dataframe tbody tr th:only-of-type {\n",
       "        vertical-align: middle;\n",
       "    }\n",
       "\n",
       "    .dataframe tbody tr th {\n",
       "        vertical-align: top;\n",
       "    }\n",
       "\n",
       "    .dataframe thead th {\n",
       "        text-align: right;\n",
       "    }\n",
       "</style>\n",
       "<table border=\"1\" class=\"dataframe\">\n",
       "  <thead>\n",
       "    <tr style=\"text-align: right;\">\n",
       "      <th></th>\n",
       "      <th>brand</th>\n",
       "      <th>model</th>\n",
       "      <th>model_year</th>\n",
       "      <th>milage</th>\n",
       "      <th>fuel_type</th>\n",
       "      <th>engine</th>\n",
       "      <th>transmission</th>\n",
       "      <th>ext_col</th>\n",
       "      <th>int_col</th>\n",
       "      <th>accident</th>\n",
       "      <th>clean_title</th>\n",
       "      <th>price</th>\n",
       "    </tr>\n",
       "  </thead>\n",
       "  <tbody>\n",
       "    <tr>\n",
       "      <th>0</th>\n",
       "      <td>Jeep</td>\n",
       "      <td>Wrangler Sport</td>\n",
       "      <td>2014</td>\n",
       "      <td>71,000 mi.</td>\n",
       "      <td>Gasoline</td>\n",
       "      <td>285.0HP 3.6L V6 Cylinder Engine Gasoline Fuel</td>\n",
       "      <td>5-Speed A/T</td>\n",
       "      <td>Gray</td>\n",
       "      <td>Black</td>\n",
       "      <td>None reported</td>\n",
       "      <td>Yes</td>\n",
       "      <td>22000</td>\n",
       "    </tr>\n",
       "    <tr>\n",
       "      <th>1</th>\n",
       "      <td>Toyota</td>\n",
       "      <td>Highlander XLE</td>\n",
       "      <td>2015</td>\n",
       "      <td>68,575 mi.</td>\n",
       "      <td>Gasoline</td>\n",
       "      <td>270.0HP 3.5L V6 Cylinder Engine Gasoline Fuel</td>\n",
       "      <td>A/T</td>\n",
       "      <td>Silver</td>\n",
       "      <td>Gray</td>\n",
       "      <td>At least 1 accident or damage reported</td>\n",
       "      <td>Yes</td>\n",
       "      <td>26000</td>\n",
       "    </tr>\n",
       "    <tr>\n",
       "      <th>2</th>\n",
       "      <td>Toyota</td>\n",
       "      <td>Camry Hybrid XLE</td>\n",
       "      <td>2018</td>\n",
       "      <td>69,641 mi.</td>\n",
       "      <td>Hybrid</td>\n",
       "      <td>208.0HP 2.5L 4 Cylinder Engine Gas/Electric Hy...</td>\n",
       "      <td>CVT Transmission</td>\n",
       "      <td>White</td>\n",
       "      <td>Black</td>\n",
       "      <td>At least 1 accident or damage reported</td>\n",
       "      <td>Yes</td>\n",
       "      <td>23995</td>\n",
       "    </tr>\n",
       "    <tr>\n",
       "      <th>3</th>\n",
       "      <td>Subaru</td>\n",
       "      <td>Outback Touring XT</td>\n",
       "      <td>2021</td>\n",
       "      <td>33,500 mi.</td>\n",
       "      <td>Gasoline</td>\n",
       "      <td>260.0HP 2.4L 4 Cylinder Engine Gasoline Fuel</td>\n",
       "      <td>CVT Transmission</td>\n",
       "      <td>Blue</td>\n",
       "      <td>Brown</td>\n",
       "      <td>None reported</td>\n",
       "      <td>Yes</td>\n",
       "      <td>34000</td>\n",
       "    </tr>\n",
       "    <tr>\n",
       "      <th>4</th>\n",
       "      <td>Lexus</td>\n",
       "      <td>GX 460 Base</td>\n",
       "      <td>2018</td>\n",
       "      <td>75,000 mi.</td>\n",
       "      <td>Gasoline</td>\n",
       "      <td>301.0HP 4.6L 8 Cylinder Engine Gasoline Fuel</td>\n",
       "      <td>6-Speed A/T</td>\n",
       "      <td>White</td>\n",
       "      <td>Beige</td>\n",
       "      <td>At least 1 accident or damage reported</td>\n",
       "      <td>Yes</td>\n",
       "      <td>38095</td>\n",
       "    </tr>\n",
       "  </tbody>\n",
       "</table>\n",
       "</div>"
      ],
      "text/plain": [
       "    brand               model  model_year      milage fuel_type  \\\n",
       "0    Jeep      Wrangler Sport        2014  71,000 mi.  Gasoline   \n",
       "1  Toyota      Highlander XLE        2015  68,575 mi.  Gasoline   \n",
       "2  Toyota    Camry Hybrid XLE        2018  69,641 mi.    Hybrid   \n",
       "3  Subaru  Outback Touring XT        2021  33,500 mi.  Gasoline   \n",
       "4   Lexus         GX 460 Base        2018  75,000 mi.  Gasoline   \n",
       "\n",
       "                                              engine      transmission  \\\n",
       "0      285.0HP 3.6L V6 Cylinder Engine Gasoline Fuel       5-Speed A/T   \n",
       "1      270.0HP 3.5L V6 Cylinder Engine Gasoline Fuel               A/T   \n",
       "2  208.0HP 2.5L 4 Cylinder Engine Gas/Electric Hy...  CVT Transmission   \n",
       "3       260.0HP 2.4L 4 Cylinder Engine Gasoline Fuel  CVT Transmission   \n",
       "4       301.0HP 4.6L 8 Cylinder Engine Gasoline Fuel       6-Speed A/T   \n",
       "\n",
       "  ext_col int_col                                accident clean_title  price  \n",
       "0    Gray   Black                           None reported         Yes  22000  \n",
       "1  Silver    Gray  At least 1 accident or damage reported         Yes  26000  \n",
       "2   White   Black  At least 1 accident or damage reported         Yes  23995  \n",
       "3    Blue   Brown                           None reported         Yes  34000  \n",
       "4   White   Beige  At least 1 accident or damage reported         Yes  38095  "
      ]
     },
     "execution_count": 38,
     "metadata": {},
     "output_type": "execute_result"
    }
   ],
   "source": [
    "df.head()"
   ]
  },
  {
   "cell_type": "code",
   "execution_count": 39,
   "metadata": {},
   "outputs": [
    {
     "data": {
      "image/png": "[encoded data removed]",
      "text/plain": [
       "<Figure size 640x480 with 1 Axes>"
      ]
     },
     "metadata": {},
     "output_type": "display_data"
    }
   ],
   "source": [
    "data = [\n",
    "    df.shape[0],\n",
    "    df[\"engine\"].isnull().sum(),\n",
    "    df[\"engine\"].nunique(),\n",
    "    df[\"engine\"].duplicated().sum(),\n",
    "    df[\"engine\"].str.isspace().sum(),\n",
    "]\n",
    "\n",
    "index=[\"num_linhas\", \"nulas\", \"distintas\", \"duplicadas\", \"em branco\"]\n",
    "\n",
    "plt.bar(index, data)\n",
    "\n",
    "plt.xlabel(\"Métrica\")\n",
    "plt.ylabel(\"Valor\")\n",
    "\n",
    "for i in range(len(data)):\n",
    "    plt.annotate(str(data[i]), (index[i], data[i]))\n",
    "\n",
    "plt.show()"
   ]
  },
  {
   "cell_type": "markdown",
   "metadata": {},
   "source": [
    "Podemos verificar que existe uma grande diversidade de motores, apesar de varios serem semelhantes"
   ]
  },
  {
   "cell_type": "code",
   "execution_count": 40,
   "metadata": {},
   "outputs": [
    {
     "data": {
      "text/plain": [
       "engine\n",
       "420.0HP 6.2L 8 Cylinder Engine Gasoline Fuel             43\n",
       "355.0HP 5.3L 8 Cylinder Engine Gasoline Fuel             42\n",
       "300.0HP 3.0L Straight 6 Cylinder Engine Gasoline Fuel    39\n",
       "2.0L I4 16V GDI DOHC Turbo                               39\n",
       "–                                                        38\n",
       "285.0HP 3.6L V6 Cylinder Engine Gasoline Fuel            35\n",
       "240.0HP 2.0L 4 Cylinder Engine Gasoline Fuel             35\n",
       "5.7L V8 16V MPFI OHV                                     25\n",
       "3.6L V6 24V GDI DOHC                                     23\n",
       "268.0HP 3.5L V6 Cylinder Engine Gasoline Fuel            22\n",
       "Name: count, dtype: int64"
      ]
     },
     "execution_count": 40,
     "metadata": {},
     "output_type": "execute_result"
    }
   ],
   "source": [
    "df['engine'].value_counts()[:10]\n"
   ]
  },
  {
   "cell_type": "markdown",
   "metadata": {},
   "source": [
    "Podemos verificar que existem diversos veiculos com motores semelhantes, sendo os motores mais comuns os... (3 primeiros)"
   ]
  },
  {
   "cell_type": "code",
   "execution_count": 31,
   "metadata": {},
   "outputs": [
    {
     "data": {
      "text/plain": [
       "engine\n",
       "305.0HP 3.6L V6 Cylinder Engine Flex Fuel Capability             1\n",
       "3.8L V6 12V MPFI OHV                                             1\n",
       "305.0HP 3.6L V6 Cylinder Engine Gasoline/Mild Electric Hybrid    1\n",
       "219.0HP 2.5L 4 Cylinder Engine Gas/Electric Hybrid               1\n",
       "473.0HP 3.0L Straight 6 Cylinder Engine Gasoline Fuel            1\n",
       "290.0HP 4.3L 8 Cylinder Engine Gasoline Fuel                     1\n",
       "294.0HP 4.2L 8 Cylinder Engine Gasoline Fuel                     1\n",
       "215.0HP 2.5L Straight 6 Cylinder Engine Gasoline Fuel            1\n",
       "400.0HP 3.6L V6 Cylinder Engine Gasoline Fuel                    1\n",
       "265.0HP 3.0L V6 Cylinder Engine Gasoline Fuel                    1\n",
       "156.0HP 2.5L 4 Cylinder Engine Gas/Electric Hybrid               1\n",
       "180.0HP 3.4L V6 Cylinder Engine Gasoline Fuel                    1\n",
       "2L I-4 DOHC, D-CVVT variable valve control, engine with 147HP    1\n",
       "152.0HP 3.0L V6 Cylinder Engine Flex Fuel Capability             1\n",
       "3.0 Liter DOHC Turbo                                             1\n",
       "355.0HP 2.0L 4 Cylinder Engine Gasoline Fuel                     1\n",
       "500.0HP 4.0L 8 Cylinder Engine Gasoline Fuel                     1\n",
       "3.0 Liter SC ULEV                                                1\n",
       "180.0HP 6.5L 8 Cylinder Engine Diesel Fuel                       1\n",
       "200.0HP 2.2L 4 Cylinder Engine Gasoline Fuel                     1\n",
       "Name: count, dtype: int64"
      ]
     },
     "execution_count": 31,
     "metadata": {},
     "output_type": "execute_result"
    }
   ],
   "source": [
    "# Obter os 10 valores mais frequentes\n",
    "df['engine'].value_counts().tail(20)"
   ]
  },
  {
   "cell_type": "markdown",
   "metadata": {},
   "source": [
    "Podemos também verificar que existem motores que são unicos de cada carro"
   ]
  },
  {
   "cell_type": "code",
   "execution_count": 32,
   "metadata": {},
   "outputs": [
    {
     "data": {
      "text/html": [
       "<div>\n",
       "<style scoped>\n",
       "    .dataframe tbody tr th:only-of-type {\n",
       "        vertical-align: middle;\n",
       "    }\n",
       "\n",
       "    .dataframe tbody tr th {\n",
       "        vertical-align: top;\n",
       "    }\n",
       "\n",
       "    .dataframe thead th {\n",
       "        text-align: right;\n",
       "    }\n",
       "</style>\n",
       "<table border=\"1\" class=\"dataframe\">\n",
       "  <thead>\n",
       "    <tr style=\"text-align: right;\">\n",
       "      <th></th>\n",
       "      <th>0</th>\n",
       "      <th>1</th>\n",
       "      <th>2</th>\n",
       "      <th>3</th>\n",
       "      <th>4</th>\n",
       "      <th>5</th>\n",
       "      <th>6</th>\n",
       "      <th>7</th>\n",
       "      <th>8</th>\n",
       "      <th>9</th>\n",
       "    </tr>\n",
       "  </thead>\n",
       "  <tbody>\n",
       "    <tr>\n",
       "      <th>0</th>\n",
       "      <td>285.0HP</td>\n",
       "      <td>3.6L</td>\n",
       "      <td>V6</td>\n",
       "      <td>Cylinder</td>\n",
       "      <td>Engine</td>\n",
       "      <td>Gasoline</td>\n",
       "      <td>Fuel</td>\n",
       "      <td>None</td>\n",
       "      <td>None</td>\n",
       "      <td>None</td>\n",
       "    </tr>\n",
       "    <tr>\n",
       "      <th>1</th>\n",
       "      <td>270.0HP</td>\n",
       "      <td>3.5L</td>\n",
       "      <td>V6</td>\n",
       "      <td>Cylinder</td>\n",
       "      <td>Engine</td>\n",
       "      <td>Gasoline</td>\n",
       "      <td>Fuel</td>\n",
       "      <td>None</td>\n",
       "      <td>None</td>\n",
       "      <td>None</td>\n",
       "    </tr>\n",
       "    <tr>\n",
       "      <th>2</th>\n",
       "      <td>208.0HP</td>\n",
       "      <td>2.5L</td>\n",
       "      <td>4</td>\n",
       "      <td>Cylinder</td>\n",
       "      <td>Engine</td>\n",
       "      <td>Gas/Electric</td>\n",
       "      <td>Hybrid</td>\n",
       "      <td>None</td>\n",
       "      <td>None</td>\n",
       "      <td>None</td>\n",
       "    </tr>\n",
       "    <tr>\n",
       "      <th>3</th>\n",
       "      <td>260.0HP</td>\n",
       "      <td>2.4L</td>\n",
       "      <td>4</td>\n",
       "      <td>Cylinder</td>\n",
       "      <td>Engine</td>\n",
       "      <td>Gasoline</td>\n",
       "      <td>Fuel</td>\n",
       "      <td>None</td>\n",
       "      <td>None</td>\n",
       "      <td>None</td>\n",
       "    </tr>\n",
       "    <tr>\n",
       "      <th>4</th>\n",
       "      <td>301.0HP</td>\n",
       "      <td>4.6L</td>\n",
       "      <td>8</td>\n",
       "      <td>Cylinder</td>\n",
       "      <td>Engine</td>\n",
       "      <td>Gasoline</td>\n",
       "      <td>Fuel</td>\n",
       "      <td>None</td>\n",
       "      <td>None</td>\n",
       "      <td>None</td>\n",
       "    </tr>\n",
       "    <tr>\n",
       "      <th>...</th>\n",
       "      <td>...</td>\n",
       "      <td>...</td>\n",
       "      <td>...</td>\n",
       "      <td>...</td>\n",
       "      <td>...</td>\n",
       "      <td>...</td>\n",
       "      <td>...</td>\n",
       "      <td>...</td>\n",
       "      <td>...</td>\n",
       "      <td>...</td>\n",
       "    </tr>\n",
       "    <tr>\n",
       "      <th>3202</th>\n",
       "      <td>220.0HP</td>\n",
       "      <td>2.0L</td>\n",
       "      <td>4</td>\n",
       "      <td>Cylinder</td>\n",
       "      <td>Engine</td>\n",
       "      <td>Flex</td>\n",
       "      <td>Fuel</td>\n",
       "      <td>Capability</td>\n",
       "      <td>None</td>\n",
       "      <td>None</td>\n",
       "    </tr>\n",
       "    <tr>\n",
       "      <th>3203</th>\n",
       "      <td>429.0HP</td>\n",
       "      <td>4.7L</td>\n",
       "      <td>8</td>\n",
       "      <td>Cylinder</td>\n",
       "      <td>Engine</td>\n",
       "      <td>Gasoline</td>\n",
       "      <td>Fuel</td>\n",
       "      <td>None</td>\n",
       "      <td>None</td>\n",
       "      <td>None</td>\n",
       "    </tr>\n",
       "    <tr>\n",
       "      <th>3204</th>\n",
       "      <td>420.0HP</td>\n",
       "      <td>6.2L</td>\n",
       "      <td>8</td>\n",
       "      <td>Cylinder</td>\n",
       "      <td>Engine</td>\n",
       "      <td>Gasoline</td>\n",
       "      <td>Fuel</td>\n",
       "      <td>None</td>\n",
       "      <td>None</td>\n",
       "      <td>None</td>\n",
       "    </tr>\n",
       "    <tr>\n",
       "      <th>3205</th>\n",
       "      <td>2.0L</td>\n",
       "      <td>I4</td>\n",
       "      <td>16V</td>\n",
       "      <td>GDI</td>\n",
       "      <td>DOHC</td>\n",
       "      <td>Turbo</td>\n",
       "      <td>None</td>\n",
       "      <td>None</td>\n",
       "      <td>None</td>\n",
       "      <td>None</td>\n",
       "    </tr>\n",
       "    <tr>\n",
       "      <th>3206</th>\n",
       "      <td>200.0HP</td>\n",
       "      <td>2.2L</td>\n",
       "      <td>4</td>\n",
       "      <td>Cylinder</td>\n",
       "      <td>Engine</td>\n",
       "      <td>Gasoline</td>\n",
       "      <td>Fuel</td>\n",
       "      <td>None</td>\n",
       "      <td>None</td>\n",
       "      <td>None</td>\n",
       "    </tr>\n",
       "  </tbody>\n",
       "</table>\n",
       "<p>3207 rows × 10 columns</p>\n",
       "</div>"
      ],
      "text/plain": [
       "            0     1    2         3       4             5       6           7  \\\n",
       "0     285.0HP  3.6L   V6  Cylinder  Engine      Gasoline    Fuel        None   \n",
       "1     270.0HP  3.5L   V6  Cylinder  Engine      Gasoline    Fuel        None   \n",
       "2     208.0HP  2.5L    4  Cylinder  Engine  Gas/Electric  Hybrid        None   \n",
       "3     260.0HP  2.4L    4  Cylinder  Engine      Gasoline    Fuel        None   \n",
       "4     301.0HP  4.6L    8  Cylinder  Engine      Gasoline    Fuel        None   \n",
       "...       ...   ...  ...       ...     ...           ...     ...         ...   \n",
       "3202  220.0HP  2.0L    4  Cylinder  Engine          Flex    Fuel  Capability   \n",
       "3203  429.0HP  4.7L    8  Cylinder  Engine      Gasoline    Fuel        None   \n",
       "3204  420.0HP  6.2L    8  Cylinder  Engine      Gasoline    Fuel        None   \n",
       "3205     2.0L    I4  16V       GDI    DOHC         Turbo    None        None   \n",
       "3206  200.0HP  2.2L    4  Cylinder  Engine      Gasoline    Fuel        None   \n",
       "\n",
       "         8     9  \n",
       "0     None  None  \n",
       "1     None  None  \n",
       "2     None  None  \n",
       "3     None  None  \n",
       "4     None  None  \n",
       "...    ...   ...  \n",
       "3202  None  None  \n",
       "3203  None  None  \n",
       "3204  None  None  \n",
       "3205  None  None  \n",
       "3206  None  None  \n",
       "\n",
       "[3207 rows x 10 columns]"
      ]
     },
     "execution_count": 32,
     "metadata": {},
     "output_type": "execute_result"
    }
   ],
   "source": [
    "df['engine'].str.split(' ',expand = True)"
   ]
  },
  {
   "cell_type": "markdown",
   "metadata": {},
   "source": [
    "Através da tabela acima podemos verificar que em cada motor podemos obetr diversas especificaçoes deste.\n",
    "Cavalos - separar em String que tem HP\n",
    "Litros - separar String que contem L\n",
    "Nº Cilindtos - separar string antes de Cylinder"
   ]
  },
  {
   "cell_type": "code",
   "execution_count": 33,
   "metadata": {},
   "outputs": [],
   "source": [
    "hp = df['engine'].apply(lambda x : x.split('HP')[0]).apply(pd.to_numeric, errors='coerce')"
   ]
  },
  {
   "cell_type": "code",
   "execution_count": 34,
   "metadata": {},
   "outputs": [],
   "source": [
    "litres = df['engine'].apply(lambda x : x.split('L')[0].split(' ')[-1]).apply(pd.to_numeric, errors='coerce')"
   ]
  },
  {
   "cell_type": "code",
   "execution_count": 35,
   "metadata": {},
   "outputs": [],
   "source": [
    "df2 = df\n",
    "df2.insert(6,\"HP\",hp)\n",
    "df2.insert(7,\"Liters\",litres)"
   ]
  },
  {
   "cell_type": "code",
   "execution_count": 36,
   "metadata": {},
   "outputs": [
    {
     "data": {
      "text/plain": [
       "brand             0\n",
       "model             0\n",
       "model_year        0\n",
       "milage            0\n",
       "fuel_type       147\n",
       "engine            0\n",
       "HP              629\n",
       "Liters          317\n",
       "transmission      0\n",
       "ext_col           0\n",
       "int_col           0\n",
       "accident         89\n",
       "clean_title     467\n",
       "price             0\n",
       "dtype: int64"
      ]
     },
     "execution_count": 36,
     "metadata": {},
     "output_type": "execute_result"
    }
   ],
   "source": [
    "df2.isnull().sum()"
   ]
  }
 ],
 "metadata": {
  "kernelspec": {
   "display_name": "Python 3",
   "language": "python",
   "name": "python3"
  },
  "language_info": {
   "codemirror_mode": {
    "name": "ipython",
    "version": 3
   },
   "file_extension": ".py",
   "mimetype": "text/x-python",
   "name": "python",
   "nbconvert_exporter": "python",
   "pygments_lexer": "ipython3",
   "version": "3.12.0"
  }
 },
 "nbformat": 4,
 "nbformat_minor": 2
}
