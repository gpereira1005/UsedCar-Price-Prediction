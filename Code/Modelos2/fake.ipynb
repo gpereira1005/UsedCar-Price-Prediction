{
 "cells": [
  {
   "cell_type": "code",
   "execution_count": 43,
   "metadata": {},
   "outputs": [
    {
     "name": "stdout",
     "output_type": "stream",
     "text": [
      "Note: you may need to restart the kernel to use updated packages.Requirement already satisfied: Faker in c:\\users\\gonca\\appdata\\local\\programs\\python\\python312\\lib\\site-packages (22.2.0)\n",
      "Requirement already satisfied: python-dateutil>=2.4 in c:\\users\\gonca\\appdata\\roaming\\python\\python312\\site-packages (from Faker) (2.8.2)\n",
      "Requirement already satisfied: six>=1.5 in c:\\users\\gonca\\appdata\\roaming\\python\\python312\\site-packages (from python-dateutil>=2.4->Faker) (1.16.0)\n",
      "\n"
     ]
    },
    {
     "name": "stderr",
     "output_type": "stream",
     "text": [
      "\n",
      "[notice] A new release of pip is available: 23.3.1 -> 23.3.2\n",
      "[notice] To update, run: python.exe -m pip install --upgrade pip\n"
     ]
    }
   ],
   "source": [
    "pip install Faker"
   ]
  },
  {
   "cell_type": "code",
   "execution_count": 37,
   "metadata": {},
   "outputs": [],
   "source": [
    "import pandas as pd\n",
    "import numpy as np\n",
    "from faker import Faker"
   ]
  },
  {
   "cell_type": "code",
   "execution_count": 38,
   "metadata": {},
   "outputs": [],
   "source": [
    "fake = Faker()"
   ]
  },
  {
   "cell_type": "code",
   "execution_count": 64,
   "metadata": {},
   "outputs": [],
   "source": [
    "import datetime\n",
    "start_date = datetime.date(year=2022, month=1, day=1)\n",
    "end_date = datetime.date(year=2023, month=12, day=26)"
   ]
  },
  {
   "cell_type": "code",
   "execution_count": 65,
   "metadata": {},
   "outputs": [],
   "source": [
    "datas = []\n",
    "for x in range(2217):\n",
    "    datas.append(fake.date_between_dates(start_date, end_date))"
   ]
  },
  {
   "cell_type": "code",
   "execution_count": 66,
   "metadata": {},
   "outputs": [
    {
     "name": "stdout",
     "output_type": "stream",
     "text": [
      "[datetime.date(2022, 3, 31), datetime.date(2022, 8, 3), datetime.date(2022, 8, 4), datetime.date(2022, 1, 14), datetime.date(2023, 8, 20), datetime.date(2022, 2, 13), datetime.date(2022, 9, 8), datetime.date(2023, 8, 20), datetime.date(2023, 3, 5), datetime.date(2023, 7, 7), datetime.date(2023, 3, 14), datetime.date(2022, 5, 17), datetime.date(2022, 3, 5), datetime.date(2022, 5, 21), datetime.date(2023, 10, 9), datetime.date(2023, 11, 20), datetime.date(2022, 8, 11), datetime.date(2022, 6, 25), datetime.date(2023, 5, 19), datetime.date(2022, 5, 23), datetime.date(2022, 6, 5), datetime.date(2023, 2, 1), datetime.date(2022, 6, 28), datetime.date(2023, 7, 29), datetime.date(2023, 12, 23), datetime.date(2022, 11, 15), datetime.date(2023, 12, 8), datetime.date(2023, 9, 25), datetime.date(2023, 4, 2), datetime.date(2022, 11, 17), datetime.date(2023, 5, 6), datetime.date(2023, 12, 6), datetime.date(2022, 1, 22), datetime.date(2023, 6, 9), datetime.date(2023, 2, 19), datetime.date(2022, 1, 10), datetime.date(2022, 4, 14), datetime.date(2023, 7, 15), datetime.date(2023, 3, 24), datetime.date(2022, 5, 3), datetime.date(2022, 5, 5), datetime.date(2023, 6, 28), datetime.date(2022, 9, 19), datetime.date(2022, 4, 13), datetime.date(2023, 1, 13), datetime.date(2022, 6, 8), datetime.date(2023, 11, 6), datetime.date(2023, 7, 18), datetime.date(2023, 8, 13), datetime.date(2022, 2, 28), datetime.date(2022, 4, 19), datetime.date(2022, 9, 28), datetime.date(2023, 8, 10), datetime.date(2022, 10, 29), datetime.date(2023, 8, 5), datetime.date(2022, 12, 1), datetime.date(2023, 4, 21), datetime.date(2023, 11, 7), datetime.date(2023, 6, 12), datetime.date(2022, 8, 20), datetime.date(2023, 5, 9), datetime.date(2023, 4, 7), datetime.date(2023, 5, 1), datetime.date(2023, 8, 2), datetime.date(2023, 6, 13), datetime.date(2022, 10, 30), datetime.date(2022, 12, 18), datetime.date(2022, 10, 31), datetime.date(2023, 1, 27), datetime.date(2023, 11, 6), datetime.date(2022, 8, 26), datetime.date(2023, 2, 17), datetime.date(2022, 5, 28), datetime.date(2023, 6, 2), datetime.date(2022, 2, 25), datetime.date(2023, 9, 12), datetime.date(2022, 9, 28), datetime.date(2022, 5, 10), datetime.date(2022, 10, 15), datetime.date(2022, 3, 9), datetime.date(2023, 7, 20), datetime.date(2022, 7, 31), datetime.date(2022, 9, 27), datetime.date(2023, 7, 6), datetime.date(2022, 10, 14), datetime.date(2022, 12, 23), datetime.date(2023, 9, 19), datetime.date(2023, 6, 10), datetime.date(2022, 7, 29), datetime.date(2022, 4, 20), datetime.date(2023, 7, 10), datetime.date(2022, 11, 1), datetime.date(2023, 2, 28), datetime.date(2023, 4, 21), datetime.date(2022, 5, 19), datetime.date(2022, 12, 20), datetime.date(2023, 3, 19), datetime.date(2023, 3, 31), datetime.date(2022, 2, 10), datetime.date(2023, 11, 7), datetime.date(2022, 1, 6), datetime.date(2022, 7, 11), datetime.date(2022, 4, 3), datetime.date(2023, 10, 13), datetime.date(2023, 6, 25), datetime.date(2022, 10, 9), datetime.date(2023, 3, 30), datetime.date(2022, 5, 26), datetime.date(2022, 6, 12), datetime.date(2023, 5, 20), datetime.date(2022, 12, 18), datetime.date(2022, 8, 4), datetime.date(2022, 7, 11), datetime.date(2023, 8, 25), datetime.date(2022, 3, 4), datetime.date(2023, 5, 31), datetime.date(2022, 1, 18), datetime.date(2023, 7, 9), datetime.date(2022, 4, 16), datetime.date(2023, 12, 2), datetime.date(2023, 10, 18), datetime.date(2022, 11, 29), datetime.date(2022, 2, 6), datetime.date(2023, 10, 16), datetime.date(2023, 10, 29), datetime.date(2022, 8, 26), datetime.date(2023, 11, 30), datetime.date(2023, 3, 12), datetime.date(2022, 11, 19), datetime.date(2022, 8, 21), datetime.date(2023, 2, 25), datetime.date(2022, 1, 22), datetime.date(2023, 4, 24), datetime.date(2023, 3, 29), datetime.date(2023, 8, 31), datetime.date(2023, 7, 13), datetime.date(2023, 6, 2), datetime.date(2023, 12, 16), datetime.date(2023, 5, 2), datetime.date(2023, 7, 15), datetime.date(2023, 1, 9), datetime.date(2023, 4, 23), datetime.date(2023, 2, 23), datetime.date(2022, 2, 8), datetime.date(2023, 10, 3), datetime.date(2023, 7, 2), datetime.date(2023, 8, 6), datetime.date(2023, 3, 12), datetime.date(2023, 11, 11), datetime.date(2023, 10, 4), datetime.date(2023, 5, 13), datetime.date(2023, 8, 27), datetime.date(2022, 1, 10), datetime.date(2022, 10, 14), datetime.date(2023, 8, 20), datetime.date(2023, 6, 22), datetime.date(2022, 12, 30), datetime.date(2023, 6, 3), datetime.date(2023, 12, 19), datetime.date(2022, 8, 11), datetime.date(2023, 4, 6), datetime.date(2022, 12, 8), datetime.date(2022, 10, 22), datetime.date(2023, 8, 6), datetime.date(2023, 3, 6), datetime.date(2022, 6, 17), datetime.date(2022, 6, 26), datetime.date(2022, 11, 1), datetime.date(2022, 9, 18), datetime.date(2023, 7, 19), datetime.date(2022, 4, 14), datetime.date(2023, 5, 28), datetime.date(2023, 8, 3), datetime.date(2022, 9, 25), datetime.date(2022, 1, 4), datetime.date(2022, 3, 31), datetime.date(2023, 10, 26), datetime.date(2023, 4, 27), datetime.date(2022, 12, 7), datetime.date(2022, 6, 26), datetime.date(2023, 2, 20), datetime.date(2023, 7, 27), datetime.date(2022, 7, 4), datetime.date(2023, 5, 14), datetime.date(2023, 3, 2), datetime.date(2023, 10, 15), datetime.date(2022, 6, 18), datetime.date(2022, 3, 11), datetime.date(2023, 6, 19), datetime.date(2022, 12, 25), datetime.date(2022, 8, 8), datetime.date(2023, 5, 13), datetime.date(2022, 6, 24), datetime.date(2022, 10, 25), datetime.date(2022, 1, 9), datetime.date(2023, 1, 22), datetime.date(2023, 2, 27), datetime.date(2022, 3, 12), datetime.date(2023, 7, 26), datetime.date(2023, 2, 25), datetime.date(2022, 10, 24), datetime.date(2023, 7, 16), datetime.date(2023, 1, 31), datetime.date(2022, 3, 11), datetime.date(2023, 9, 21), datetime.date(2022, 9, 13), datetime.date(2022, 12, 10), datetime.date(2023, 2, 5), datetime.date(2023, 6, 15), datetime.date(2023, 6, 26), datetime.date(2023, 3, 9), datetime.date(2023, 1, 11), datetime.date(2023, 12, 3), datetime.date(2022, 4, 30), datetime.date(2023, 5, 5), datetime.date(2022, 1, 23), datetime.date(2022, 2, 19), datetime.date(2022, 1, 31), datetime.date(2022, 4, 11), datetime.date(2023, 12, 9), datetime.date(2022, 5, 20), datetime.date(2022, 9, 20), datetime.date(2022, 5, 24), datetime.date(2023, 10, 23), datetime.date(2023, 7, 6), datetime.date(2023, 1, 19), datetime.date(2023, 10, 4), datetime.date(2023, 6, 9), datetime.date(2023, 6, 20), datetime.date(2022, 9, 26), datetime.date(2023, 10, 8), datetime.date(2022, 6, 4), datetime.date(2023, 7, 20), datetime.date(2022, 10, 29), datetime.date(2023, 10, 7), datetime.date(2023, 9, 3), datetime.date(2023, 10, 16), datetime.date(2022, 10, 10), datetime.date(2023, 10, 21), datetime.date(2022, 4, 21), datetime.date(2022, 7, 27), datetime.date(2023, 11, 10), datetime.date(2023, 4, 18), datetime.date(2022, 10, 23), datetime.date(2023, 3, 23), datetime.date(2022, 2, 23), datetime.date(2023, 3, 2), datetime.date(2023, 2, 4), datetime.date(2023, 9, 1), datetime.date(2022, 5, 9), datetime.date(2022, 11, 17), datetime.date(2022, 5, 1), datetime.date(2022, 2, 8), datetime.date(2022, 12, 16), datetime.date(2023, 9, 16), datetime.date(2022, 5, 13), datetime.date(2023, 9, 5), datetime.date(2023, 8, 31), datetime.date(2023, 4, 27), datetime.date(2023, 5, 5), datetime.date(2023, 5, 11), datetime.date(2023, 3, 17), datetime.date(2022, 7, 7), datetime.date(2023, 9, 6), datetime.date(2022, 6, 4), datetime.date(2022, 10, 31), datetime.date(2022, 11, 16), datetime.date(2023, 1, 24), datetime.date(2022, 1, 3), datetime.date(2022, 7, 23), datetime.date(2023, 5, 18), datetime.date(2023, 1, 18), datetime.date(2022, 7, 11), datetime.date(2022, 9, 30), datetime.date(2022, 1, 18), datetime.date(2022, 9, 14), datetime.date(2023, 6, 8), datetime.date(2023, 2, 17), datetime.date(2022, 2, 13), datetime.date(2022, 12, 2), datetime.date(2022, 2, 21), datetime.date(2022, 1, 16), datetime.date(2023, 8, 31), datetime.date(2023, 10, 1), datetime.date(2023, 2, 26), datetime.date(2022, 2, 27), datetime.date(2022, 7, 10), datetime.date(2022, 10, 10), datetime.date(2023, 4, 11), datetime.date(2022, 1, 9), datetime.date(2023, 9, 26), datetime.date(2022, 7, 10), datetime.date(2022, 2, 4), datetime.date(2023, 1, 23), datetime.date(2022, 12, 24), datetime.date(2023, 8, 30), datetime.date(2023, 4, 18), datetime.date(2023, 9, 12), datetime.date(2022, 7, 19), datetime.date(2022, 8, 27), datetime.date(2022, 6, 30), datetime.date(2022, 4, 27), datetime.date(2022, 4, 21), datetime.date(2022, 3, 13), datetime.date(2023, 2, 25), datetime.date(2023, 6, 5), datetime.date(2023, 2, 18), datetime.date(2023, 3, 31), datetime.date(2022, 12, 15), datetime.date(2023, 5, 28), datetime.date(2023, 8, 10), datetime.date(2023, 8, 6), datetime.date(2022, 7, 16), datetime.date(2023, 12, 22), datetime.date(2023, 2, 8), datetime.date(2023, 1, 31), datetime.date(2023, 6, 7), datetime.date(2023, 7, 30), datetime.date(2022, 3, 23), datetime.date(2023, 6, 11), datetime.date(2023, 1, 30), datetime.date(2023, 12, 11), datetime.date(2022, 7, 15), datetime.date(2023, 8, 10), datetime.date(2023, 2, 11), datetime.date(2023, 5, 6), datetime.date(2022, 10, 30), datetime.date(2022, 3, 5), datetime.date(2023, 6, 9), datetime.date(2022, 5, 6), datetime.date(2023, 5, 5), datetime.date(2022, 1, 15), datetime.date(2022, 7, 15), datetime.date(2023, 3, 18), datetime.date(2022, 9, 7), datetime.date(2023, 10, 10), datetime.date(2022, 4, 30), datetime.date(2023, 3, 18), datetime.date(2023, 11, 16), datetime.date(2022, 10, 19), datetime.date(2022, 6, 9), datetime.date(2023, 2, 19), datetime.date(2022, 12, 30), datetime.date(2022, 1, 21), datetime.date(2022, 5, 3), datetime.date(2022, 2, 14), datetime.date(2022, 4, 1), datetime.date(2022, 4, 11), datetime.date(2023, 6, 26), datetime.date(2023, 12, 10), datetime.date(2022, 2, 24), datetime.date(2023, 1, 29), datetime.date(2023, 4, 23), datetime.date(2022, 8, 13), datetime.date(2022, 6, 22), datetime.date(2023, 1, 22), datetime.date(2022, 11, 18), datetime.date(2023, 6, 14), datetime.date(2023, 10, 18), datetime.date(2023, 6, 7), datetime.date(2023, 7, 3), datetime.date(2023, 7, 22), datetime.date(2023, 9, 28), datetime.date(2022, 6, 1), datetime.date(2023, 5, 9), datetime.date(2022, 3, 18), datetime.date(2023, 5, 31), datetime.date(2023, 12, 22), datetime.date(2022, 2, 13), datetime.date(2022, 4, 19), datetime.date(2023, 4, 17), datetime.date(2022, 10, 20), datetime.date(2022, 1, 9), datetime.date(2023, 6, 8), datetime.date(2022, 6, 16), datetime.date(2023, 4, 28), datetime.date(2023, 5, 1), datetime.date(2022, 11, 2), datetime.date(2023, 10, 25), datetime.date(2022, 5, 23), datetime.date(2023, 5, 29), datetime.date(2022, 1, 23), datetime.date(2022, 3, 12), datetime.date(2022, 7, 5), datetime.date(2023, 5, 4), datetime.date(2023, 11, 29), datetime.date(2022, 9, 22), datetime.date(2023, 9, 3), datetime.date(2023, 2, 28), datetime.date(2023, 7, 31), datetime.date(2022, 12, 22), datetime.date(2023, 3, 1), datetime.date(2022, 4, 17), datetime.date(2022, 4, 6), datetime.date(2022, 10, 27), datetime.date(2022, 9, 5), datetime.date(2022, 7, 6), datetime.date(2022, 9, 10), datetime.date(2023, 6, 23), datetime.date(2023, 4, 27), datetime.date(2022, 6, 28), datetime.date(2022, 8, 15), datetime.date(2022, 11, 20), datetime.date(2023, 10, 2), datetime.date(2022, 5, 10), datetime.date(2022, 12, 7), datetime.date(2022, 11, 9), datetime.date(2022, 7, 22), datetime.date(2022, 3, 5), datetime.date(2022, 7, 14), datetime.date(2023, 12, 24), datetime.date(2022, 11, 19), datetime.date(2022, 2, 8), datetime.date(2022, 8, 17), datetime.date(2023, 10, 1), datetime.date(2023, 12, 21), datetime.date(2022, 10, 21), datetime.date(2023, 1, 5), datetime.date(2022, 11, 22), datetime.date(2023, 10, 26), datetime.date(2022, 3, 24), datetime.date(2023, 3, 14), datetime.date(2023, 1, 25), datetime.date(2023, 9, 21), datetime.date(2023, 4, 21), datetime.date(2022, 11, 5), datetime.date(2023, 12, 5), datetime.date(2023, 8, 10), datetime.date(2023, 11, 16), datetime.date(2022, 12, 26), datetime.date(2023, 12, 19), datetime.date(2023, 7, 5), datetime.date(2022, 7, 6), datetime.date(2023, 9, 30), datetime.date(2022, 8, 12), datetime.date(2023, 10, 14), datetime.date(2023, 8, 22), datetime.date(2023, 12, 7), datetime.date(2022, 4, 6), datetime.date(2023, 7, 21), datetime.date(2023, 3, 21), datetime.date(2023, 2, 13), datetime.date(2022, 4, 2), datetime.date(2023, 3, 18), datetime.date(2023, 1, 4), datetime.date(2022, 8, 18), datetime.date(2023, 1, 20), datetime.date(2022, 3, 17), datetime.date(2022, 2, 10), datetime.date(2023, 1, 25), datetime.date(2022, 4, 21), datetime.date(2023, 4, 11), datetime.date(2023, 5, 24), datetime.date(2022, 8, 2), datetime.date(2022, 6, 16), datetime.date(2022, 4, 13), datetime.date(2023, 8, 28), datetime.date(2022, 11, 12), datetime.date(2023, 4, 24), datetime.date(2022, 10, 5), datetime.date(2023, 8, 3), datetime.date(2022, 9, 11), datetime.date(2023, 8, 31), datetime.date(2023, 11, 26), datetime.date(2022, 8, 7), datetime.date(2023, 5, 1), datetime.date(2022, 11, 24), datetime.date(2023, 2, 10), datetime.date(2023, 10, 18), datetime.date(2023, 1, 1), datetime.date(2022, 10, 31), datetime.date(2023, 5, 30), datetime.date(2022, 8, 28), datetime.date(2022, 10, 15), datetime.date(2022, 2, 19), datetime.date(2023, 7, 9), datetime.date(2022, 2, 15), datetime.date(2023, 1, 7), datetime.date(2022, 11, 7), datetime.date(2023, 11, 12), datetime.date(2023, 11, 12), datetime.date(2022, 4, 15), datetime.date(2023, 3, 17), datetime.date(2023, 6, 22), datetime.date(2022, 10, 19), datetime.date(2022, 9, 26), datetime.date(2022, 12, 30), datetime.date(2022, 9, 22), datetime.date(2023, 10, 24), datetime.date(2023, 2, 28), datetime.date(2023, 9, 20), datetime.date(2022, 10, 17), datetime.date(2022, 1, 10), datetime.date(2022, 8, 10), datetime.date(2023, 1, 6), datetime.date(2022, 8, 30), datetime.date(2022, 10, 21), datetime.date(2023, 12, 22), datetime.date(2023, 9, 14), datetime.date(2022, 9, 20), datetime.date(2023, 6, 3), datetime.date(2022, 3, 18), datetime.date(2022, 1, 28), datetime.date(2023, 5, 19), datetime.date(2023, 6, 21), datetime.date(2023, 8, 23), datetime.date(2023, 10, 4), datetime.date(2023, 7, 5), datetime.date(2022, 1, 13), datetime.date(2023, 4, 15), datetime.date(2022, 12, 30), datetime.date(2023, 1, 22), datetime.date(2022, 4, 25), datetime.date(2023, 11, 28), datetime.date(2023, 12, 4), datetime.date(2023, 1, 24), datetime.date(2023, 4, 17), datetime.date(2023, 8, 13), datetime.date(2022, 1, 3), datetime.date(2023, 6, 5), datetime.date(2022, 11, 4), datetime.date(2023, 9, 10), datetime.date(2023, 7, 26), datetime.date(2023, 10, 28), datetime.date(2023, 4, 7), datetime.date(2022, 3, 9), datetime.date(2022, 7, 12), datetime.date(2022, 12, 20), datetime.date(2023, 9, 12), datetime.date(2023, 4, 19), datetime.date(2022, 3, 17), datetime.date(2022, 1, 28), datetime.date(2023, 11, 5), datetime.date(2022, 8, 8), datetime.date(2022, 9, 16), datetime.date(2023, 12, 2), datetime.date(2023, 3, 3), datetime.date(2023, 12, 15), datetime.date(2023, 10, 15), datetime.date(2023, 8, 25), datetime.date(2022, 2, 20), datetime.date(2023, 5, 19), datetime.date(2022, 2, 20), datetime.date(2022, 3, 5), datetime.date(2022, 8, 3), datetime.date(2023, 2, 5), datetime.date(2023, 7, 8), datetime.date(2023, 10, 23), datetime.date(2023, 2, 14), datetime.date(2023, 9, 6), datetime.date(2023, 2, 11), datetime.date(2023, 7, 12), datetime.date(2022, 8, 6), datetime.date(2023, 4, 18), datetime.date(2022, 4, 3), datetime.date(2022, 3, 11), datetime.date(2023, 1, 30), datetime.date(2022, 2, 26), datetime.date(2023, 11, 9), datetime.date(2023, 7, 29), datetime.date(2023, 1, 18), datetime.date(2023, 5, 26), datetime.date(2022, 11, 16), datetime.date(2023, 10, 13), datetime.date(2022, 8, 23), datetime.date(2022, 7, 7), datetime.date(2022, 3, 7), datetime.date(2023, 10, 2), datetime.date(2022, 7, 22), datetime.date(2022, 7, 27), datetime.date(2023, 5, 6), datetime.date(2023, 10, 15), datetime.date(2023, 5, 21), datetime.date(2022, 1, 10), datetime.date(2023, 11, 19), datetime.date(2023, 2, 11), datetime.date(2022, 11, 8), datetime.date(2023, 12, 7), datetime.date(2023, 7, 24), datetime.date(2022, 10, 17), datetime.date(2022, 6, 5), datetime.date(2023, 4, 3), datetime.date(2023, 11, 18), datetime.date(2023, 9, 27), datetime.date(2022, 4, 9), datetime.date(2023, 1, 26), datetime.date(2023, 1, 15), datetime.date(2022, 1, 2), datetime.date(2022, 12, 16), datetime.date(2022, 12, 8), datetime.date(2023, 12, 3), datetime.date(2022, 7, 28), datetime.date(2023, 7, 19), datetime.date(2023, 8, 6), datetime.date(2022, 10, 26), datetime.date(2022, 8, 21), datetime.date(2023, 11, 11), datetime.date(2022, 9, 10), datetime.date(2022, 12, 23), datetime.date(2023, 11, 4), datetime.date(2022, 4, 13), datetime.date(2022, 10, 14), datetime.date(2023, 9, 7), datetime.date(2023, 2, 11), datetime.date(2022, 4, 1), datetime.date(2023, 12, 19), datetime.date(2022, 2, 20), datetime.date(2022, 12, 25), datetime.date(2023, 11, 6), datetime.date(2022, 1, 23), datetime.date(2023, 6, 24), datetime.date(2022, 3, 27), datetime.date(2022, 12, 11), datetime.date(2023, 12, 16), datetime.date(2023, 1, 12), datetime.date(2022, 5, 13), datetime.date(2022, 7, 20), datetime.date(2022, 1, 5), datetime.date(2022, 9, 8), datetime.date(2023, 7, 9), datetime.date(2022, 10, 7), datetime.date(2023, 9, 14), datetime.date(2023, 9, 19), datetime.date(2023, 10, 30), datetime.date(2022, 2, 25), datetime.date(2022, 2, 25), datetime.date(2023, 8, 20), datetime.date(2023, 10, 30), datetime.date(2022, 4, 12), datetime.date(2023, 9, 9), datetime.date(2023, 7, 13), datetime.date(2022, 1, 25), datetime.date(2023, 9, 2), datetime.date(2023, 6, 19), datetime.date(2022, 6, 30), datetime.date(2022, 5, 10), datetime.date(2022, 2, 13), datetime.date(2022, 9, 20), datetime.date(2022, 7, 6), datetime.date(2022, 6, 29), datetime.date(2022, 9, 13), datetime.date(2023, 5, 27), datetime.date(2022, 3, 10), datetime.date(2023, 12, 1), datetime.date(2022, 6, 2), datetime.date(2023, 5, 4), datetime.date(2022, 9, 23), datetime.date(2023, 1, 31), datetime.date(2023, 7, 7), datetime.date(2023, 6, 17), datetime.date(2022, 7, 11), datetime.date(2022, 9, 12), datetime.date(2023, 8, 23), datetime.date(2023, 7, 15), datetime.date(2023, 6, 8), datetime.date(2022, 5, 20), datetime.date(2023, 2, 2), datetime.date(2023, 1, 2), datetime.date(2022, 8, 4), datetime.date(2023, 4, 30), datetime.date(2022, 4, 7), datetime.date(2022, 11, 7), datetime.date(2023, 9, 25), datetime.date(2022, 5, 2), datetime.date(2022, 10, 3), datetime.date(2022, 2, 11), datetime.date(2022, 11, 27), datetime.date(2023, 8, 22), datetime.date(2023, 6, 26), datetime.date(2023, 5, 16), datetime.date(2023, 11, 14), datetime.date(2023, 9, 26), datetime.date(2022, 2, 21), datetime.date(2023, 8, 28), datetime.date(2023, 3, 27), datetime.date(2022, 12, 4), datetime.date(2022, 8, 16), datetime.date(2022, 8, 28), datetime.date(2022, 5, 7), datetime.date(2022, 2, 6), datetime.date(2023, 3, 22), datetime.date(2023, 10, 14), datetime.date(2022, 11, 7), datetime.date(2022, 10, 4), datetime.date(2022, 2, 10), datetime.date(2023, 4, 30), datetime.date(2023, 10, 19), datetime.date(2022, 2, 15), datetime.date(2023, 9, 25), datetime.date(2022, 3, 22), datetime.date(2022, 1, 25), datetime.date(2022, 6, 21), datetime.date(2023, 3, 20), datetime.date(2023, 6, 27), datetime.date(2023, 10, 31), datetime.date(2022, 4, 18), datetime.date(2023, 12, 16), datetime.date(2022, 3, 26), datetime.date(2023, 7, 26), datetime.date(2023, 10, 8), datetime.date(2022, 6, 26), datetime.date(2023, 1, 19), datetime.date(2022, 12, 22), datetime.date(2023, 11, 21), datetime.date(2023, 4, 18), datetime.date(2023, 7, 5), datetime.date(2023, 1, 9), datetime.date(2022, 2, 7), datetime.date(2022, 5, 16), datetime.date(2022, 5, 3), datetime.date(2023, 1, 29), datetime.date(2023, 12, 20), datetime.date(2023, 6, 24), datetime.date(2023, 2, 25), datetime.date(2022, 8, 6), datetime.date(2022, 2, 6), datetime.date(2023, 5, 29), datetime.date(2023, 3, 10), datetime.date(2023, 6, 4), datetime.date(2022, 4, 17), datetime.date(2022, 4, 23), datetime.date(2022, 4, 2), datetime.date(2022, 11, 19), datetime.date(2023, 4, 3), datetime.date(2022, 3, 27), datetime.date(2022, 8, 5), datetime.date(2022, 9, 8), datetime.date(2023, 11, 11), datetime.date(2022, 12, 19), datetime.date(2022, 10, 11), datetime.date(2023, 11, 9), datetime.date(2022, 9, 3), datetime.date(2022, 7, 6), datetime.date(2023, 3, 25), datetime.date(2022, 3, 6), datetime.date(2023, 9, 13), datetime.date(2022, 12, 9), datetime.date(2022, 12, 26), datetime.date(2022, 12, 18), datetime.date(2022, 8, 10), datetime.date(2022, 4, 22), datetime.date(2022, 9, 21), datetime.date(2023, 5, 21), datetime.date(2023, 1, 4), datetime.date(2023, 8, 22), datetime.date(2022, 4, 21), datetime.date(2023, 9, 17), datetime.date(2023, 11, 25), datetime.date(2023, 12, 1), datetime.date(2022, 8, 29), datetime.date(2023, 6, 20), datetime.date(2022, 7, 18), datetime.date(2022, 4, 27), datetime.date(2022, 6, 27), datetime.date(2023, 7, 17), datetime.date(2023, 12, 14), datetime.date(2022, 7, 6), datetime.date(2022, 9, 23), datetime.date(2022, 1, 11), datetime.date(2022, 12, 7), datetime.date(2022, 3, 9), datetime.date(2022, 1, 20), datetime.date(2023, 11, 4), datetime.date(2023, 8, 27), datetime.date(2022, 12, 10), datetime.date(2022, 3, 7), datetime.date(2022, 2, 26), datetime.date(2023, 8, 20), datetime.date(2023, 1, 24), datetime.date(2022, 10, 28), datetime.date(2023, 11, 6), datetime.date(2022, 7, 11), datetime.date(2023, 12, 12), datetime.date(2022, 11, 5), datetime.date(2023, 7, 20), datetime.date(2022, 12, 29), datetime.date(2022, 5, 18), datetime.date(2022, 9, 14), datetime.date(2023, 5, 31), datetime.date(2022, 2, 2), datetime.date(2022, 1, 15), datetime.date(2022, 12, 10), datetime.date(2022, 12, 18), datetime.date(2023, 12, 4), datetime.date(2023, 2, 8), datetime.date(2022, 1, 19), datetime.date(2022, 6, 11), datetime.date(2023, 6, 5), datetime.date(2022, 5, 9), datetime.date(2023, 2, 16), datetime.date(2023, 11, 13), datetime.date(2023, 2, 8), datetime.date(2022, 3, 17), datetime.date(2022, 2, 9), datetime.date(2022, 6, 19), datetime.date(2023, 1, 13), datetime.date(2022, 9, 14), datetime.date(2022, 12, 9), datetime.date(2022, 10, 27), datetime.date(2023, 4, 24), datetime.date(2023, 11, 18), datetime.date(2023, 5, 18), datetime.date(2022, 3, 9), datetime.date(2022, 9, 12), datetime.date(2022, 5, 3), datetime.date(2023, 2, 9), datetime.date(2022, 8, 14), datetime.date(2023, 6, 16), datetime.date(2022, 12, 15), datetime.date(2023, 2, 19), datetime.date(2022, 11, 15), datetime.date(2023, 7, 19), datetime.date(2023, 3, 10), datetime.date(2023, 12, 16), datetime.date(2023, 5, 26), datetime.date(2022, 5, 19), datetime.date(2022, 7, 28), datetime.date(2022, 2, 9), datetime.date(2023, 10, 22), datetime.date(2022, 6, 13), datetime.date(2022, 2, 21), datetime.date(2022, 9, 2), datetime.date(2023, 12, 5), datetime.date(2023, 8, 25), datetime.date(2022, 10, 9), datetime.date(2023, 11, 16), datetime.date(2023, 10, 20), datetime.date(2023, 1, 24), datetime.date(2023, 4, 9), datetime.date(2022, 12, 13), datetime.date(2023, 7, 26), datetime.date(2022, 3, 13), datetime.date(2022, 9, 7), datetime.date(2022, 10, 28), datetime.date(2023, 9, 21), datetime.date(2022, 1, 18), datetime.date(2022, 4, 25), datetime.date(2023, 8, 19), datetime.date(2023, 3, 3), datetime.date(2023, 2, 2), datetime.date(2023, 2, 25), datetime.date(2023, 9, 12), datetime.date(2022, 3, 28), datetime.date(2023, 5, 6), datetime.date(2022, 11, 21), datetime.date(2023, 5, 30), datetime.date(2023, 6, 21), datetime.date(2022, 7, 10), datetime.date(2022, 7, 21), datetime.date(2022, 7, 1), datetime.date(2023, 6, 9), datetime.date(2022, 12, 17), datetime.date(2022, 7, 20), datetime.date(2022, 3, 30), datetime.date(2022, 1, 21), datetime.date(2023, 10, 23), datetime.date(2023, 11, 5), datetime.date(2022, 8, 23), datetime.date(2022, 9, 29), datetime.date(2022, 11, 16), datetime.date(2022, 9, 20), datetime.date(2022, 3, 10), datetime.date(2022, 12, 28), datetime.date(2022, 11, 14), datetime.date(2022, 2, 25), datetime.date(2022, 11, 26), datetime.date(2022, 12, 22), datetime.date(2023, 7, 1), datetime.date(2023, 7, 13), datetime.date(2022, 6, 15), datetime.date(2023, 10, 17), datetime.date(2022, 10, 8), datetime.date(2023, 2, 6), datetime.date(2023, 6, 1), datetime.date(2023, 4, 12), datetime.date(2023, 5, 21), datetime.date(2023, 5, 11), datetime.date(2023, 11, 14), datetime.date(2023, 3, 11), datetime.date(2023, 10, 10), datetime.date(2022, 4, 28), datetime.date(2022, 11, 18), datetime.date(2023, 7, 20), datetime.date(2022, 6, 22), datetime.date(2022, 1, 31), datetime.date(2023, 1, 6), datetime.date(2023, 8, 28), datetime.date(2023, 10, 19), datetime.date(2023, 9, 15), datetime.date(2023, 6, 10), datetime.date(2022, 12, 3), datetime.date(2023, 3, 10), datetime.date(2023, 9, 8), datetime.date(2022, 11, 4), datetime.date(2023, 9, 8), datetime.date(2022, 6, 12), datetime.date(2023, 9, 19), datetime.date(2023, 5, 13), datetime.date(2023, 1, 12), datetime.date(2023, 4, 16), datetime.date(2023, 8, 9), datetime.date(2023, 2, 18), datetime.date(2023, 6, 17), datetime.date(2023, 7, 8), datetime.date(2022, 6, 1), datetime.date(2023, 6, 8), datetime.date(2022, 9, 19), datetime.date(2022, 1, 7), datetime.date(2023, 11, 28), datetime.date(2022, 3, 28), datetime.date(2022, 7, 28), datetime.date(2022, 11, 7), datetime.date(2022, 7, 1), datetime.date(2022, 9, 16), datetime.date(2022, 5, 6), datetime.date(2022, 8, 16), datetime.date(2022, 6, 14), datetime.date(2023, 6, 19), datetime.date(2022, 8, 11), datetime.date(2022, 3, 17), datetime.date(2022, 10, 7), datetime.date(2022, 11, 30), datetime.date(2023, 9, 1), datetime.date(2022, 2, 9), datetime.date(2023, 10, 26), datetime.date(2022, 6, 5), datetime.date(2022, 7, 1), datetime.date(2023, 9, 9), datetime.date(2022, 5, 5), datetime.date(2023, 10, 4), datetime.date(2022, 5, 1), datetime.date(2022, 3, 29), datetime.date(2023, 7, 3), datetime.date(2023, 6, 2), datetime.date(2023, 9, 18), datetime.date(2023, 2, 1), datetime.date(2022, 7, 11), datetime.date(2022, 5, 19), datetime.date(2023, 6, 22), datetime.date(2022, 6, 26), datetime.date(2022, 7, 9), datetime.date(2023, 8, 28), datetime.date(2022, 8, 21), datetime.date(2022, 8, 17), datetime.date(2023, 8, 13), datetime.date(2022, 10, 6), datetime.date(2023, 7, 22), datetime.date(2023, 7, 4), datetime.date(2023, 1, 27), datetime.date(2023, 1, 5), datetime.date(2023, 9, 30), datetime.date(2022, 10, 31), datetime.date(2022, 2, 19), datetime.date(2023, 3, 15), datetime.date(2022, 4, 15), datetime.date(2023, 3, 11), datetime.date(2023, 2, 24), datetime.date(2022, 9, 4), datetime.date(2023, 6, 29), datetime.date(2023, 12, 7), datetime.date(2023, 12, 11), datetime.date(2023, 1, 10), datetime.date(2022, 11, 21), datetime.date(2022, 8, 11), datetime.date(2022, 3, 13), datetime.date(2022, 1, 9), datetime.date(2022, 12, 9), datetime.date(2022, 7, 19), datetime.date(2023, 5, 19), datetime.date(2023, 7, 10), datetime.date(2022, 10, 11), datetime.date(2023, 6, 10), datetime.date(2022, 9, 12), datetime.date(2023, 11, 28), datetime.date(2022, 9, 23), datetime.date(2023, 12, 7), datetime.date(2023, 6, 13), datetime.date(2023, 8, 12), datetime.date(2023, 8, 29), datetime.date(2023, 2, 27), datetime.date(2023, 1, 4), datetime.date(2022, 2, 26), datetime.date(2022, 5, 11), datetime.date(2022, 10, 5), datetime.date(2023, 3, 15), datetime.date(2023, 9, 11), datetime.date(2022, 5, 10), datetime.date(2023, 6, 30), datetime.date(2023, 3, 10), datetime.date(2022, 11, 19), datetime.date(2023, 5, 4), datetime.date(2022, 7, 7), datetime.date(2022, 3, 20), datetime.date(2023, 11, 19), datetime.date(2023, 8, 31), datetime.date(2022, 12, 31), datetime.date(2022, 3, 13), datetime.date(2022, 2, 25), datetime.date(2023, 7, 11), datetime.date(2023, 2, 28), datetime.date(2023, 10, 24), datetime.date(2023, 3, 21), datetime.date(2023, 10, 17), datetime.date(2022, 6, 9), datetime.date(2023, 8, 2), datetime.date(2022, 11, 19), datetime.date(2022, 9, 10), datetime.date(2022, 9, 4), datetime.date(2022, 4, 16), datetime.date(2022, 8, 11), datetime.date(2023, 10, 6), datetime.date(2022, 12, 26), datetime.date(2023, 12, 11), datetime.date(2022, 2, 27), datetime.date(2022, 2, 26), datetime.date(2023, 3, 19), datetime.date(2022, 5, 30), datetime.date(2022, 4, 5), datetime.date(2022, 10, 4), datetime.date(2023, 12, 16), datetime.date(2022, 11, 12), datetime.date(2023, 4, 20), datetime.date(2022, 8, 26), datetime.date(2023, 8, 21), datetime.date(2023, 8, 25), datetime.date(2023, 2, 10), datetime.date(2022, 1, 15), datetime.date(2022, 8, 25), datetime.date(2023, 11, 26), datetime.date(2023, 5, 17), datetime.date(2022, 9, 13), datetime.date(2023, 11, 19), datetime.date(2022, 3, 28), datetime.date(2022, 3, 26), datetime.date(2023, 3, 1), datetime.date(2022, 1, 23), datetime.date(2022, 8, 23), datetime.date(2023, 7, 19), datetime.date(2023, 7, 26), datetime.date(2023, 2, 18), datetime.date(2023, 8, 4), datetime.date(2023, 7, 31), datetime.date(2023, 6, 10), datetime.date(2023, 5, 4), datetime.date(2022, 1, 9), datetime.date(2023, 12, 10), datetime.date(2022, 12, 30), datetime.date(2022, 7, 5), datetime.date(2023, 2, 4), datetime.date(2022, 1, 13), datetime.date(2022, 10, 8), datetime.date(2023, 3, 21), datetime.date(2023, 2, 17), datetime.date(2022, 2, 18), datetime.date(2022, 12, 26), datetime.date(2023, 3, 20), datetime.date(2022, 11, 29), datetime.date(2022, 7, 22), datetime.date(2022, 3, 12), datetime.date(2023, 10, 17), datetime.date(2023, 2, 6), datetime.date(2023, 8, 16), datetime.date(2022, 12, 17), datetime.date(2023, 1, 16), datetime.date(2023, 3, 23), datetime.date(2022, 2, 14), datetime.date(2023, 6, 29), datetime.date(2023, 9, 7), datetime.date(2022, 8, 26), datetime.date(2023, 12, 4), datetime.date(2022, 11, 25), datetime.date(2022, 9, 1), datetime.date(2022, 12, 26), datetime.date(2023, 7, 2), datetime.date(2022, 10, 3), datetime.date(2022, 10, 16), datetime.date(2023, 8, 16), datetime.date(2023, 4, 18), datetime.date(2023, 7, 2), datetime.date(2023, 12, 1), datetime.date(2022, 3, 21), datetime.date(2023, 8, 18), datetime.date(2023, 12, 18), datetime.date(2022, 12, 24), datetime.date(2022, 6, 12), datetime.date(2022, 1, 13), datetime.date(2022, 7, 9), datetime.date(2022, 12, 6), datetime.date(2023, 11, 11), datetime.date(2022, 12, 5), datetime.date(2023, 4, 5), datetime.date(2022, 12, 29), datetime.date(2022, 2, 5), datetime.date(2023, 9, 9), datetime.date(2023, 1, 5), datetime.date(2023, 12, 13), datetime.date(2023, 6, 6), datetime.date(2023, 11, 30), datetime.date(2022, 8, 11), datetime.date(2023, 5, 9), datetime.date(2022, 12, 22), datetime.date(2023, 3, 15), datetime.date(2023, 2, 20), datetime.date(2022, 8, 14), datetime.date(2023, 1, 13), datetime.date(2022, 11, 14), datetime.date(2023, 9, 20), datetime.date(2022, 3, 8), datetime.date(2022, 3, 10), datetime.date(2023, 4, 5), datetime.date(2022, 7, 28), datetime.date(2023, 8, 26), datetime.date(2023, 8, 11), datetime.date(2022, 9, 28), datetime.date(2022, 9, 29), datetime.date(2022, 10, 5), datetime.date(2023, 10, 13), datetime.date(2022, 2, 23), datetime.date(2023, 12, 16), datetime.date(2023, 8, 21), datetime.date(2022, 4, 26), datetime.date(2023, 1, 8), datetime.date(2023, 3, 9), datetime.date(2022, 5, 9), datetime.date(2023, 9, 30), datetime.date(2023, 8, 19), datetime.date(2022, 3, 17), datetime.date(2022, 9, 18), datetime.date(2022, 6, 20), datetime.date(2023, 1, 15), datetime.date(2022, 5, 6), datetime.date(2023, 4, 2), datetime.date(2023, 8, 16), datetime.date(2022, 10, 9), datetime.date(2023, 3, 29), datetime.date(2023, 11, 15), datetime.date(2022, 5, 30), datetime.date(2022, 5, 24), datetime.date(2022, 7, 13), datetime.date(2022, 1, 28), datetime.date(2022, 3, 14), datetime.date(2022, 12, 30), datetime.date(2023, 3, 9), datetime.date(2022, 3, 17), datetime.date(2023, 5, 14), datetime.date(2022, 12, 18), datetime.date(2022, 7, 31), datetime.date(2023, 3, 2), datetime.date(2022, 7, 14), datetime.date(2022, 1, 27), datetime.date(2022, 6, 1), datetime.date(2022, 2, 5), datetime.date(2022, 4, 29), datetime.date(2022, 5, 21), datetime.date(2022, 4, 14), datetime.date(2023, 3, 20), datetime.date(2023, 2, 18), datetime.date(2022, 7, 23), datetime.date(2022, 10, 15), datetime.date(2023, 4, 7), datetime.date(2023, 6, 22), datetime.date(2022, 11, 26), datetime.date(2022, 8, 10), datetime.date(2022, 8, 3), datetime.date(2023, 4, 27), datetime.date(2022, 8, 8), datetime.date(2022, 10, 8), datetime.date(2023, 8, 5), datetime.date(2023, 11, 2), datetime.date(2022, 12, 3), datetime.date(2023, 9, 24), datetime.date(2023, 7, 8), datetime.date(2022, 4, 17), datetime.date(2023, 11, 29), datetime.date(2023, 7, 16), datetime.date(2022, 12, 15), datetime.date(2022, 7, 11), datetime.date(2022, 8, 10), datetime.date(2023, 8, 13), datetime.date(2022, 2, 13), datetime.date(2022, 4, 15), datetime.date(2023, 12, 18), datetime.date(2023, 11, 28), datetime.date(2023, 12, 8), datetime.date(2023, 1, 24), datetime.date(2023, 9, 30), datetime.date(2023, 5, 28), datetime.date(2023, 1, 27), datetime.date(2022, 10, 4), datetime.date(2023, 9, 27), datetime.date(2022, 3, 18), datetime.date(2023, 5, 2), datetime.date(2022, 4, 19), datetime.date(2023, 1, 16), datetime.date(2022, 2, 18), datetime.date(2023, 6, 10), datetime.date(2023, 11, 30), datetime.date(2022, 12, 24), datetime.date(2023, 2, 6), datetime.date(2022, 5, 23), datetime.date(2023, 3, 14), datetime.date(2023, 8, 27), datetime.date(2023, 12, 10), datetime.date(2022, 6, 11), datetime.date(2022, 1, 31), datetime.date(2023, 10, 29), datetime.date(2022, 5, 22), datetime.date(2023, 12, 3), datetime.date(2022, 5, 14), datetime.date(2022, 10, 2), datetime.date(2023, 9, 21), datetime.date(2023, 3, 10), datetime.date(2023, 4, 1), datetime.date(2022, 11, 30), datetime.date(2023, 4, 13), datetime.date(2023, 6, 30), datetime.date(2023, 4, 6), datetime.date(2022, 6, 2), datetime.date(2022, 11, 4), datetime.date(2022, 11, 19), datetime.date(2023, 6, 23), datetime.date(2022, 9, 11), datetime.date(2023, 10, 7), datetime.date(2022, 10, 28), datetime.date(2022, 3, 12), datetime.date(2022, 8, 7), datetime.date(2023, 12, 16), datetime.date(2022, 3, 8), datetime.date(2022, 7, 12), datetime.date(2023, 4, 7), datetime.date(2023, 12, 3), datetime.date(2023, 8, 6), datetime.date(2023, 6, 8), datetime.date(2022, 11, 19), datetime.date(2023, 10, 29), datetime.date(2023, 5, 9), datetime.date(2022, 8, 4), datetime.date(2023, 9, 14), datetime.date(2022, 10, 22), datetime.date(2023, 10, 19), datetime.date(2022, 10, 24), datetime.date(2022, 3, 16), datetime.date(2022, 5, 5), datetime.date(2022, 12, 10), datetime.date(2023, 8, 11), datetime.date(2023, 9, 23), datetime.date(2023, 9, 1), datetime.date(2023, 8, 11), datetime.date(2023, 7, 10), datetime.date(2022, 7, 5), datetime.date(2023, 5, 15), datetime.date(2022, 5, 2), datetime.date(2023, 12, 10), datetime.date(2023, 5, 12), datetime.date(2022, 12, 28), datetime.date(2023, 10, 12), datetime.date(2022, 12, 12), datetime.date(2023, 11, 29), datetime.date(2023, 2, 3), datetime.date(2023, 12, 12), datetime.date(2022, 8, 23), datetime.date(2022, 1, 14), datetime.date(2022, 3, 25), datetime.date(2023, 10, 31), datetime.date(2022, 3, 7), datetime.date(2023, 9, 23), datetime.date(2022, 6, 12), datetime.date(2022, 11, 30), datetime.date(2022, 4, 14), datetime.date(2022, 4, 20), datetime.date(2022, 8, 3), datetime.date(2022, 6, 7), datetime.date(2022, 1, 18), datetime.date(2022, 1, 22), datetime.date(2022, 10, 12), datetime.date(2022, 3, 9), datetime.date(2022, 8, 6), datetime.date(2022, 2, 14), datetime.date(2023, 2, 12), datetime.date(2023, 4, 13), datetime.date(2023, 11, 1), datetime.date(2023, 1, 9), datetime.date(2022, 9, 10), datetime.date(2023, 10, 26), datetime.date(2023, 10, 6), datetime.date(2022, 5, 8), datetime.date(2022, 1, 20), datetime.date(2023, 8, 23), datetime.date(2023, 4, 13), datetime.date(2022, 7, 14), datetime.date(2022, 7, 6), datetime.date(2022, 7, 7), datetime.date(2023, 10, 17), datetime.date(2022, 12, 26), datetime.date(2022, 12, 27), datetime.date(2023, 10, 6), datetime.date(2023, 11, 23), datetime.date(2022, 10, 30), datetime.date(2022, 3, 27), datetime.date(2023, 1, 4), datetime.date(2022, 7, 7), datetime.date(2022, 8, 10), datetime.date(2022, 2, 3), datetime.date(2022, 7, 21), datetime.date(2023, 5, 11), datetime.date(2023, 11, 15), datetime.date(2023, 6, 22), datetime.date(2022, 11, 28), datetime.date(2022, 5, 2), datetime.date(2023, 5, 17), datetime.date(2022, 5, 16), datetime.date(2023, 9, 20), datetime.date(2023, 1, 3), datetime.date(2023, 8, 3), datetime.date(2023, 10, 20), datetime.date(2022, 2, 16), datetime.date(2023, 12, 9), datetime.date(2023, 2, 17), datetime.date(2023, 8, 24), datetime.date(2022, 1, 30), datetime.date(2022, 2, 6), datetime.date(2023, 8, 2), datetime.date(2023, 10, 9), datetime.date(2022, 11, 4), datetime.date(2023, 1, 22), datetime.date(2022, 11, 18), datetime.date(2022, 11, 18), datetime.date(2023, 1, 28), datetime.date(2022, 4, 23), datetime.date(2022, 8, 18), datetime.date(2023, 10, 16), datetime.date(2022, 12, 16), datetime.date(2023, 10, 25), datetime.date(2023, 12, 6), datetime.date(2023, 2, 21), datetime.date(2023, 2, 22), datetime.date(2023, 8, 18), datetime.date(2023, 9, 27), datetime.date(2022, 10, 8), datetime.date(2022, 5, 24), datetime.date(2023, 4, 8), datetime.date(2022, 3, 26), datetime.date(2023, 8, 15), datetime.date(2022, 4, 13), datetime.date(2022, 10, 28), datetime.date(2023, 6, 28), datetime.date(2022, 11, 15), datetime.date(2022, 6, 23), datetime.date(2023, 9, 23), datetime.date(2023, 9, 17), datetime.date(2023, 2, 28), datetime.date(2023, 3, 25), datetime.date(2023, 3, 21), datetime.date(2023, 10, 25), datetime.date(2023, 8, 22), datetime.date(2023, 4, 2), datetime.date(2022, 10, 29), datetime.date(2022, 1, 30), datetime.date(2022, 8, 15), datetime.date(2023, 6, 30), datetime.date(2022, 11, 6), datetime.date(2023, 12, 17), datetime.date(2023, 8, 2), datetime.date(2022, 4, 28), datetime.date(2023, 6, 14), datetime.date(2023, 2, 16), datetime.date(2023, 7, 7), datetime.date(2022, 7, 7), datetime.date(2022, 11, 3), datetime.date(2023, 12, 11), datetime.date(2022, 9, 9), datetime.date(2022, 6, 9), datetime.date(2023, 10, 21), datetime.date(2022, 3, 27), datetime.date(2023, 2, 13), datetime.date(2022, 12, 19), datetime.date(2023, 4, 24), datetime.date(2023, 5, 12), datetime.date(2022, 8, 24), datetime.date(2022, 9, 21), datetime.date(2023, 1, 11), datetime.date(2023, 11, 26), datetime.date(2023, 5, 9), datetime.date(2023, 8, 21), datetime.date(2023, 3, 19), datetime.date(2022, 7, 18), datetime.date(2023, 3, 17), datetime.date(2022, 10, 17), datetime.date(2023, 8, 10), datetime.date(2023, 12, 3), datetime.date(2022, 6, 18), datetime.date(2023, 4, 8), datetime.date(2023, 10, 19), datetime.date(2023, 5, 5), datetime.date(2023, 8, 22), datetime.date(2022, 1, 1), datetime.date(2022, 8, 26), datetime.date(2023, 6, 23), datetime.date(2022, 4, 13), datetime.date(2022, 10, 15), datetime.date(2023, 5, 25), datetime.date(2022, 6, 6), datetime.date(2022, 10, 27), datetime.date(2023, 10, 3), datetime.date(2023, 8, 25), datetime.date(2022, 12, 11), datetime.date(2022, 3, 14), datetime.date(2022, 2, 11), datetime.date(2023, 11, 18), datetime.date(2023, 4, 9), datetime.date(2023, 2, 26), datetime.date(2022, 9, 17), datetime.date(2023, 1, 25), datetime.date(2022, 1, 27), datetime.date(2022, 1, 21), datetime.date(2023, 1, 20), datetime.date(2023, 11, 12), datetime.date(2023, 12, 5), datetime.date(2023, 9, 7), datetime.date(2023, 2, 9), datetime.date(2023, 11, 27), datetime.date(2023, 1, 17), datetime.date(2022, 1, 25), datetime.date(2023, 5, 29), datetime.date(2023, 11, 29), datetime.date(2023, 5, 15), datetime.date(2022, 7, 1), datetime.date(2022, 5, 26), datetime.date(2022, 6, 7), datetime.date(2022, 7, 27), datetime.date(2022, 6, 27), datetime.date(2023, 9, 29), datetime.date(2023, 8, 26), datetime.date(2022, 8, 22), datetime.date(2022, 11, 12), datetime.date(2022, 11, 29), datetime.date(2023, 2, 27), datetime.date(2023, 7, 31), datetime.date(2023, 8, 20), datetime.date(2023, 1, 8), datetime.date(2022, 2, 9), datetime.date(2022, 5, 28), datetime.date(2022, 7, 16), datetime.date(2023, 2, 8), datetime.date(2023, 11, 22), datetime.date(2022, 10, 26), datetime.date(2022, 8, 20), datetime.date(2022, 8, 6), datetime.date(2023, 11, 7), datetime.date(2022, 12, 12), datetime.date(2023, 11, 27), datetime.date(2022, 12, 18), datetime.date(2023, 7, 18), datetime.date(2022, 12, 15), datetime.date(2022, 3, 14), datetime.date(2022, 1, 10), datetime.date(2022, 11, 9), datetime.date(2023, 3, 23), datetime.date(2022, 4, 20), datetime.date(2023, 1, 23), datetime.date(2023, 5, 9), datetime.date(2023, 1, 8), datetime.date(2022, 1, 8), datetime.date(2023, 10, 19), datetime.date(2023, 3, 18), datetime.date(2022, 6, 10), datetime.date(2022, 5, 25), datetime.date(2022, 8, 6), datetime.date(2022, 12, 6), datetime.date(2023, 5, 30), datetime.date(2022, 3, 23), datetime.date(2023, 3, 15), datetime.date(2022, 8, 4), datetime.date(2022, 2, 23), datetime.date(2023, 1, 26), datetime.date(2022, 5, 2), datetime.date(2022, 7, 16), datetime.date(2022, 2, 20), datetime.date(2022, 4, 6), datetime.date(2023, 6, 3), datetime.date(2023, 3, 28), datetime.date(2022, 5, 24), datetime.date(2023, 12, 24), datetime.date(2022, 7, 30), datetime.date(2022, 10, 5), datetime.date(2023, 5, 23), datetime.date(2022, 10, 24), datetime.date(2022, 12, 1), datetime.date(2022, 5, 22), datetime.date(2022, 10, 3), datetime.date(2022, 7, 5), datetime.date(2023, 10, 7), datetime.date(2023, 5, 17), datetime.date(2023, 5, 17), datetime.date(2023, 3, 4), datetime.date(2022, 7, 9), datetime.date(2023, 2, 7), datetime.date(2023, 11, 10), datetime.date(2022, 2, 5), datetime.date(2023, 8, 13), datetime.date(2022, 9, 18), datetime.date(2022, 9, 12), datetime.date(2022, 11, 21), datetime.date(2022, 1, 17), datetime.date(2022, 3, 2), datetime.date(2022, 6, 8), datetime.date(2023, 4, 14), datetime.date(2023, 2, 25), datetime.date(2023, 12, 14), datetime.date(2023, 7, 8), datetime.date(2022, 3, 28), datetime.date(2023, 6, 2), datetime.date(2022, 8, 21), datetime.date(2023, 3, 4), datetime.date(2022, 8, 17), datetime.date(2022, 9, 2), datetime.date(2022, 6, 24), datetime.date(2023, 6, 13), datetime.date(2022, 8, 30), datetime.date(2023, 8, 28), datetime.date(2022, 5, 27), datetime.date(2023, 9, 24), datetime.date(2022, 4, 13), datetime.date(2022, 4, 20), datetime.date(2022, 10, 13), datetime.date(2022, 11, 11), datetime.date(2023, 6, 10), datetime.date(2022, 7, 31), datetime.date(2022, 5, 31), datetime.date(2022, 7, 31), datetime.date(2022, 9, 23), datetime.date(2023, 1, 12), datetime.date(2022, 5, 21), datetime.date(2023, 1, 5), datetime.date(2023, 10, 25), datetime.date(2023, 12, 14), datetime.date(2022, 10, 30), datetime.date(2023, 7, 30), datetime.date(2022, 5, 10), datetime.date(2023, 5, 24), datetime.date(2023, 5, 20), datetime.date(2023, 2, 24), datetime.date(2022, 12, 6), datetime.date(2023, 12, 24), datetime.date(2022, 1, 8), datetime.date(2023, 7, 1), datetime.date(2022, 8, 2), datetime.date(2023, 4, 29), datetime.date(2022, 3, 26), datetime.date(2022, 12, 25), datetime.date(2022, 7, 31), datetime.date(2022, 7, 30), datetime.date(2023, 1, 18), datetime.date(2022, 8, 16), datetime.date(2023, 11, 9), datetime.date(2023, 3, 3), datetime.date(2023, 4, 7), datetime.date(2023, 2, 15), datetime.date(2022, 7, 27), datetime.date(2023, 10, 11), datetime.date(2023, 9, 20), datetime.date(2022, 4, 21), datetime.date(2022, 1, 5), datetime.date(2022, 2, 1), datetime.date(2023, 3, 23), datetime.date(2023, 5, 22), datetime.date(2023, 7, 6), datetime.date(2022, 3, 18), datetime.date(2023, 4, 22), datetime.date(2022, 9, 21), datetime.date(2022, 9, 18), datetime.date(2022, 8, 30), datetime.date(2022, 10, 24), datetime.date(2023, 5, 28), datetime.date(2022, 9, 29), datetime.date(2023, 7, 23), datetime.date(2022, 7, 2), datetime.date(2022, 8, 23), datetime.date(2022, 7, 11), datetime.date(2023, 10, 22), datetime.date(2022, 4, 2), datetime.date(2023, 11, 26), datetime.date(2022, 6, 5), datetime.date(2023, 10, 2), datetime.date(2023, 6, 16), datetime.date(2022, 3, 10), datetime.date(2023, 7, 13), datetime.date(2023, 11, 1), datetime.date(2022, 7, 16), datetime.date(2022, 12, 13), datetime.date(2022, 12, 24), datetime.date(2022, 10, 25), datetime.date(2022, 6, 3), datetime.date(2023, 9, 30), datetime.date(2023, 4, 8), datetime.date(2023, 5, 29), datetime.date(2023, 9, 8), datetime.date(2022, 7, 21), datetime.date(2023, 6, 26), datetime.date(2022, 9, 23), datetime.date(2022, 7, 26), datetime.date(2023, 12, 14), datetime.date(2022, 3, 25), datetime.date(2022, 7, 25), datetime.date(2022, 11, 16), datetime.date(2023, 5, 8), datetime.date(2023, 1, 24), datetime.date(2022, 3, 9), datetime.date(2022, 12, 21), datetime.date(2022, 3, 4), datetime.date(2023, 8, 25), datetime.date(2023, 12, 22), datetime.date(2023, 7, 27), datetime.date(2022, 2, 5), datetime.date(2023, 9, 24), datetime.date(2023, 11, 13), datetime.date(2023, 9, 28), datetime.date(2023, 3, 25), datetime.date(2022, 5, 25), datetime.date(2022, 4, 29), datetime.date(2022, 12, 14), datetime.date(2023, 8, 24), datetime.date(2023, 6, 13), datetime.date(2022, 2, 20), datetime.date(2022, 5, 25), datetime.date(2023, 8, 6), datetime.date(2022, 2, 17), datetime.date(2023, 9, 20), datetime.date(2023, 10, 10), datetime.date(2022, 6, 1), datetime.date(2022, 6, 4), datetime.date(2022, 10, 31), datetime.date(2022, 9, 20), datetime.date(2023, 1, 16), datetime.date(2022, 5, 21), datetime.date(2022, 7, 10), datetime.date(2022, 1, 23), datetime.date(2022, 5, 5), datetime.date(2023, 9, 20), datetime.date(2023, 4, 1), datetime.date(2022, 4, 21), datetime.date(2023, 4, 16), datetime.date(2023, 10, 29), datetime.date(2022, 6, 30), datetime.date(2022, 8, 3), datetime.date(2022, 6, 28), datetime.date(2022, 9, 18), datetime.date(2022, 7, 6), datetime.date(2022, 6, 1), datetime.date(2022, 1, 18), datetime.date(2023, 12, 11), datetime.date(2022, 3, 22), datetime.date(2023, 12, 8), datetime.date(2022, 7, 5), datetime.date(2022, 1, 2), datetime.date(2022, 10, 11), datetime.date(2023, 1, 10), datetime.date(2022, 9, 24), datetime.date(2022, 5, 22), datetime.date(2023, 2, 23), datetime.date(2022, 11, 4), datetime.date(2023, 8, 10), datetime.date(2022, 3, 25), datetime.date(2022, 2, 27), datetime.date(2023, 11, 26), datetime.date(2022, 4, 11), datetime.date(2023, 6, 8), datetime.date(2022, 11, 25), datetime.date(2022, 8, 24), datetime.date(2023, 2, 25), datetime.date(2023, 8, 20), datetime.date(2022, 9, 3), datetime.date(2022, 11, 9), datetime.date(2023, 10, 30), datetime.date(2023, 5, 28), datetime.date(2023, 5, 1), datetime.date(2022, 11, 29), datetime.date(2023, 6, 19), datetime.date(2022, 5, 1), datetime.date(2023, 10, 22), datetime.date(2023, 7, 29), datetime.date(2023, 5, 24), datetime.date(2022, 12, 8), datetime.date(2023, 7, 29), datetime.date(2022, 10, 29), datetime.date(2023, 9, 22), datetime.date(2023, 5, 23), datetime.date(2022, 10, 21), datetime.date(2023, 7, 18), datetime.date(2022, 12, 18), datetime.date(2022, 4, 25), datetime.date(2023, 8, 3), datetime.date(2022, 9, 30), datetime.date(2023, 9, 5), datetime.date(2022, 4, 12), datetime.date(2023, 10, 1), datetime.date(2023, 1, 8), datetime.date(2022, 8, 3), datetime.date(2023, 1, 8), datetime.date(2022, 1, 29), datetime.date(2023, 10, 29), datetime.date(2022, 5, 19), datetime.date(2023, 10, 19), datetime.date(2023, 5, 6), datetime.date(2023, 6, 28), datetime.date(2023, 12, 19), datetime.date(2023, 6, 4), datetime.date(2022, 11, 6), datetime.date(2023, 12, 17), datetime.date(2022, 3, 14), datetime.date(2022, 8, 31), datetime.date(2023, 9, 12), datetime.date(2023, 8, 27), datetime.date(2023, 3, 11), datetime.date(2022, 8, 19), datetime.date(2022, 11, 2), datetime.date(2023, 3, 31), datetime.date(2023, 6, 2), datetime.date(2022, 2, 10), datetime.date(2022, 10, 13), datetime.date(2023, 4, 24), datetime.date(2022, 1, 11), datetime.date(2022, 2, 5), datetime.date(2022, 11, 10), datetime.date(2023, 9, 14), datetime.date(2023, 4, 19), datetime.date(2023, 11, 4), datetime.date(2023, 10, 24), datetime.date(2022, 3, 16), datetime.date(2022, 11, 1), datetime.date(2023, 3, 19), datetime.date(2022, 6, 13), datetime.date(2023, 12, 18), datetime.date(2023, 12, 14), datetime.date(2023, 7, 1), datetime.date(2022, 1, 12), datetime.date(2022, 11, 30), datetime.date(2023, 1, 2), datetime.date(2022, 10, 5), datetime.date(2022, 11, 16), datetime.date(2023, 1, 5), datetime.date(2022, 5, 3), datetime.date(2022, 10, 18), datetime.date(2022, 5, 11), datetime.date(2022, 5, 26), datetime.date(2023, 9, 26), datetime.date(2022, 7, 10), datetime.date(2022, 9, 27), datetime.date(2022, 10, 18), datetime.date(2023, 8, 28), datetime.date(2022, 1, 2), datetime.date(2023, 3, 16), datetime.date(2022, 11, 14), datetime.date(2023, 5, 10), datetime.date(2023, 7, 27), datetime.date(2023, 10, 8), datetime.date(2023, 5, 10), datetime.date(2022, 12, 23), datetime.date(2022, 10, 12), datetime.date(2023, 6, 6), datetime.date(2022, 11, 29), datetime.date(2022, 1, 15), datetime.date(2022, 2, 25), datetime.date(2023, 3, 18), datetime.date(2022, 7, 15), datetime.date(2022, 8, 31), datetime.date(2022, 2, 16), datetime.date(2023, 9, 4), datetime.date(2022, 3, 21), datetime.date(2023, 7, 4), datetime.date(2022, 5, 24), datetime.date(2023, 6, 24), datetime.date(2023, 4, 24), datetime.date(2022, 5, 14), datetime.date(2023, 4, 1), datetime.date(2023, 12, 4), datetime.date(2023, 2, 22), datetime.date(2023, 8, 1), datetime.date(2023, 7, 19), datetime.date(2022, 12, 9), datetime.date(2023, 12, 5), datetime.date(2023, 2, 1), datetime.date(2023, 5, 23), datetime.date(2023, 9, 11), datetime.date(2022, 7, 9), datetime.date(2023, 8, 24), datetime.date(2022, 10, 10), datetime.date(2023, 2, 14), datetime.date(2022, 4, 29), datetime.date(2023, 12, 3), datetime.date(2022, 8, 7), datetime.date(2022, 1, 15), datetime.date(2023, 7, 1), datetime.date(2022, 5, 6), datetime.date(2023, 6, 5), datetime.date(2022, 6, 24), datetime.date(2023, 6, 8), datetime.date(2023, 1, 3), datetime.date(2023, 11, 5), datetime.date(2023, 6, 13), datetime.date(2022, 3, 15), datetime.date(2023, 4, 23), datetime.date(2023, 4, 26), datetime.date(2023, 8, 23), datetime.date(2023, 8, 23), datetime.date(2023, 9, 20), datetime.date(2023, 10, 9), datetime.date(2023, 12, 21), datetime.date(2022, 12, 22), datetime.date(2022, 3, 6), datetime.date(2022, 8, 29), datetime.date(2023, 6, 25), datetime.date(2022, 6, 11), datetime.date(2023, 2, 3), datetime.date(2023, 4, 29), datetime.date(2022, 5, 2), datetime.date(2023, 8, 17), datetime.date(2022, 8, 9), datetime.date(2022, 1, 7), datetime.date(2022, 9, 18), datetime.date(2022, 6, 4), datetime.date(2023, 1, 27), datetime.date(2023, 4, 5), datetime.date(2023, 5, 4), datetime.date(2022, 1, 3), datetime.date(2022, 3, 1), datetime.date(2023, 8, 29), datetime.date(2023, 6, 21), datetime.date(2023, 7, 4), datetime.date(2022, 11, 2), datetime.date(2023, 10, 3), datetime.date(2022, 11, 30), datetime.date(2023, 9, 19), datetime.date(2022, 9, 16), datetime.date(2022, 10, 11), datetime.date(2023, 1, 24), datetime.date(2022, 5, 14), datetime.date(2022, 6, 1), datetime.date(2023, 2, 17), datetime.date(2023, 4, 14), datetime.date(2022, 1, 24), datetime.date(2022, 2, 8), datetime.date(2023, 5, 27), datetime.date(2023, 1, 1), datetime.date(2023, 2, 4), datetime.date(2022, 1, 29), datetime.date(2022, 4, 2), datetime.date(2023, 8, 31), datetime.date(2022, 6, 14), datetime.date(2023, 3, 29), datetime.date(2023, 4, 30), datetime.date(2023, 12, 11), datetime.date(2022, 2, 6), datetime.date(2023, 2, 18), datetime.date(2023, 6, 16), datetime.date(2023, 8, 15), datetime.date(2023, 5, 16), datetime.date(2022, 6, 16), datetime.date(2023, 6, 17), datetime.date(2022, 3, 5), datetime.date(2023, 6, 11), datetime.date(2022, 3, 21), datetime.date(2023, 8, 18), datetime.date(2023, 1, 7), datetime.date(2023, 1, 30), datetime.date(2022, 8, 15), datetime.date(2023, 9, 13), datetime.date(2022, 11, 22), datetime.date(2023, 2, 8), datetime.date(2022, 1, 2), datetime.date(2022, 5, 31), datetime.date(2022, 9, 19), datetime.date(2023, 10, 25), datetime.date(2022, 1, 19), datetime.date(2022, 10, 4), datetime.date(2022, 3, 25), datetime.date(2022, 12, 2), datetime.date(2023, 11, 9), datetime.date(2023, 4, 17), datetime.date(2023, 8, 16), datetime.date(2023, 10, 11), datetime.date(2022, 8, 9), datetime.date(2022, 5, 13), datetime.date(2022, 12, 16), datetime.date(2023, 9, 24), datetime.date(2022, 8, 11), datetime.date(2022, 3, 14), datetime.date(2023, 11, 11), datetime.date(2023, 7, 30), datetime.date(2023, 1, 19), datetime.date(2023, 8, 29), datetime.date(2023, 2, 11), datetime.date(2023, 4, 15), datetime.date(2023, 10, 29), datetime.date(2023, 5, 8), datetime.date(2023, 2, 6), datetime.date(2023, 8, 26), datetime.date(2022, 8, 13), datetime.date(2023, 5, 15), datetime.date(2023, 10, 26), datetime.date(2022, 9, 5), datetime.date(2022, 2, 19), datetime.date(2022, 6, 11), datetime.date(2022, 12, 11), datetime.date(2023, 6, 25), datetime.date(2022, 11, 25), datetime.date(2022, 2, 19), datetime.date(2023, 3, 8), datetime.date(2023, 11, 30), datetime.date(2022, 7, 13), datetime.date(2023, 6, 26), datetime.date(2023, 8, 31), datetime.date(2022, 12, 18), datetime.date(2022, 4, 2), datetime.date(2022, 2, 13), datetime.date(2023, 6, 21), datetime.date(2022, 10, 25), datetime.date(2023, 3, 15), datetime.date(2022, 1, 12), datetime.date(2023, 9, 26), datetime.date(2023, 4, 29), datetime.date(2022, 8, 16), datetime.date(2023, 6, 7), datetime.date(2023, 8, 22), datetime.date(2023, 5, 7), datetime.date(2023, 4, 16), datetime.date(2023, 1, 10), datetime.date(2022, 8, 28), datetime.date(2023, 7, 9), datetime.date(2022, 4, 16), datetime.date(2022, 5, 1), datetime.date(2023, 8, 11), datetime.date(2023, 2, 14), datetime.date(2022, 10, 1), datetime.date(2023, 8, 29), datetime.date(2023, 8, 23), datetime.date(2022, 11, 5), datetime.date(2022, 4, 3), datetime.date(2022, 11, 12), datetime.date(2022, 9, 2), datetime.date(2023, 12, 20), datetime.date(2022, 11, 29), datetime.date(2023, 10, 19), datetime.date(2022, 8, 4), datetime.date(2022, 6, 4), datetime.date(2023, 3, 10), datetime.date(2022, 6, 27), datetime.date(2023, 9, 30), datetime.date(2023, 2, 12), datetime.date(2022, 11, 12), datetime.date(2023, 2, 5), datetime.date(2022, 4, 27), datetime.date(2023, 9, 12), datetime.date(2023, 8, 8), datetime.date(2022, 1, 7), datetime.date(2023, 7, 4), datetime.date(2022, 5, 3), datetime.date(2023, 9, 30), datetime.date(2022, 8, 24), datetime.date(2022, 5, 10), datetime.date(2022, 8, 17), datetime.date(2023, 9, 10), datetime.date(2022, 11, 20), datetime.date(2022, 7, 30), datetime.date(2023, 6, 16), datetime.date(2022, 11, 7), datetime.date(2023, 9, 13), datetime.date(2023, 3, 12), datetime.date(2023, 7, 2), datetime.date(2023, 11, 1), datetime.date(2022, 2, 1), datetime.date(2022, 12, 8), datetime.date(2022, 6, 12), datetime.date(2023, 3, 18), datetime.date(2022, 1, 24), datetime.date(2023, 8, 17), datetime.date(2023, 10, 28), datetime.date(2023, 9, 16), datetime.date(2023, 9, 4), datetime.date(2022, 11, 26), datetime.date(2022, 10, 26), datetime.date(2022, 10, 8), datetime.date(2023, 5, 30), datetime.date(2022, 10, 5), datetime.date(2022, 7, 14), datetime.date(2022, 10, 21), datetime.date(2022, 8, 19), datetime.date(2023, 1, 4), datetime.date(2022, 9, 16), datetime.date(2022, 2, 18), datetime.date(2022, 5, 7), datetime.date(2022, 4, 30), datetime.date(2023, 9, 12), datetime.date(2022, 10, 27), datetime.date(2022, 11, 21), datetime.date(2022, 12, 25), datetime.date(2022, 4, 13), datetime.date(2022, 4, 23), datetime.date(2023, 11, 24), datetime.date(2023, 8, 3), datetime.date(2022, 2, 14), datetime.date(2022, 8, 27), datetime.date(2022, 7, 15), datetime.date(2022, 2, 9), datetime.date(2022, 11, 1), datetime.date(2023, 7, 9), datetime.date(2022, 5, 14), datetime.date(2023, 8, 4), datetime.date(2022, 7, 2), datetime.date(2022, 2, 24), datetime.date(2023, 4, 14), datetime.date(2022, 9, 16), datetime.date(2023, 7, 6), datetime.date(2022, 10, 28), datetime.date(2023, 10, 18), datetime.date(2023, 12, 2), datetime.date(2023, 3, 13), datetime.date(2023, 11, 11), datetime.date(2022, 8, 4), datetime.date(2022, 3, 31), datetime.date(2023, 2, 4), datetime.date(2022, 9, 17), datetime.date(2023, 11, 28), datetime.date(2022, 11, 6), datetime.date(2023, 7, 31), datetime.date(2023, 6, 7), datetime.date(2022, 3, 22), datetime.date(2023, 8, 31), datetime.date(2023, 4, 23), datetime.date(2022, 9, 8), datetime.date(2022, 9, 14), datetime.date(2022, 5, 27), datetime.date(2023, 1, 2), datetime.date(2022, 1, 13), datetime.date(2023, 8, 1), datetime.date(2023, 4, 13), datetime.date(2023, 11, 13), datetime.date(2022, 11, 18), datetime.date(2023, 5, 10), datetime.date(2022, 10, 7), datetime.date(2023, 3, 22), datetime.date(2023, 10, 24), datetime.date(2022, 4, 6), datetime.date(2023, 1, 25), datetime.date(2022, 2, 15), datetime.date(2023, 8, 10), datetime.date(2022, 10, 24), datetime.date(2023, 4, 21), datetime.date(2022, 7, 21), datetime.date(2022, 12, 1), datetime.date(2023, 8, 11), datetime.date(2023, 2, 11), datetime.date(2023, 1, 23), datetime.date(2022, 10, 24), datetime.date(2022, 11, 10), datetime.date(2022, 1, 11), datetime.date(2022, 1, 16), datetime.date(2022, 5, 10), datetime.date(2023, 11, 2), datetime.date(2023, 7, 16), datetime.date(2023, 9, 2), datetime.date(2022, 6, 17), datetime.date(2023, 7, 29), datetime.date(2022, 6, 13), datetime.date(2023, 4, 15), datetime.date(2023, 1, 23), datetime.date(2022, 3, 9), datetime.date(2023, 9, 26), datetime.date(2022, 5, 20), datetime.date(2023, 5, 1), datetime.date(2022, 6, 21), datetime.date(2023, 9, 28), datetime.date(2023, 2, 8), datetime.date(2023, 11, 20), datetime.date(2023, 4, 18), datetime.date(2022, 5, 10), datetime.date(2023, 12, 1), datetime.date(2022, 12, 20), datetime.date(2022, 10, 3), datetime.date(2022, 8, 22), datetime.date(2023, 7, 2), datetime.date(2023, 8, 23), datetime.date(2023, 5, 22), datetime.date(2023, 8, 8), datetime.date(2023, 2, 5), datetime.date(2023, 3, 14), datetime.date(2022, 11, 15), datetime.date(2022, 10, 11), datetime.date(2023, 9, 21), datetime.date(2023, 5, 23), datetime.date(2023, 2, 26), datetime.date(2023, 1, 4), datetime.date(2023, 10, 21), datetime.date(2023, 8, 7), datetime.date(2023, 1, 11), datetime.date(2022, 7, 27), datetime.date(2023, 2, 6), datetime.date(2023, 8, 1), datetime.date(2023, 1, 14), datetime.date(2022, 10, 16), datetime.date(2022, 12, 17), datetime.date(2023, 6, 30), datetime.date(2022, 8, 5), datetime.date(2023, 11, 19), datetime.date(2022, 8, 13), datetime.date(2022, 12, 3), datetime.date(2022, 4, 7), datetime.date(2023, 6, 12), datetime.date(2023, 3, 29), datetime.date(2023, 3, 21), datetime.date(2023, 10, 15), datetime.date(2022, 9, 26), datetime.date(2023, 8, 24), datetime.date(2023, 6, 2), datetime.date(2022, 9, 16), datetime.date(2023, 6, 15), datetime.date(2022, 7, 24), datetime.date(2023, 6, 19), datetime.date(2022, 4, 3), datetime.date(2022, 12, 15), datetime.date(2023, 6, 10), datetime.date(2023, 8, 20), datetime.date(2022, 10, 31), datetime.date(2022, 5, 27), datetime.date(2022, 8, 20), datetime.date(2022, 8, 30), datetime.date(2023, 8, 11), datetime.date(2022, 8, 19), datetime.date(2022, 12, 25), datetime.date(2023, 8, 30), datetime.date(2022, 6, 17), datetime.date(2022, 2, 1), datetime.date(2022, 5, 17), datetime.date(2022, 7, 12), datetime.date(2022, 10, 19), datetime.date(2023, 7, 28), datetime.date(2022, 8, 23), datetime.date(2022, 9, 13), datetime.date(2023, 5, 19), datetime.date(2023, 9, 12), datetime.date(2022, 12, 17), datetime.date(2022, 9, 21), datetime.date(2022, 2, 6), datetime.date(2022, 8, 4), datetime.date(2023, 8, 24), datetime.date(2022, 6, 7), datetime.date(2023, 4, 12), datetime.date(2022, 11, 7), datetime.date(2023, 3, 5), datetime.date(2023, 1, 27), datetime.date(2023, 2, 1), datetime.date(2023, 5, 26), datetime.date(2022, 1, 11), datetime.date(2022, 3, 29), datetime.date(2022, 8, 17), datetime.date(2022, 12, 14), datetime.date(2023, 10, 25), datetime.date(2023, 3, 14), datetime.date(2022, 1, 14), datetime.date(2023, 7, 18), datetime.date(2022, 4, 21), datetime.date(2022, 10, 25), datetime.date(2023, 11, 18), datetime.date(2022, 6, 28), datetime.date(2022, 1, 25), datetime.date(2023, 5, 1), datetime.date(2022, 6, 13), datetime.date(2023, 5, 28), datetime.date(2023, 7, 12), datetime.date(2023, 11, 9), datetime.date(2023, 10, 31), datetime.date(2022, 3, 10), datetime.date(2022, 11, 18), datetime.date(2023, 1, 21), datetime.date(2022, 10, 16), datetime.date(2023, 9, 20), datetime.date(2023, 8, 28), datetime.date(2022, 6, 17), datetime.date(2022, 1, 8), datetime.date(2022, 8, 23), datetime.date(2023, 6, 26), datetime.date(2023, 7, 30), datetime.date(2022, 4, 11), datetime.date(2022, 3, 16), datetime.date(2023, 7, 17), datetime.date(2023, 2, 8), datetime.date(2022, 12, 11), datetime.date(2023, 8, 14), datetime.date(2023, 11, 28), datetime.date(2022, 3, 8), datetime.date(2023, 5, 24), datetime.date(2023, 2, 10), datetime.date(2022, 5, 8), datetime.date(2023, 8, 12), datetime.date(2023, 10, 20), datetime.date(2023, 9, 14), datetime.date(2022, 10, 15), datetime.date(2023, 11, 2), datetime.date(2022, 4, 4), datetime.date(2022, 6, 11), datetime.date(2023, 9, 28), datetime.date(2022, 5, 4), datetime.date(2022, 10, 22), datetime.date(2022, 2, 17), datetime.date(2023, 5, 17), datetime.date(2023, 7, 16), datetime.date(2023, 4, 17), datetime.date(2023, 11, 4), datetime.date(2022, 12, 7), datetime.date(2022, 4, 10), datetime.date(2022, 10, 27), datetime.date(2022, 6, 12), datetime.date(2023, 6, 30), datetime.date(2022, 12, 14), datetime.date(2022, 5, 19), datetime.date(2023, 8, 8), datetime.date(2023, 6, 16)]\n"
     ]
    }
   ],
   "source": [
    "print(datas)"
   ]
  },
  {
   "cell_type": "code",
   "execution_count": 67,
   "metadata": {},
   "outputs": [],
   "source": [
    "df = pd.DataFrame(datas, columns=['data_1'])"
   ]
  },
  {
   "cell_type": "code",
   "execution_count": 86,
   "metadata": {},
   "outputs": [
    {
     "data": {
      "text/html": [
       "<div>\n",
       "<style scoped>\n",
       "    .dataframe tbody tr th:only-of-type {\n",
       "        vertical-align: middle;\n",
       "    }\n",
       "\n",
       "    .dataframe tbody tr th {\n",
       "        vertical-align: top;\n",
       "    }\n",
       "\n",
       "    .dataframe thead th {\n",
       "        text-align: right;\n",
       "    }\n",
       "</style>\n",
       "<table border=\"1\" class=\"dataframe\">\n",
       "  <thead>\n",
       "    <tr style=\"text-align: right;\">\n",
       "      <th></th>\n",
       "      <th>data_1</th>\n",
       "      <th>data_2</th>\n",
       "    </tr>\n",
       "  </thead>\n",
       "  <tbody>\n",
       "    <tr>\n",
       "      <th>0</th>\n",
       "      <td>2022-03-31</td>\n",
       "      <td>2022-04-03</td>\n",
       "    </tr>\n",
       "    <tr>\n",
       "      <th>1</th>\n",
       "      <td>2022-08-03</td>\n",
       "      <td>2022-08-06</td>\n",
       "    </tr>\n",
       "    <tr>\n",
       "      <th>2</th>\n",
       "      <td>2022-08-04</td>\n",
       "      <td>2022-08-05</td>\n",
       "    </tr>\n",
       "    <tr>\n",
       "      <th>3</th>\n",
       "      <td>2022-01-14</td>\n",
       "      <td>2022-01-15</td>\n",
       "    </tr>\n",
       "    <tr>\n",
       "      <th>4</th>\n",
       "      <td>2023-08-20</td>\n",
       "      <td>2023-08-24</td>\n",
       "    </tr>\n",
       "  </tbody>\n",
       "</table>\n",
       "</div>"
      ],
      "text/plain": [
       "       data_1      data_2\n",
       "0  2022-03-31  2022-04-03\n",
       "1  2022-08-03  2022-08-06\n",
       "2  2022-08-04  2022-08-05\n",
       "3  2022-01-14  2022-01-15\n",
       "4  2023-08-20  2023-08-24"
      ]
     },
     "execution_count": 86,
     "metadata": {},
     "output_type": "execute_result"
    }
   ],
   "source": [
    "df.head()"
   ]
  },
  {
   "cell_type": "code",
   "execution_count": 69,
   "metadata": {},
   "outputs": [],
   "source": [
    "df['data_2'] = df['data_1']"
   ]
  },
  {
   "cell_type": "code",
   "execution_count": 70,
   "metadata": {},
   "outputs": [
    {
     "data": {
      "text/html": [
       "<div>\n",
       "<style scoped>\n",
       "    .dataframe tbody tr th:only-of-type {\n",
       "        vertical-align: middle;\n",
       "    }\n",
       "\n",
       "    .dataframe tbody tr th {\n",
       "        vertical-align: top;\n",
       "    }\n",
       "\n",
       "    .dataframe thead th {\n",
       "        text-align: right;\n",
       "    }\n",
       "</style>\n",
       "<table border=\"1\" class=\"dataframe\">\n",
       "  <thead>\n",
       "    <tr style=\"text-align: right;\">\n",
       "      <th></th>\n",
       "      <th>data_1</th>\n",
       "      <th>data_2</th>\n",
       "    </tr>\n",
       "  </thead>\n",
       "  <tbody>\n",
       "    <tr>\n",
       "      <th>0</th>\n",
       "      <td>2022-03-31</td>\n",
       "      <td>2022-03-31</td>\n",
       "    </tr>\n",
       "    <tr>\n",
       "      <th>1</th>\n",
       "      <td>2022-08-03</td>\n",
       "      <td>2022-08-03</td>\n",
       "    </tr>\n",
       "    <tr>\n",
       "      <th>2</th>\n",
       "      <td>2022-08-04</td>\n",
       "      <td>2022-08-04</td>\n",
       "    </tr>\n",
       "    <tr>\n",
       "      <th>3</th>\n",
       "      <td>2022-01-14</td>\n",
       "      <td>2022-01-14</td>\n",
       "    </tr>\n",
       "    <tr>\n",
       "      <th>4</th>\n",
       "      <td>2023-08-20</td>\n",
       "      <td>2023-08-20</td>\n",
       "    </tr>\n",
       "  </tbody>\n",
       "</table>\n",
       "</div>"
      ],
      "text/plain": [
       "       data_1      data_2\n",
       "0  2022-03-31  2022-03-31\n",
       "1  2022-08-03  2022-08-03\n",
       "2  2022-08-04  2022-08-04\n",
       "3  2022-01-14  2022-01-14\n",
       "4  2023-08-20  2023-08-20"
      ]
     },
     "execution_count": 70,
     "metadata": {},
     "output_type": "execute_result"
    }
   ],
   "source": [
    "df.head()"
   ]
  },
  {
   "cell_type": "code",
   "execution_count": 71,
   "metadata": {},
   "outputs": [],
   "source": [
    "datas2 = []\n",
    "\n",
    "for linha in df['data_2'].values:\n",
    "    datas2.append(linha + pd.Timedelta(days=np.random.randint(1,5)))"
   ]
  },
  {
   "cell_type": "code",
   "execution_count": 87,
   "metadata": {},
   "outputs": [
    {
     "data": {
      "text/html": [
       "<div>\n",
       "<style scoped>\n",
       "    .dataframe tbody tr th:only-of-type {\n",
       "        vertical-align: middle;\n",
       "    }\n",
       "\n",
       "    .dataframe tbody tr th {\n",
       "        vertical-align: top;\n",
       "    }\n",
       "\n",
       "    .dataframe thead th {\n",
       "        text-align: right;\n",
       "    }\n",
       "</style>\n",
       "<table border=\"1\" class=\"dataframe\">\n",
       "  <thead>\n",
       "    <tr style=\"text-align: right;\">\n",
       "      <th></th>\n",
       "      <th>data_1</th>\n",
       "      <th>data_2</th>\n",
       "    </tr>\n",
       "  </thead>\n",
       "  <tbody>\n",
       "    <tr>\n",
       "      <th>0</th>\n",
       "      <td>2022-03-31</td>\n",
       "      <td>2022-04-03</td>\n",
       "    </tr>\n",
       "    <tr>\n",
       "      <th>1</th>\n",
       "      <td>2022-08-03</td>\n",
       "      <td>2022-08-06</td>\n",
       "    </tr>\n",
       "    <tr>\n",
       "      <th>2</th>\n",
       "      <td>2022-08-04</td>\n",
       "      <td>2022-08-05</td>\n",
       "    </tr>\n",
       "    <tr>\n",
       "      <th>3</th>\n",
       "      <td>2022-01-14</td>\n",
       "      <td>2022-01-15</td>\n",
       "    </tr>\n",
       "    <tr>\n",
       "      <th>4</th>\n",
       "      <td>2023-08-20</td>\n",
       "      <td>2023-08-24</td>\n",
       "    </tr>\n",
       "  </tbody>\n",
       "</table>\n",
       "</div>"
      ],
      "text/plain": [
       "       data_1      data_2\n",
       "0  2022-03-31  2022-04-03\n",
       "1  2022-08-03  2022-08-06\n",
       "2  2022-08-04  2022-08-05\n",
       "3  2022-01-14  2022-01-15\n",
       "4  2023-08-20  2023-08-24"
      ]
     },
     "execution_count": 87,
     "metadata": {},
     "output_type": "execute_result"
    }
   ],
   "source": [
    "df['data_2'] = datas2\n",
    "df.head()"
   ]
  },
  {
   "cell_type": "code",
   "execution_count": 73,
   "metadata": {},
   "outputs": [],
   "source": [
    "df2 = pd.read_csv(\"dataset_previsoes.csv\")"
   ]
  },
  {
   "cell_type": "code",
   "execution_count": 74,
   "metadata": {},
   "outputs": [],
   "source": [
    "df2[[\"Data_Pedido\", \"Data_Resposta\"]] = df"
   ]
  },
  {
   "cell_type": "code",
   "execution_count": 75,
   "metadata": {},
   "outputs": [
    {
     "data": {
      "text/html": [
       "<div>\n",
       "<style scoped>\n",
       "    .dataframe tbody tr th:only-of-type {\n",
       "        vertical-align: middle;\n",
       "    }\n",
       "\n",
       "    .dataframe tbody tr th {\n",
       "        vertical-align: top;\n",
       "    }\n",
       "\n",
       "    .dataframe thead th {\n",
       "        text-align: right;\n",
       "    }\n",
       "</style>\n",
       "<table border=\"1\" class=\"dataframe\">\n",
       "  <thead>\n",
       "    <tr style=\"text-align: right;\">\n",
       "      <th></th>\n",
       "      <th>Brand_Mod</th>\n",
       "      <th>model</th>\n",
       "      <th>model_year</th>\n",
       "      <th>KM</th>\n",
       "      <th>fuel</th>\n",
       "      <th>HP</th>\n",
       "      <th>Litros</th>\n",
       "      <th>Cilindros</th>\n",
       "      <th>transmission_mod</th>\n",
       "      <th>ext_col_mod</th>\n",
       "      <th>int_col_mod</th>\n",
       "      <th>accident_mod</th>\n",
       "      <th>clean_title_mod</th>\n",
       "      <th>price_eur</th>\n",
       "      <th>Preco Previsto</th>\n",
       "      <th>Data_Pedido</th>\n",
       "      <th>Data_Resposta</th>\n",
       "    </tr>\n",
       "  </thead>\n",
       "  <tbody>\n",
       "    <tr>\n",
       "      <th>0</th>\n",
       "      <td>Outra</td>\n",
       "      <td>Wrangler Sport</td>\n",
       "      <td>2014</td>\n",
       "      <td>114263</td>\n",
       "      <td>Gasoline</td>\n",
       "      <td>285.0</td>\n",
       "      <td>3.6</td>\n",
       "      <td>6.0</td>\n",
       "      <td>Automatic</td>\n",
       "      <td>Outra</td>\n",
       "      <td>Black</td>\n",
       "      <td>None reported</td>\n",
       "      <td>Yes</td>\n",
       "      <td>20020</td>\n",
       "      <td>19624.46</td>\n",
       "      <td>2022-03-31</td>\n",
       "      <td>2022-04-03</td>\n",
       "    </tr>\n",
       "    <tr>\n",
       "      <th>1</th>\n",
       "      <td>Outra</td>\n",
       "      <td>Highlander XLE</td>\n",
       "      <td>2015</td>\n",
       "      <td>110361</td>\n",
       "      <td>Gasoline</td>\n",
       "      <td>270.0</td>\n",
       "      <td>3.5</td>\n",
       "      <td>6.0</td>\n",
       "      <td>Automatic</td>\n",
       "      <td>Outra</td>\n",
       "      <td>Outra</td>\n",
       "      <td>At least 1 accident or damage reported</td>\n",
       "      <td>Yes</td>\n",
       "      <td>23660</td>\n",
       "      <td>22411.66</td>\n",
       "      <td>2022-08-03</td>\n",
       "      <td>2022-08-06</td>\n",
       "    </tr>\n",
       "    <tr>\n",
       "      <th>2</th>\n",
       "      <td>Outra</td>\n",
       "      <td>Camry Hybrid XLE</td>\n",
       "      <td>2018</td>\n",
       "      <td>112076</td>\n",
       "      <td>Hybrid</td>\n",
       "      <td>208.0</td>\n",
       "      <td>2.5</td>\n",
       "      <td>4.0</td>\n",
       "      <td>CVT</td>\n",
       "      <td>white</td>\n",
       "      <td>Black</td>\n",
       "      <td>At least 1 accident or damage reported</td>\n",
       "      <td>Yes</td>\n",
       "      <td>21835</td>\n",
       "      <td>20960.42</td>\n",
       "      <td>2022-08-04</td>\n",
       "      <td>2022-08-05</td>\n",
       "    </tr>\n",
       "    <tr>\n",
       "      <th>3</th>\n",
       "      <td>Outra</td>\n",
       "      <td>Outback Touring XT</td>\n",
       "      <td>2021</td>\n",
       "      <td>53913</td>\n",
       "      <td>Gasoline</td>\n",
       "      <td>260.0</td>\n",
       "      <td>2.4</td>\n",
       "      <td>4.0</td>\n",
       "      <td>CVT</td>\n",
       "      <td>Outra</td>\n",
       "      <td>Outra</td>\n",
       "      <td>None reported</td>\n",
       "      <td>Yes</td>\n",
       "      <td>30940</td>\n",
       "      <td>31090.11</td>\n",
       "      <td>2022-01-14</td>\n",
       "      <td>2022-01-15</td>\n",
       "    </tr>\n",
       "    <tr>\n",
       "      <th>4</th>\n",
       "      <td>Outra</td>\n",
       "      <td>GX 460 Base</td>\n",
       "      <td>2018</td>\n",
       "      <td>120701</td>\n",
       "      <td>Gasoline</td>\n",
       "      <td>301.0</td>\n",
       "      <td>4.6</td>\n",
       "      <td>8.0</td>\n",
       "      <td>Automatic</td>\n",
       "      <td>white</td>\n",
       "      <td>beige</td>\n",
       "      <td>At least 1 accident or damage reported</td>\n",
       "      <td>Yes</td>\n",
       "      <td>34666</td>\n",
       "      <td>31699.17</td>\n",
       "      <td>2023-08-20</td>\n",
       "      <td>2023-08-24</td>\n",
       "    </tr>\n",
       "  </tbody>\n",
       "</table>\n",
       "</div>"
      ],
      "text/plain": [
       "  Brand_Mod               model  model_year      KM      fuel     HP  Litros  \\\n",
       "0     Outra      Wrangler Sport        2014  114263  Gasoline  285.0     3.6   \n",
       "1     Outra      Highlander XLE        2015  110361  Gasoline  270.0     3.5   \n",
       "2     Outra    Camry Hybrid XLE        2018  112076    Hybrid  208.0     2.5   \n",
       "3     Outra  Outback Touring XT        2021   53913  Gasoline  260.0     2.4   \n",
       "4     Outra         GX 460 Base        2018  120701  Gasoline  301.0     4.6   \n",
       "\n",
       "   Cilindros transmission_mod ext_col_mod int_col_mod  \\\n",
       "0        6.0        Automatic       Outra       Black   \n",
       "1        6.0        Automatic       Outra       Outra   \n",
       "2        4.0              CVT       white       Black   \n",
       "3        4.0              CVT       Outra       Outra   \n",
       "4        8.0        Automatic       white       beige   \n",
       "\n",
       "                             accident_mod clean_title_mod  price_eur  \\\n",
       "0                           None reported             Yes      20020   \n",
       "1  At least 1 accident or damage reported             Yes      23660   \n",
       "2  At least 1 accident or damage reported             Yes      21835   \n",
       "3                           None reported             Yes      30940   \n",
       "4  At least 1 accident or damage reported             Yes      34666   \n",
       "\n",
       "   Preco Previsto Data_Pedido Data_Resposta  \n",
       "0        19624.46  2022-03-31    2022-04-03  \n",
       "1        22411.66  2022-08-03    2022-08-06  \n",
       "2        20960.42  2022-08-04    2022-08-05  \n",
       "3        31090.11  2022-01-14    2022-01-15  \n",
       "4        31699.17  2023-08-20    2023-08-24  "
      ]
     },
     "execution_count": 75,
     "metadata": {},
     "output_type": "execute_result"
    }
   ],
   "source": [
    "df2.head()"
   ]
  },
  {
   "cell_type": "code",
   "execution_count": 76,
   "metadata": {},
   "outputs": [
    {
     "name": "stdout",
     "output_type": "stream",
     "text": [
      "[4.003925880302241, 8.350415414866614, 7.845799437987654, 7.5158111814749775, 1.2818403579445468, 9.885139044147738, 2.8436031256958554, 8.705613050242444, 4.371465242432926, 6.591812967171137, 5.888006494631098, 8.137898266501768, 5.546617007242155, 5.68517593676886, 2.7660524402730657, 4.419793297623817, 8.251254432317952, 3.547239923138223, 6.7000184533409435, 1.0593527757528527, 7.275739509025167, 6.168451002784678, 8.95091056355336, 7.6570108871137315, 4.272031100417887, 1.4131356584517918, 1.0067643128937256, 7.081282708987456, 9.149438493210972, 5.18291819615555, 8.471525051640132, 7.133139220350858, 8.771438129804332, 5.193553268559343, 6.2123989370867445, 6.796874078907384, 2.924599230132169, 3.185691786165174, 5.2091607462451295, 4.10836182694325, 9.426043147887109, 9.796226465910443, 1.040475138042269, 9.192213478256763, 7.8168337781469415, 2.280044015158583, 9.02347874554896, 2.5118669641043905, 2.8837472317173276, 1.7405916382324094, 5.6046744816715615, 1.5368650840954294, 2.024342260947398, 3.3074054023326767, 6.165721532114635, 9.943393421178323, 6.28404542822071, 9.062874824042963, 6.130993767611372, 9.091205463868189, 1.7712372021986131, 5.8586286004475365, 8.19246795165182, 2.2131545623345072, 6.525535161440249, 3.3566563390246653, 2.9568888832754374, 5.155560345452414, 1.682959530230991, 3.7518792823406537, 7.2191697541624915, 3.562669046896649, 6.31509731791134, 4.684111111019744, 8.449444106013475, 3.221484561714768, 6.575275510423572, 3.558676069053067, 9.260599446097123, 9.953543502338057, 4.8204536563279134, 8.730352288702019, 4.04886131316713, 6.4080051454659985, 6.037753248013291, 6.846752193605399, 2.3972708903327136, 8.090253565145732, 3.7020748170365168, 1.9893466465940626, 2.1581136243224672, 7.484314746600784, 4.027235172162293, 3.444456553547279, 1.6685589644963985, 4.059042786584227, 3.142561256598401, 9.586826697635885, 2.560187273904192, 4.341955272522259, 6.171869148322702, 6.402784258462462, 8.207635721633054, 1.9881318761593696, 7.754902810413832, 8.98521893186382, 9.11823578798745, 9.364714205900214, 9.497629047658226, 3.8363920399678824, 6.515171043859474, 5.301121921961795, 5.223936832189296, 7.829710899949143, 7.115781043799572, 3.071213361668695, 2.8092631232854806, 7.463844059711842, 4.734740328494023, 3.071149080385076, 6.288352635370127, 1.4000087443323808, 2.9596592384963314, 2.5242431253558895, 4.367103233575719, 8.298955995338524, 9.191513905731625, 1.3097905731238355, 8.09459732295195, 5.905429491465511, 3.920262727812098, 8.552449042309632, 9.181464288922019, 1.0782260184728298, 2.273534850818464, 6.679330648357089, 8.732509221542681, 4.5364982337992235, 8.728253965764548, 4.317727690550479, 2.645790847198262, 3.392199928225374, 1.6311130031019339, 9.504386094392874, 1.1631429670283815, 9.946253904542516, 4.435470328214527, 9.396031681324777, 5.894938736381275, 5.968655414307432, 6.762400119926467, 3.5525630959542096, 2.771784588395581, 6.932581183709341, 3.26715826190715, 4.8111032555347215, 6.463125460263335, 3.3512949392621105, 1.5485087366966894, 8.681725917658362, 1.6397826118895134, 1.7714986751593202, 6.271844653066351, 9.880060638359533, 8.228563049972058, 8.959591557195697, 7.178482579946507, 2.247642316682521, 7.275196234224168, 3.2363224200393383, 1.2758787908538904, 7.436544711424005, 3.424901733606928, 8.577433458945126, 4.281789356679873, 4.3821641865839, 8.626429418466685, 9.738406021436392, 2.708697274565309, 7.211869555090641, 1.6697707183938197, 4.116549496818158, 8.014487990474585, 9.268584408205577, 9.452412053627505, 6.830963022290011, 9.900379855882594, 6.6124169417996725, 7.315327457935934, 3.2957285626186197, 1.418251547152967, 4.209740122431889, 8.560739601766471, 9.873178323340344, 5.500478866567301, 4.58592788119021, 5.43812258780772, 1.4362123377314795, 7.013565217040924, 2.8026966718850606, 9.89559253772712, 5.820459006839679, 1.4513577773681257, 1.354265289894759, 2.2916631055395333, 1.0368027822175367, 3.3436080696026407, 7.815715225798438, 9.578182536638831, 1.8167794435811901, 3.330772799179157, 8.048475040164105, 7.595842164675782, 9.950764201163565, 7.042448192944299, 2.722329961184013, 4.925666588437091, 2.93320505390565, 5.378464519050918, 2.0564508311367797, 4.330706642524718, 8.535915964713901, 4.272184906153457, 5.4228988523023895, 4.947406682204349, 3.532588858882024, 5.5609169146514965, 4.430290023622542, 1.1496672582644298, 2.1424758537122397, 5.341173772002496, 9.202073840661178, 9.042649020536864, 5.4267221547946605, 1.298773151329521, 8.979159498859321, 1.9534228154132496, 5.152624173814007, 8.935660769749038, 2.3735336992057503, 9.1488762412577, 5.915714012809815, 1.5237449412423651, 9.693119942977452, 7.55452422482851, 4.133615821315891, 2.8944498042446467, 8.50644804695462, 5.092471458390682, 2.884825719141551, 7.993028548980946, 8.182847797102553, 2.4559414990996022, 7.332762148969644, 9.09667714251493, 8.789283463664473, 4.426082330140576, 5.235221012552635, 2.916640299839187, 8.266648794248828, 7.987940222728808, 4.72276998804265, 3.443222071938238, 2.8058712900288088, 3.66320141904848, 8.179982476647492, 5.928071962467943, 2.916629599525208, 1.3025811525838822, 3.0549221763456558, 3.0548133418707755, 5.3832261007042534, 5.7823748628605856, 9.976475144011056, 5.147456044467509, 6.756401381292594, 3.6015067392131193, 3.32470992222428, 1.5275681321038892, 4.206168484454183, 3.882696351428865, 7.928429796024319, 2.214101628266736, 4.249476710454497, 8.594767880050851, 3.750978632758934, 6.981398471325765, 2.545803547714251, 4.12199534741834, 3.269275841787444, 6.538239758190705, 3.775367600256125, 9.128923252012628, 5.2524337904100085, 7.693607893117143, 4.9524319523056235, 7.243562025019142, 8.572875461414732, 9.371766428881298, 2.211092417863372, 8.679921368056169, 4.785312293860079, 8.33958017855424, 2.054162085006433, 2.6353778162411916, 9.033642269424007, 7.631093823771862, 5.018850078014915, 4.521371757424776, 1.944428238832903, 3.431590472127227, 4.48997900197258, 5.46114844006274, 5.6016514739704695, 3.525078388735155, 7.894956351527929, 2.4346249770694155, 3.6578217122671877, 6.795275798116502, 8.75659507308796, 5.933658862481166, 4.401845111600566, 1.5938762139047835, 9.034017495884749, 4.875296470233694, 4.9600163051682316, 7.61102246510479, 5.800535444782012, 7.893514356964365, 5.993557830358097, 1.7157156399849056, 8.650269589053357, 6.925760782831033, 8.977285794509687, 5.717822721171551, 2.9566934092785004, 8.170567744224076, 6.911249206825906, 6.825200496476261, 3.3854716883667297, 1.6164655195270403, 9.962402831330758, 6.372626533706042, 8.202470473174357, 3.092531514237687, 6.420549149362346, 9.7632169502343, 6.240170816312876, 4.590095336656191, 7.451912224122692, 7.0408971852946465, 4.1089147253495035, 2.336565964699997, 4.249756632321581, 9.570691844858793, 1.0052951107442216, 3.2905980378340027, 3.9356023557209174, 9.860419911846286, 8.211851710605824, 6.629596703759964, 2.5475913935081524, 9.250452689101316, 9.032025210563123, 6.323229086135128, 8.662917767281776, 6.717668327604139, 5.535780205521515, 4.3658686296586415, 2.1135664874598095, 7.957403545913284, 6.807793489032838, 5.064266476498568, 9.46669320757575, 7.020512475256281, 7.86999669266861, 7.382723679788314, 5.04309795207602, 5.680537388035907, 9.958672985046912, 8.126602183572304, 9.174339881373843, 6.9072554467273655, 7.349941913001612, 5.232687036695807, 3.2032396174030584, 8.634508706991873, 3.1595709976955133, 7.740006450747881, 7.434592591030085, 1.1437577149660565, 9.504319666129918, 5.764277860696134, 1.910685760868631, 4.748514666847671, 3.006788971056452, 6.72975569799061, 8.031580733262286, 9.684041642197679, 1.8940075255917792, 1.603384724153016, 5.989707067417925, 5.080146762259912, 8.152774595068353, 8.846950500719203, 8.117059475864648, 6.597568334310915, 7.916714030533125, 5.180278411549235, 8.43854677868199, 1.7188351947162062, 1.6261886042192346, 1.1916198964243554, 5.984464675647163, 7.097330571238746, 7.836223648552558, 3.3387840258827053, 8.865829531263444, 4.777924678901034, 7.0220595893598405, 9.454356057308402, 9.933803089564053, 4.43174618983447, 7.51029732070995, 5.542204883581493, 5.240279720571998, 4.280760909963346, 8.690304479292895, 2.7037604228738283, 3.3260604172721457, 9.964852880395409, 4.550348259480842, 3.5638646751970304, 4.577645822706007, 6.363422439710504, 4.46104209047051, 8.207734653676509, 7.476291741255521, 7.562571334017299, 6.349783856944404, 4.427670372875678, 1.8471894112404303, 1.9847888345397784, 4.77292871129977, 2.3688259798530305, 2.217253087150066, 4.488550447419075, 7.446732111750368, 7.161246633825218, 4.544638005893602, 6.149682231502019, 8.28700448612775, 9.196311012956143, 3.4607181450694506, 2.408911688579516, 8.553191934745398, 9.776343403540261, 5.713109002862765, 2.3972665664551265, 6.697811389097757, 8.591642508186819, 2.587773924961186, 2.063468745788124, 9.656647773767029, 3.7154423951982016, 5.3804176253179605, 7.484911295747437, 5.282583753243844, 2.246221897324804, 2.505002981664407, 1.812615486937771, 9.185152423784544, 1.9757301317333555, 1.2440539020081047, 9.616408945217565, 5.963402116160424, 2.2730373028882287, 7.549761726757403, 1.676632671168314, 5.4595712155621765, 1.5696917296725543, 2.947272796629448, 2.5634729414361366, 7.890389528359643, 8.10154954515954, 3.4270837694159226, 5.677511251963763, 8.686242015059838, 6.818617190738877, 5.729216079035007, 8.46390634229479, 9.017408890096878, 9.3268743826393, 2.3261370151560845, 6.696511414265597, 6.2909198896136544, 7.741295335717548, 2.6904875478450196, 2.036309958612422, 3.4473366850421647, 5.415073678659659, 5.90092117293442, 8.274642680829444, 4.296707151445426, 7.73530458816743, 7.278758506665473, 6.447052618943058, 7.0151842498254835, 3.20164181600664, 3.1254150129244467, 4.358861838933551, 9.320931185385653, 7.467081212365038, 2.775588962505912, 7.42138355713537, 4.267339773679609, 8.698192237850687, 8.80174118727125, 4.34769645310749, 3.326734360697791, 1.633595632789549, 7.28293593254549, 6.844499364879684, 1.4703603436343777, 5.218609807260506, 7.833048450516847, 8.051589911187113, 9.645389817903974, 2.9762188712947597, 1.7993516819358375, 4.311793621755253, 9.228083861680929, 2.6697754802318423, 2.1809053009724964, 7.72394112603172, 8.419839293285294, 2.0481317068587503, 3.5324738695277533, 7.184638986711753, 9.033561652251912, 2.601634603992931, 8.7787434586668, 5.180131113076739, 2.7998182962919578, 2.2235109500607857, 6.99447729739122, 3.890859920841387, 2.6544501277657244, 6.358513423734777, 5.479705599057842, 9.63381162882721, 6.13875436761619, 8.42325334113822, 6.692460071968466, 5.084171945305494, 3.416145422973382, 3.180523423813483, 6.568938601577005, 9.287620167088516, 5.476880917973196, 6.088577550406211, 9.256838895540382, 9.720304676184234, 1.2388836879890164, 6.851090045354903, 3.2795460899402786, 9.604250857545514, 2.1821561522234565, 1.0724432886442299, 2.757223159720928, 8.97666686826226, 8.987227567143922, 2.233956270319179, 2.4253052641541104, 2.673199004292291, 7.0792654875715275, 3.6621145030799687, 9.31464491338763, 8.723682347440212, 1.2730245979292474, 7.3498836054713035, 9.224124893428606, 8.138776695184855, 3.952078214431458, 4.849680717694178, 1.3366074745379306, 7.844123900585925, 7.690517844125987, 1.316998376352556, 6.361410225664278, 4.81254896340084, 6.710388879950397, 4.138703066455905, 8.437209504199746, 2.5953723045128316, 8.144621209938988, 4.373886715630556, 5.806203081196168, 1.5292289739296492, 3.563660343241088, 2.2209990574488705, 6.138215683498078, 9.649627443552212, 6.156780857316557, 7.392453406927431, 5.994910218305019, 1.8521316270175605, 6.00412555375396, 9.442925883604897, 4.306680509479061, 6.443647532697632, 4.235009209885809, 6.626865790756248, 2.967887376015308, 1.5833877280969144, 6.088242144337952, 1.2850150604561927, 9.336569789456117, 4.8702294826842225, 2.227419451263492, 3.7033444780682285, 3.5745253471247307, 2.0472865381929077, 5.486994265675881, 5.133091899207064, 5.735056498139332, 9.16393134553606, 9.021812364313476, 5.624088223073245, 6.7170965669549005, 2.039951220725311, 2.1442672383363646, 8.00551057465262, 7.86998520891293, 5.228287279308029, 8.737519226329301, 8.643480082008303, 9.198177638454151, 3.6996650152925503, 2.2683866354210367, 6.560566593181874, 8.892678764904744, 5.168823059929285, 8.634996115991132, 2.8683837055954595, 1.4748073713676182, 4.853020312718796, 6.259110943204386, 6.802036302767539, 3.419941418153628, 4.529130137427359, 1.2115088557918434, 6.058410603274182, 3.1571591855827927, 5.404202133326184, 6.207204317698243, 1.2673048309686927, 1.60432769735947, 4.643717067847375, 4.085820511416154, 2.675480860490181, 7.237974682476244, 4.125864406472031, 6.736607832664058, 1.1484194223318367, 4.40382385348558, 6.639193598329435, 5.941487201022135, 4.917381236604562, 8.533969792035192, 2.455614856680778, 6.516176682193759, 8.448318560301999, 8.813990134747968, 4.992820276182076, 7.6712162404698665, 9.603563727778775, 7.558445854654099, 6.147904944873484, 9.603354167871704, 8.010216731910976, 4.411133010056945, 6.928034917214435, 9.93106647203844, 4.7302669976061935, 5.37296954855768, 8.786711376154475, 5.111242989246749, 4.152728912586373, 9.987693027798757, 8.764476704487095, 8.85699088515993, 2.1961484247870176, 2.6715613886434286, 2.9475922651716386, 9.89604751404931, 2.6818226661936726, 9.661271290951543, 1.6544476394173184, 3.9745660123594857, 6.689600082515982, 7.652040112608733, 2.0359317796674694, 2.7770108780390004, 7.479466899839449, 8.758463527621883, 8.589541285489409, 9.856782628215429, 2.091238939868661, 2.226001473325452, 9.892317800890194, 7.289953030453586, 3.8396059609011832, 5.187978888600267, 6.957275229246255, 8.36525129829639, 6.1466126750732535, 6.756917714901519, 3.50183845213855, 3.424327069078889, 3.268054275279062, 3.496087526095893, 1.1360205782488935, 4.257540593507043, 4.0052329593934815, 8.222585420537335, 1.958655926001277, 8.889046558253234, 6.4868189347147425, 8.406267508933258, 2.4792826643047836, 9.298842216226591, 1.9538644350204, 7.081126999238942, 8.026278965873903, 1.9951526866191558, 1.3586832349152733, 6.039622351291111, 9.432927915211366, 8.880478342628582, 3.808753832301056, 7.793379623088857, 3.8339524533178766, 9.766873409454899, 4.758605412455065, 7.194317499874678, 6.440654207265141, 7.218503864629388, 1.758722434798742, 5.349352565777956, 2.6144065227420494, 5.696601258272692, 7.406700558172074, 2.0483480049335663, 2.471400860452945, 8.049402149071613, 6.258459176189601, 4.540970108284299, 1.9827649496397675, 1.4329635742836437, 4.635339765671239, 4.239117087974101, 2.493227213227591, 6.9018437850340595, 9.276350963051408, 2.3651158898883624, 5.1990057244966055, 6.23377873480664, 5.540910981039899, 7.013123247415036, 4.225266880687672, 1.7264595611083169, 9.175899286122045, 5.6603421956346525, 1.5587655113150207, 9.924563284531295, 3.2042085251127617, 1.4923436768853982, 6.054186426203946, 2.9438375399857906, 1.9840629931990186, 2.984456568949971, 1.4659552523583592, 9.25322137558353, 6.873736840647405, 3.723357308225965, 3.2666186220253417, 6.087644356193282, 6.8705561729887155, 6.522392123704753, 6.26289755444545, 4.387226916903706, 8.502818122052611, 9.542572759706038, 5.434314531767173, 9.220694043458955, 3.9696617525715063, 5.571861396814594, 4.817935404187084, 1.763172358804965, 2.4229456933940967, 1.2269823369089057, 1.6952962304261916, 6.953816743040199, 3.456043740758414, 3.46285038242763, 8.37341162128486, 4.88026463567722, 1.8238208462184886, 9.898239382367409, 4.0881757390401035, 3.813384760575039, 8.90703380085598, 8.326108998689017, 3.899232800718325, 3.864705598905966, 5.454520635538582, 2.1751926428393094, 1.9237516224613707, 4.592396841015475, 5.352838817401292, 1.7447277984288754, 4.863239392097872, 9.956415264222478, 2.6521376998138186, 2.695058893075085, 1.5319378907113899, 9.387071619249845, 5.167083611728045, 9.474209867782854, 4.059213751010629, 4.658970374966594, 7.041133358970622, 7.826490535721214, 5.907212730301028, 8.540505444292734, 8.441439182981519, 9.428824482853761, 6.893138991511777, 8.274698218681618, 8.079157582475602, 7.572561887076697, 4.7448457934878565, 5.672834269013323, 5.267538414157295, 9.770471437809476, 3.98765382782283, 1.3335912643907504, 9.17276945472365, 1.5418938705338243, 2.305538909378362, 1.9145965071199482, 1.6150056583213868, 4.872899575889054, 5.289692125630424, 3.132726855302301, 3.77597531179528, 5.376312579013612, 8.926653234484151, 8.201349369552764, 1.688678948064977, 7.918529930484237, 1.14844349228553, 9.984690129220889, 2.4312294558668213, 6.078511118490738, 2.926155514905664, 9.396767222514372, 5.279705295370706, 2.005147871982605, 3.354359965453282, 8.0711098740421, 2.5336701500758503, 8.096654276656139, 1.8577532059675492, 3.9616603892989968, 5.009062016840083, 3.5854774303715153, 4.708612145218392, 5.150622887548504, 5.590765319779408, 5.9342983690852265, 6.851578310723609, 2.6756901712662606, 8.449263715456844, 9.344494382724593, 4.7199251225624925, 4.04418873260782, 4.407088704267947, 1.7805957037987001, 6.237689535018939, 4.881278000387636, 8.885955658100968, 2.268863564305199, 8.720637032350997, 7.5499810984430225, 8.143252920755451, 1.3627667276427313, 4.238366341570579, 8.1373225383268, 6.295300703132086, 1.1622823354830598, 2.3119804870119447, 3.7691551585213507, 2.779282288401913, 4.249648001297002, 3.711621186448231, 4.307284434405909, 3.456730869806619, 6.852883969802053, 3.7807351604604906, 4.582242240580545, 8.13710856737866, 2.8688649283996357, 2.544618162807468, 3.7578656656231924, 4.937740776438297, 9.342011733926824, 8.304354831300788, 1.4707660399921498, 2.8354809461296577, 5.831478891335573, 7.550560761081528, 7.249062684098505, 7.655593842599848, 7.118799114808198, 9.476159393690795, 2.9072634856580892, 2.4735844972000827, 5.408979094895777, 3.6382365006129342, 4.033130042383195, 8.287984739111902, 1.1105817788714591, 7.630875574138999, 4.99966898496933, 5.179087918355788, 5.4712331177148, 5.4854572920211195, 8.846146369222305, 3.3328856479954108, 8.521990006431293, 5.221615681657041, 4.706914083616022, 9.638906466741894, 8.960573717541571, 4.8257596555979045, 4.56638685990283, 8.110277471536842, 5.773406256223284, 3.1756937830558365, 6.154076822826813, 5.598121270373982, 2.3909777830496237, 6.013021891151418, 9.252929979273995, 4.640954714877536, 3.480349519740691, 2.18864250226295, 2.639336672520159, 2.7614686356525597, 7.154974230250308, 8.962687855070149, 9.942013920736755, 8.4045381999337, 1.3854567684161396, 2.410088680706363, 7.456132878105586, 8.452731624074463, 4.8578941712133865, 5.747688348400904, 3.0812366173327215, 9.448060271984318, 9.39326830863735, 5.34552910572874, 6.953535570909421, 7.847224128820605, 1.4303661814834148, 7.615544252823012, 4.071123524973869, 5.510085043956902, 4.894521923161552, 2.902386651947215, 7.042064403495289, 8.499263683300176, 9.066167558121109, 1.3912784391551232, 3.1777351944387675, 1.1702784952220022, 9.603545877623358, 4.102668715357305, 5.524911998685522, 4.283925664244199, 9.479737661770542, 5.972470055327636, 3.3930647265951563, 2.3990400192210837, 5.386938758486369, 2.6964078265926923, 7.54625585066694, 1.334710131490431, 4.727381526129903, 6.315447807114989, 1.0760247930834916, 1.424223888146941, 9.849951388851881, 8.381276879864476, 2.3048219319420715, 6.232754639979722, 8.181176495550298, 9.207562440448323, 8.498945852047143, 9.98851206175202, 6.472396847908188, 9.658427953138437, 2.9551729484017266, 1.6511072706156444, 8.803551357276016, 7.568321263339729, 8.190270231880708, 5.037015796920952, 4.84513264406341, 7.682910107461462, 1.300930980325493, 3.527074071977347, 1.0791009231652997, 9.466625548683524, 5.030630647122809, 1.8575504904399742, 9.680345956268058, 6.611800497306654, 1.4084383051748768, 7.501975370713376, 3.7203367297327476, 4.635178653960725, 2.3902077396776664, 5.341557666405147, 1.0355931951968875, 8.813258131897657, 2.811558217657313, 7.489261038078673, 1.5937870721131342, 7.062950120869195, 7.721029363391391, 6.058475551180672, 7.616373534803669, 3.088050381510902, 1.1905763807446772, 9.349879814866366, 4.087902966454071, 4.562776419358308, 2.861664676616791, 3.761544234805553, 4.142013127886694, 3.1885933081200664, 5.619329427757891, 8.904966151248665, 6.779287781104503, 8.616723750332074, 1.0969694855043008, 4.838271217008024, 4.532346013603137, 3.0267728332005546, 3.367861275855888, 9.559284727856117, 8.936569449480322, 7.329682927984642, 4.824302175799364, 2.008023958598601, 9.011869798724991, 4.820272048955054, 8.06036583342153, 5.8929069997417605, 1.7028640447181598, 7.538973635640343, 3.885987356057288, 7.724021525306442, 7.229502870513257, 3.3804794335074866, 8.947404891737824, 6.555629858981112, 9.447874160994342, 8.912038759624679, 5.584329211830866, 9.900684547403973, 9.727862200880262, 2.6227362414558164, 7.2136918867214375, 8.744833062985071, 1.86359871899875, 2.237095616813755, 3.783665430763197, 1.1013439872724966, 3.480450911808391, 1.4145048844113521, 1.913935445863798, 5.891001505664887, 2.0060421002366637, 1.0596251663340244, 2.2073859306773453, 8.699758787050568, 6.803430921278932, 3.9187645612584667, 4.948425911534028, 7.988826972435562, 5.507362348876894, 9.057103521222837, 4.248687997243183, 9.169428623445182, 3.646495773964703, 1.2956346869625284, 7.535872487098586, 5.571342603589746, 7.463827581920372, 3.2481683622346336, 7.6189311885556465, 9.064141806357005, 5.023086894927966, 6.477015911137867, 8.29085388770848, 3.6171344463443327, 7.943486976483268, 1.8577978806879063, 4.201833318518036, 6.731357869021142, 7.97576358751099, 5.757336458360201, 9.79683784755943, 4.150230525842124, 6.114363152204328, 8.24522759972102, 1.0327358654146326, 1.6024352042531782, 2.7706107652045735, 6.547287270977471, 6.05546789059005, 8.250115642610906, 2.016645351520767, 8.165380168200588, 7.77066367380083, 6.731996643292565, 6.7158625317883205, 6.141623536729345, 7.330303515685342, 6.5844564814967415, 9.007716551484762, 2.211218285569063, 6.185835331250175, 4.0748744795283836, 5.501057312706379, 7.8666138178109986, 3.3553852668110093, 3.907012803518313, 5.3434945979261625, 6.791981348638358, 2.850123347990997, 8.079492254963302, 8.768902944373314, 5.183857727066671, 6.920172025095529, 9.626860611763496, 7.929744718508756, 5.386682805339007, 8.767705766186731, 7.863566358447528, 9.874118544308052, 6.14695848685519, 4.490980737935903, 7.905037036684261, 1.1284893516692405, 2.9592649016262036, 8.926619249621602, 1.8159884677345985, 6.48474358580359, 5.216992523185009, 2.0234132502932605, 8.936001248465885, 5.144270278306135, 2.4598814436639342, 6.238178087635028, 1.2357163848453498, 2.03898789165325, 3.2408350712645873, 5.564968516522709, 6.414267864478568, 5.312769937826988, 2.2943753772077073, 4.913475888626694, 1.9032169191557733, 1.2482835056949382, 9.629293040635265, 2.7169435219465194, 8.004657917070073, 8.220499985294925, 3.8463037950307712, 8.807565581900139, 6.449221161326611, 2.0287455922541935, 3.5883970426514566, 6.881887358266034, 3.690902995502161, 1.2338616187273206, 5.486674543276816, 4.418130857901572, 8.057776234722738, 3.6770885065371646, 7.83652699826188, 5.614026662525019, 9.901087836333554, 6.406055265235077, 7.388048565441764, 3.8577538605724313, 1.4449854455771578, 3.8361076087380095, 9.066831314120703, 6.18836224902041, 5.9455723325728504, 9.52196743238565, 3.351034093856341, 2.8443552229143365, 6.9557545714131885, 3.3293297832772635, 7.784870128255397, 7.543602123977937, 1.395814585702341, 3.4464128171491826, 7.408020646209572, 3.5012875427260184, 3.2834858585501285, 2.7621727411076296, 2.197080745748907, 2.5832878691472225, 9.503935946719153, 4.531956457498208, 1.7890258622726125, 1.4829919521827462, 7.372292765549486, 1.0803049139561764, 5.117894847090705, 2.4374540174054737, 2.894988876459494, 3.434541061987253, 3.0374170755722103, 6.8361438564326305, 9.868122254287561, 5.193648084661262, 9.884766218882897, 4.97010886243934, 9.059763323151385, 2.2241022922302456, 6.46094989319742, 2.30139398911262, 1.9735373294552607, 3.511784048993074, 9.755663987266963, 5.975596639714963, 8.71606314839595, 7.554258525840991, 7.250828295214527, 4.329798642534936, 7.616632878728642, 7.824946785089516, 7.876426898269978, 1.917416869684794, 5.692530348472074, 1.9950182155721143, 9.83114972461989, 9.098404836439837, 7.4978177949703815, 6.673155214047232, 1.8546467291435837, 3.852056361082553, 5.43828701053081, 7.142224275969596, 7.088674127541891, 9.925492738843895, 9.305346998366472, 5.535831609983643, 5.049911809576389, 7.5925558467094625, 6.27016486356139, 3.911262062276646, 8.401724467465163, 5.873149558071128, 5.016183922240458, 6.621834932159803, 6.319698353814762, 6.342203766416525, 9.427511872486235, 6.988774850634669, 7.458782954292614, 7.777377252175003, 3.882990742854791, 5.6476799626017264, 7.806989590227031, 5.6570420360231095, 5.658218951142649, 1.4872283491068634, 1.7106296460803956, 3.23611907900441, 6.021015612936267, 8.396682517681484, 3.844188219830237, 5.357078917209538, 3.1820132688643135, 4.768748044133664, 6.951703677550877, 1.2218351628117445, 7.527109283708827, 6.151622132397956, 9.58942244189595, 2.571039603757389, 9.614360118321027, 6.23323765355423, 6.328901014008525, 7.991791299308542, 2.690755124736948, 5.677467340903627, 8.073671122788818, 8.084448017576495, 2.4862187342927475, 2.579442246363183, 9.911551475530134, 7.4423135989312375, 1.7982489403357973, 5.8606058282367455, 5.61101774270754, 3.4403385730342175, 6.337507343387357, 3.4611162411988827, 2.7568175178328067, 8.357064571979782, 5.494251708265794, 7.605483986779256, 8.916682320854694, 5.100276761733932, 4.600088135163469, 7.790773136206823, 4.1958718991233965, 7.404287970521491, 9.989439000317844, 9.233556489304071, 4.812180497327624, 7.644031566095129, 3.644307337234758, 4.169942711821671, 4.785361423596082, 5.296705233053359, 6.86397232516217, 8.167593296790665, 6.38009988132834, 1.9565220629891797, 7.330267628369629, 6.647789832031083, 3.246137773400187, 5.602210457354413, 5.092625578208365, 2.380287932958349, 4.99029380454615, 2.5935951621832514, 6.053820414906046, 9.976160670870119, 1.997467614330398, 6.6232242703445845, 8.125319137602016, 5.8235720226342504, 2.0096165214322226, 3.7129798345694303, 9.59282915008692, 4.289405475548987, 9.825108473614941, 4.254232479870918, 6.271445259640543, 4.089488279374734, 3.7500222285841285, 4.010398910654011, 6.369020503949698, 7.094550637612012, 7.815541146116102, 3.441169970429624, 9.893501875609411, 4.128909741082875, 9.450775517961524, 3.66803640595385, 5.78922079763268, 2.8929422296638316, 3.596101666710347, 5.308659937553995, 6.076315433801489, 8.427600410938824, 9.857676621783654, 5.873959852245632, 1.024163787685164, 5.324158181536294, 6.456263421512136, 2.399911635349607, 1.5723219505358523, 4.2083219322805565, 8.772763017339148, 9.615211698535624, 2.5962952682285483, 1.3913482994153297, 3.9207704840217126, 2.103949181767727, 4.410111919171399, 6.4506402758642505, 3.1308070941178205, 7.744756645083324, 3.1286489217357136, 2.5052714848417588, 6.294568423431574, 8.091317073077306, 9.420935647212968, 2.3569620472523445, 7.235173393514465, 8.439954997005875, 6.128146544789637, 1.6463836815106103, 8.462120655335614, 8.712580228357558, 1.3752420919862345, 1.0934460335326421, 1.8698891066939882, 4.360212452427811, 4.256407794507502, 5.966943871013053, 2.5309318114652632, 5.390449748260555, 9.884524766362185, 7.860499505793548, 5.1152548726855915, 9.737614711031306, 7.572478337858562, 8.651197769147103, 3.4682689761810312, 6.16549141409581, 3.6372142962134966, 6.105023530184886, 2.5404314183781818, 1.69130213298763, 7.286934662569411, 7.011881386028372, 9.12215955705084, 5.624538197261161, 2.2061274319284108, 6.988865983923897, 6.593239722160883, 4.459401746438289, 4.399874444253433, 7.894947525259991, 6.9401878925909575, 8.991067738814607, 2.2271603760065557, 2.8153305553734302, 3.1938629621434123, 9.477277743349436, 1.2823706037647196, 7.874423376007832, 1.9905380754778828, 2.59415354218935, 1.7751935508136476, 9.207556447127558, 1.5349543506307262, 7.679171595641429, 6.455685033619186, 6.578848056999964, 8.323961956893939, 3.390514231532197, 6.408959417502005, 7.665601163285473, 5.566647386460604, 1.4275839223519367, 3.4578498729234743, 2.1989770011508343, 1.970750516142814, 4.6765222741335615, 7.142855868439782, 7.708187795653606, 8.886851058599817, 5.673374143632455, 5.358314817679385, 6.383270137571795, 2.285983382918286, 3.496561947394949, 8.483772720059084, 3.208272084048669, 2.1892910375080312, 7.928664097569536, 7.255485225384133, 6.5677534250096485, 2.89383554029156, 3.959399393762327, 8.238615780414552, 3.0283757312798327, 1.7637828358049086, 6.361855891581439, 8.08439264637241, 5.440157239826702, 1.89497519229091, 7.925080120830183, 9.569836061138563, 6.716203529185047, 2.8857869571370474, 1.540008395212181, 4.874646242720742, 8.30805245666446, 4.9964380167215054, 7.7310829353435135, 9.368751191468244, 8.12470694407885, 8.872825935969548, 3.226143544745188, 7.495651621953386, 7.6051378626875294, 8.811761070477221, 5.71924375917596, 7.038261192139273, 5.242160625748363, 8.97859842794186, 4.7834705184587705, 8.521475130474053, 5.525227845194033, 6.375415569300766, 2.814965563455962, 9.941760708129149, 5.306484716839952, 8.63146266272289, 5.897045906713772, 1.7342672040076357, 8.07942357047315, 5.019916665521007, 1.1108519552645082, 7.483792693521732, 9.46232540235416, 8.505739450356469, 4.553659905449158, 9.192992266453299, 5.789725223491381, 3.7262063626077118, 2.699313854256725, 2.863628368427219, 9.598092577238214, 8.941108044662396, 7.8082814348791025, 5.087131798107503, 1.4043180505686594, 9.705735500712729, 4.9056656314919795, 8.36244238741971, 1.4536910167904784, 9.765909937511847, 8.541235146222748, 7.745027728818834, 8.440378882864678, 1.6035524880519088, 9.381578572888191, 7.7482353614337995, 2.733218789315729, 8.273722160727623, 1.295834142074391, 2.061747173994068, 3.7560892069343588, 3.5142111235258016, 9.029781405293168, 5.428631222905105, 6.93538099538008, 5.462073845170636, 6.35338917825209, 4.56801975825628, 1.7618670718482692, 8.003843028827195, 2.6593539414680314, 9.271961502860492, 6.191607327963809, 7.285812848552876, 6.863705015861682, 2.67696688397388, 7.9504325863659435, 7.5189870069009395, 1.3873092106832163, 2.664131536484965, 8.362431469790437, 8.355141988002504, 9.934087169574306, 3.9702876987989697, 4.40920118109435, 7.392317671259564, 9.869513303175557, 4.936731273943074, 1.853968690910743, 4.447562431868101, 4.527372168648024, 6.334887386444335, 8.782514905226257, 2.7633081841289475, 5.156854204186874, 8.624535443426135, 5.118362737784549, 6.019297050661683, 2.4258505326673507, 6.823839937656012, 2.322122918091355, 5.428795301484689, 5.0174804501515675, 5.74144548203314, 1.9298712387074592, 2.5582236083985914, 2.8996812194445893, 4.224423915773267, 9.007724395889543, 9.190629952991157, 7.071863968457174, 7.0625817341413, 3.2941915627556555, 7.8288778156993, 3.256047941432678, 3.75281403363078, 7.648816797082239, 3.3186002556732763, 1.56568798875296, 3.824853802114477, 6.77386047154561, 8.090664859961631, 7.134646298002996, 4.733588637862657, 6.583927853571986, 7.262300441723855, 7.127653029357772, 5.4331548811489565, 3.482402480562479, 9.039082950109941, 5.726549434236036, 3.8471799255683226, 6.907874176882699, 8.79115636483626, 8.610189984814262, 1.5096892032593434, 1.6521224469900182, 6.350234071987003, 4.970646527066728, 4.9460450936303015, 5.942560707579976, 9.814841379805582, 8.631957119110643, 7.602714268421595, 1.50100184881091, 8.53030933556394, 1.4227002759848775, 1.761260610434712, 3.5028617560071655, 6.668939384238707, 3.9558682054510186, 4.839419296819184, 3.7118169076449647, 9.995761830476253, 8.310036411655332, 5.158084272769087, 9.35870779919397, 9.714711987579236, 6.72920044448626, 4.0001237287367895, 1.235553123887525, 5.974773082614853, 5.747559456854677, 8.575011265868582, 5.333184895132113, 7.269899721024629, 6.380893348492837, 9.927676742810366, 5.37473193388802, 2.740754520355698, 8.561924247120228, 8.759621407769238, 7.225318846428051, 8.841452780741575, 4.79863247344373, 6.09153520988763, 7.912323531907852, 8.23631754764617, 5.050925936948337, 4.820269232974836, 3.5033978576807585, 7.7221903372114715, 2.970968865553468, 5.090879307415063, 4.682043354556221, 9.632192658193123, 2.9108582725774546, 7.184962381726122, 9.363939630648757, 3.363696631348039, 4.948620345972235, 9.819657150038275, 3.1957712030653935, 1.292185653283298, 3.998269380641261, 9.693923925424732, 6.083930335607173, 8.547847728067236, 5.629888512933196, 5.930132311081, 2.1338948003740503, 3.6079159791615707, 5.026931223024048, 4.839004121782979, 8.786386308163419, 9.593154640072507, 7.275118682128685, 3.668881455806129, 8.50761728806339, 6.394100293923959, 7.1612962788232, 5.212029305517471, 7.098649267069851, 4.02152059049561, 6.404858833333859, 6.815062755603045, 9.549560985354983, 6.70173538572197, 2.032857813221082, 2.5540180273191533, 4.810496455490281, 9.431067209598645, 7.3324679010827225, 6.208393421001289, 3.291217161607343, 8.470855597027263, 8.910945649991069, 5.86576745810633, 1.0306207166318737, 6.0263652596405315, 3.3853610998906403, 7.756393290080223, 8.842749929426475, 7.453740619437457, 8.066928568875257, 1.8952011981144739, 3.4112165229466247, 4.474411379439233, 5.549227721863684, 9.980532097359927, 8.361878972722, 8.207819188265164, 6.569427004580546, 5.709174313550056, 7.881349904324239, 7.1741553758359355, 6.644775333111019, 5.071900526322069, 7.530955246766551, 8.561120388204763, 1.495704177921224, 1.1101667498410703, 7.802990408184237, 3.5758594315302603, 1.6549754048287308, 2.278453105108067, 1.6280000702322623, 8.938611131655925, 6.10944988760897, 7.044015755794576, 2.783351239696327, 7.797221195352383, 6.341040583376451, 9.425113647698042, 4.367818016708338, 9.710033835503856, 7.3333257471790825, 6.818894457998183, 9.537623116281782, 2.1065683362586123, 2.9558039552264193, 5.156453850750877, 5.279292983924699, 1.7779337264158703, 8.546540059769526, 7.864813667373767, 5.506632102431803, 7.653667838556919, 9.86789943765904, 3.1562502160074075, 4.43186543356232, 7.8086788305699155, 9.70862277766735, 9.744459695125915, 4.144551182528008, 1.7188227159294622, 7.7441849033504875, 7.024326495205237, 3.382830120818299, 1.767472266911962, 6.544596384723387, 5.584744195776365, 8.196973918133605, 2.709970632773831, 7.501409998581141, 7.675117285551114, 8.724379659885606, 6.953583962293757, 3.924035424446878, 8.309904708488222, 4.457361132081625, 9.64599666309673, 8.263745165819607, 3.8507806982503077, 5.1587355326024245, 3.8005677354374026, 9.180482026251575, 5.470896129185654, 1.9303003783345751, 5.092939725216576, 8.917378254689421, 5.949867874509137, 7.521116840505937, 7.630054339696604, 2.9519941475163884, 8.142527470035155, 5.647950171404454, 4.031089738196379, 2.0345156110197298, 8.293730890956938, 3.709612865957172, 1.6390815611264071, 6.192633057139415, 8.501847533585403, 9.34511641423584, 1.7209407207027223, 6.076501214885635, 1.004361629548167, 4.969547240343939, 8.450792668026036, 5.283290717363663, 4.412098529113065, 8.901140935012142, 1.3638049080702386, 2.7150131358216396, 1.5565123182958769, 6.21527052302801, 1.8812263151467292, 5.994487096368645, 2.5344544618069755, 6.581529389526255, 6.502053571083741, 2.403842499180263, 1.4729519134459417, 5.060368246174573, 6.1560717686185455, 3.956038387109763, 5.012085353408325, 9.978821177778098, 9.270108726408518, 3.8145681310549757, 3.9044629553378143, 1.2313828697899458, 5.288901288867527, 9.529472962348006, 1.7042915008868884, 3.8182733468018535, 2.3571932207154855, 7.668786814368156, 1.4658293273259009, 5.6527175250689865, 6.742244705948322, 7.331654174454805, 3.7890433421606153, 7.563259040209884, 5.410764309288355, 6.949120347855581, 8.579558815486266, 6.662540077949607, 6.201637457572731, 8.794889490460275, 7.568964456922617, 4.031351243933819, 7.172836838727103, 6.504245444697025, 9.156657053314074, 9.721609097656888, 8.570234749449629, 6.9669639050327055, 8.99949790051516, 2.832865429043057, 8.132528429031453, 7.49712970372842, 2.774499416918812, 6.5965922070183725, 7.518639991536587, 4.684413298619308, 9.169695158062579, 4.503312390674106, 8.329394135164296, 5.189261431235529, 7.218343348260634, 5.005804252945517, 9.523696966257159, 1.9713699769365316, 8.846700642308349, 1.2263644572093986, 7.74843775924664, 5.190741281089152, 8.386262534802126, 3.844349533662751, 3.034447605133274, 6.2811241194898235, 2.4004102733118247, 1.5981487782705581, 9.99564811141272, 6.417683367600069, 9.350151363801796, 3.480495870172681, 4.725849268422847, 8.033991173116268, 7.95874997042349, 3.8985435664385637, 5.794507306775298, 9.329738478215887, 1.6186930474863166, 4.886211273740772, 3.362661149369896, 9.095907990444877, 6.962906554311621, 9.310126748706113, 3.188963860854113, 1.3115490107455283, 7.326666018535108, 5.298147043144425, 2.8557158862235346, 1.5964190006340235, 8.439685515442019, 4.555815100041743, 9.437718758143799, 4.572615632544149, 5.02143614282101, 4.004564810432217, 2.7622531007266504, 1.2115341710758525, 1.023408717225397, 7.110269470416342, 6.34269968226757, 9.612883888079695, 6.190423809041378, 2.34780677152596, 6.449037034006134, 1.2577111457821248, 1.6694433265109319, 3.5576186940242622, 3.496790090280502, 9.264650371682418, 8.004045537541554, 3.3695496364449027, 6.271627974085617, 6.021736661871921, 8.963925860330543, 7.655501640170269, 3.714773657775214, 8.560266765039863, 4.286354588846862, 5.18710648122722, 9.725975361490681, 5.662256415429525, 2.935742765048015, 4.940480326794974, 8.03546905549641, 9.802740939460804, 5.77311052287691, 6.506258836704116, 2.420670441245012, 7.9626050252319835, 1.2649536388499865, 2.123436483663236, 9.503653823294405, 4.210970212783928, 8.482416355930742, 1.7750634532828204, 4.693756102615204, 4.180071977012348, 6.640349433148071, 4.849362437212608, 4.568543530707564, 4.282894681186854, 1.8891844149590011, 1.3273943309374672, 3.633886681441744, 4.816491045862739, 5.371788075176601, 3.1701490292439667, 9.5540423121288, 5.1992135667645485, 3.7751393054551055, 9.209860495265188, 5.280022394927877, 2.3855759734468207, 5.4313104200622115, 8.204045931497486, 2.2938260078799644, 4.938535511531073, 3.986404487125914, 6.422190317251207, 5.221459332134059, 3.206859467022651, 5.102573002596863, 1.9667181379724101, 8.497686404451647, 8.56596056383298, 7.7837198288917095, 1.3285722062140837, 9.797823904432759, 3.9976225811088484, 3.5605952098406544, 2.93873713628751, 9.99037264877957, 1.0854761977013334, 3.391133764802853, 6.022277326594309, 6.544578301567278, 3.029120975030365, 1.7053583916747268, 6.747212568241075, 8.957525812317028, 8.147773385860898, 4.111257676239125, 5.677769337079472, 4.592172719167791, 2.1939249560895817, 2.2672255968066257, 2.2764420654531596, 8.361695562332912, 6.300761373075133, 2.6525145800352314, 1.0903701988370114, 7.003324445562578, 4.9819701861905, 3.2036080999312793, 1.131526814624582, 9.012317994535453, 8.503034075722205, 3.77362054942122, 4.7330027214535315, 1.9024429321274596, 5.7913541600275895, 8.808833223009257, 5.884643788676436, 9.729814872399842, 9.669392653393313, 5.251149440357313, 4.94054758612743, 1.9187108078323405, 3.5230996997587476, 3.902356161442678, 2.9101455146613042, 4.113935903688726, 6.449602767153158, 8.692656821958785, 5.012157981451666, 6.768910546732356, 9.853974437123423, 1.4776029777092545, 7.0404937129001075, 3.204069016959721, 8.081873103069038, 4.933257623448156, 3.597784557371793, 4.986891657179321, 1.3395760126449514, 9.874948531941955, 9.984442078301452, 5.717256203088415, 9.654999799732932, 8.187875181935109, 9.926463000250244, 6.255567964243788, 2.922635374237439, 7.26479746835734, 2.481808781904363, 7.121217391818647, 1.2880773040800235, 6.106706394765669, 8.02964100142492, 3.703386823794837, 1.275335717467133, 4.845245330962454, 1.6732102284378856, 7.7132823077343895, 6.473510889422658, 9.248809995638881, 8.315890083520028, 2.002937094205542, 3.114426022231973, 9.174983008879158, 5.116475792111688, 6.079446676836837, 3.679807207543427, 2.3476603139664958, 1.097662432020875, 5.0965205104278875, 7.553597204978792, 6.888831966611366, 6.693986501675248, 5.486882325725184, 2.268082966279903, 5.801709940186698, 8.89092479487627, 1.2293523308981213, 5.376213564039462, 8.694058985012362, 3.7667539939131505, 6.949065904157447, 6.1913516666302195, 2.194945016268443, 7.293058620182421, 1.5060893204606742, 6.643880188515478, 8.97235037738721, 1.7481908595200986, 5.596409527811186, 6.481359063080129, 3.2066098686840374, 6.896694911686404, 5.8062590222547605, 5.785116910378267, 3.87562764227454, 4.724023820260751, 2.1817455430517834, 4.139260195375904, 5.961374416783761, 2.1900666309512586, 7.344051661314676, 7.45736283362258, 2.2928202455993674, 9.254995883402962, 1.5988705825263927, 6.151124229443328, 1.5775973578611864, 6.658243920662524, 5.573308515328788, 1.5483166796020496, 2.5965115843410977, 1.538942181825023, 6.034610568873897, 9.199589279277918, 9.469895291220977, 5.79283053906437, 8.056795102811083, 4.461798147307837, 9.536591892108826, 5.52973215427953, 8.638181640049272, 4.944618436154409, 2.837253606110517, 5.862009339289122, 8.716253024214538, 6.646561198301007, 2.814568958969441, 2.447135377192891, 7.106010780856763, 6.722916246843451, 7.522738615068452, 3.4346280662015842, 2.070288395200457, 3.8256241877378065, 2.775030972012255, 7.5592959250207254, 2.783610755215601, 7.889759835170065, 5.210358151501738, 4.033173987506556, 6.236298353344022, 2.171397203633315, 5.936684524451395, 9.996080015355195, 8.759532049847051, 8.131902787106327, 9.15106716984132, 1.8079504251100715, 2.6024697712776845, 1.594806504189237, 1.342405150536698, 8.518386458058576, 7.645288142561611, 3.7919869587664956, 7.403393504786335, 3.3834182673296005, 9.47707804734852, 8.876706194424042, 1.9864036843043729, 7.7738169700746065, 2.6855379207693484, 9.625274289247137, 5.562119715733674, 3.881434969025359, 9.738392181244743, 3.376683092750551, 9.1273286376728, 3.2072267588241887, 7.043887577672062, 7.140432414720489, 3.449178667078507, 7.876036835796903, 3.6773498115488774, 7.621680547789579, 3.436483377708036, 7.449672251618736, 3.3439427756743063, 6.139461138216131, 9.238126610613952, 1.1149972800642423, 6.360353250285421, 1.069404988227463, 2.570921302703103, 9.485959997158057, 8.345401409323195, 6.937227392548333, 5.63693780052095, 6.615615786393261, 7.751397761525154, 6.1635088325447756, 4.519459651577188]\n"
     ]
    }
   ],
   "source": [
    "import random \n",
    "rating = []\n",
    "for _ in range(2217):\n",
    "    rating.append(random.uniform(1, 10))\n",
    "\n",
    "print(rating)"
   ]
  },
  {
   "cell_type": "code",
   "execution_count": 77,
   "metadata": {},
   "outputs": [],
   "source": [
    "df2['rating'] = rating"
   ]
  },
  {
   "cell_type": "code",
   "execution_count": 78,
   "metadata": {},
   "outputs": [],
   "source": [
    "df2['rating'] = df2['rating'].round(1)"
   ]
  },
  {
   "cell_type": "code",
   "execution_count": 79,
   "metadata": {},
   "outputs": [
    {
     "data": {
      "text/html": [
       "<div>\n",
       "<style scoped>\n",
       "    .dataframe tbody tr th:only-of-type {\n",
       "        vertical-align: middle;\n",
       "    }\n",
       "\n",
       "    .dataframe tbody tr th {\n",
       "        vertical-align: top;\n",
       "    }\n",
       "\n",
       "    .dataframe thead th {\n",
       "        text-align: right;\n",
       "    }\n",
       "</style>\n",
       "<table border=\"1\" class=\"dataframe\">\n",
       "  <thead>\n",
       "    <tr style=\"text-align: right;\">\n",
       "      <th></th>\n",
       "      <th>Brand_Mod</th>\n",
       "      <th>model</th>\n",
       "      <th>model_year</th>\n",
       "      <th>KM</th>\n",
       "      <th>fuel</th>\n",
       "      <th>HP</th>\n",
       "      <th>Litros</th>\n",
       "      <th>Cilindros</th>\n",
       "      <th>transmission_mod</th>\n",
       "      <th>ext_col_mod</th>\n",
       "      <th>int_col_mod</th>\n",
       "      <th>accident_mod</th>\n",
       "      <th>clean_title_mod</th>\n",
       "      <th>price_eur</th>\n",
       "      <th>Preco Previsto</th>\n",
       "      <th>Data_Pedido</th>\n",
       "      <th>Data_Resposta</th>\n",
       "      <th>rating</th>\n",
       "    </tr>\n",
       "  </thead>\n",
       "  <tbody>\n",
       "    <tr>\n",
       "      <th>0</th>\n",
       "      <td>Outra</td>\n",
       "      <td>Wrangler Sport</td>\n",
       "      <td>2014</td>\n",
       "      <td>114263</td>\n",
       "      <td>Gasoline</td>\n",
       "      <td>285.0</td>\n",
       "      <td>3.6</td>\n",
       "      <td>6.0</td>\n",
       "      <td>Automatic</td>\n",
       "      <td>Outra</td>\n",
       "      <td>Black</td>\n",
       "      <td>None reported</td>\n",
       "      <td>Yes</td>\n",
       "      <td>20020</td>\n",
       "      <td>19624.46</td>\n",
       "      <td>2022-03-31</td>\n",
       "      <td>2022-04-03</td>\n",
       "      <td>4.0</td>\n",
       "    </tr>\n",
       "    <tr>\n",
       "      <th>1</th>\n",
       "      <td>Outra</td>\n",
       "      <td>Highlander XLE</td>\n",
       "      <td>2015</td>\n",
       "      <td>110361</td>\n",
       "      <td>Gasoline</td>\n",
       "      <td>270.0</td>\n",
       "      <td>3.5</td>\n",
       "      <td>6.0</td>\n",
       "      <td>Automatic</td>\n",
       "      <td>Outra</td>\n",
       "      <td>Outra</td>\n",
       "      <td>At least 1 accident or damage reported</td>\n",
       "      <td>Yes</td>\n",
       "      <td>23660</td>\n",
       "      <td>22411.66</td>\n",
       "      <td>2022-08-03</td>\n",
       "      <td>2022-08-06</td>\n",
       "      <td>8.4</td>\n",
       "    </tr>\n",
       "    <tr>\n",
       "      <th>2</th>\n",
       "      <td>Outra</td>\n",
       "      <td>Camry Hybrid XLE</td>\n",
       "      <td>2018</td>\n",
       "      <td>112076</td>\n",
       "      <td>Hybrid</td>\n",
       "      <td>208.0</td>\n",
       "      <td>2.5</td>\n",
       "      <td>4.0</td>\n",
       "      <td>CVT</td>\n",
       "      <td>white</td>\n",
       "      <td>Black</td>\n",
       "      <td>At least 1 accident or damage reported</td>\n",
       "      <td>Yes</td>\n",
       "      <td>21835</td>\n",
       "      <td>20960.42</td>\n",
       "      <td>2022-08-04</td>\n",
       "      <td>2022-08-05</td>\n",
       "      <td>7.8</td>\n",
       "    </tr>\n",
       "    <tr>\n",
       "      <th>3</th>\n",
       "      <td>Outra</td>\n",
       "      <td>Outback Touring XT</td>\n",
       "      <td>2021</td>\n",
       "      <td>53913</td>\n",
       "      <td>Gasoline</td>\n",
       "      <td>260.0</td>\n",
       "      <td>2.4</td>\n",
       "      <td>4.0</td>\n",
       "      <td>CVT</td>\n",
       "      <td>Outra</td>\n",
       "      <td>Outra</td>\n",
       "      <td>None reported</td>\n",
       "      <td>Yes</td>\n",
       "      <td>30940</td>\n",
       "      <td>31090.11</td>\n",
       "      <td>2022-01-14</td>\n",
       "      <td>2022-01-15</td>\n",
       "      <td>7.5</td>\n",
       "    </tr>\n",
       "    <tr>\n",
       "      <th>4</th>\n",
       "      <td>Outra</td>\n",
       "      <td>GX 460 Base</td>\n",
       "      <td>2018</td>\n",
       "      <td>120701</td>\n",
       "      <td>Gasoline</td>\n",
       "      <td>301.0</td>\n",
       "      <td>4.6</td>\n",
       "      <td>8.0</td>\n",
       "      <td>Automatic</td>\n",
       "      <td>white</td>\n",
       "      <td>beige</td>\n",
       "      <td>At least 1 accident or damage reported</td>\n",
       "      <td>Yes</td>\n",
       "      <td>34666</td>\n",
       "      <td>31699.17</td>\n",
       "      <td>2023-08-20</td>\n",
       "      <td>2023-08-24</td>\n",
       "      <td>1.3</td>\n",
       "    </tr>\n",
       "  </tbody>\n",
       "</table>\n",
       "</div>"
      ],
      "text/plain": [
       "  Brand_Mod               model  model_year      KM      fuel     HP  Litros  \\\n",
       "0     Outra      Wrangler Sport        2014  114263  Gasoline  285.0     3.6   \n",
       "1     Outra      Highlander XLE        2015  110361  Gasoline  270.0     3.5   \n",
       "2     Outra    Camry Hybrid XLE        2018  112076    Hybrid  208.0     2.5   \n",
       "3     Outra  Outback Touring XT        2021   53913  Gasoline  260.0     2.4   \n",
       "4     Outra         GX 460 Base        2018  120701  Gasoline  301.0     4.6   \n",
       "\n",
       "   Cilindros transmission_mod ext_col_mod int_col_mod  \\\n",
       "0        6.0        Automatic       Outra       Black   \n",
       "1        6.0        Automatic       Outra       Outra   \n",
       "2        4.0              CVT       white       Black   \n",
       "3        4.0              CVT       Outra       Outra   \n",
       "4        8.0        Automatic       white       beige   \n",
       "\n",
       "                             accident_mod clean_title_mod  price_eur  \\\n",
       "0                           None reported             Yes      20020   \n",
       "1  At least 1 accident or damage reported             Yes      23660   \n",
       "2  At least 1 accident or damage reported             Yes      21835   \n",
       "3                           None reported             Yes      30940   \n",
       "4  At least 1 accident or damage reported             Yes      34666   \n",
       "\n",
       "   Preco Previsto Data_Pedido Data_Resposta  rating  \n",
       "0        19624.46  2022-03-31    2022-04-03     4.0  \n",
       "1        22411.66  2022-08-03    2022-08-06     8.4  \n",
       "2        20960.42  2022-08-04    2022-08-05     7.8  \n",
       "3        31090.11  2022-01-14    2022-01-15     7.5  \n",
       "4        31699.17  2023-08-20    2023-08-24     1.3  "
      ]
     },
     "execution_count": 79,
     "metadata": {},
     "output_type": "execute_result"
    }
   ],
   "source": [
    "df2.head()"
   ]
  },
  {
   "cell_type": "code",
   "execution_count": 59,
   "metadata": {},
   "outputs": [
    {
     "name": "stdout",
     "output_type": "stream",
     "text": [
      "<class 'pandas.core.frame.DataFrame'>\n",
      "RangeIndex: 2217 entries, 0 to 2216\n",
      "Data columns (total 18 columns):\n",
      " #   Column            Non-Null Count  Dtype  \n",
      "---  ------            --------------  -----  \n",
      " 0   Brand_Mod         2217 non-null   object \n",
      " 1   model             2217 non-null   object \n",
      " 2   model_year        2217 non-null   int64  \n",
      " 3   KM                2217 non-null   int64  \n",
      " 4   fuel              2217 non-null   object \n",
      " 5   HP                2217 non-null   float64\n",
      " 6   Litros            2217 non-null   float64\n",
      " 7   Cilindros         2217 non-null   float64\n",
      " 8   transmission_mod  2217 non-null   object \n",
      " 9   ext_col_mod       2217 non-null   object \n",
      " 10  int_col_mod       2217 non-null   object \n",
      " 11  accident_mod      2217 non-null   object \n",
      " 12  clean_title_mod   2217 non-null   object \n",
      " 13  price_eur         2217 non-null   int64  \n",
      " 14  Preco Previsto    2217 non-null   float64\n",
      " 15  Data_Pedido       2217 non-null   object \n",
      " 16  Data_Resposta     2217 non-null   object \n",
      " 17  rating            2217 non-null   float64\n",
      "dtypes: float64(5), int64(3), object(10)\n",
      "memory usage: 311.9+ KB\n"
     ]
    }
   ],
   "source": [
    "df2.info()"
   ]
  },
  {
   "cell_type": "code",
   "execution_count": 82,
   "metadata": {},
   "outputs": [],
   "source": [
    "df2['Preco Previsto'] = df2['Preco Previsto'].astype(int)"
   ]
  },
  {
   "cell_type": "code",
   "execution_count": 83,
   "metadata": {},
   "outputs": [
    {
     "name": "stdout",
     "output_type": "stream",
     "text": [
      "<class 'pandas.core.frame.DataFrame'>\n",
      "RangeIndex: 2217 entries, 0 to 2216\n",
      "Data columns (total 18 columns):\n",
      " #   Column            Non-Null Count  Dtype  \n",
      "---  ------            --------------  -----  \n",
      " 0   Brand_Mod         2217 non-null   object \n",
      " 1   model             2217 non-null   object \n",
      " 2   model_year        2217 non-null   int64  \n",
      " 3   KM                2217 non-null   int64  \n",
      " 4   fuel              2217 non-null   object \n",
      " 5   HP                2217 non-null   float64\n",
      " 6   Litros            2217 non-null   float64\n",
      " 7   Cilindros         2217 non-null   float64\n",
      " 8   transmission_mod  2217 non-null   object \n",
      " 9   ext_col_mod       2217 non-null   object \n",
      " 10  int_col_mod       2217 non-null   object \n",
      " 11  accident_mod      2217 non-null   object \n",
      " 12  clean_title_mod   2217 non-null   object \n",
      " 13  price_eur         2217 non-null   int64  \n",
      " 14  Preco Previsto    2217 non-null   int32  \n",
      " 15  Data_Pedido       2217 non-null   object \n",
      " 16  Data_Resposta     2217 non-null   object \n",
      " 17  rating            2217 non-null   float64\n",
      "dtypes: float64(4), int32(1), int64(3), object(10)\n",
      "memory usage: 303.2+ KB\n"
     ]
    }
   ],
   "source": [
    "df2.info()"
   ]
  },
  {
   "cell_type": "code",
   "execution_count": 84,
   "metadata": {},
   "outputs": [],
   "source": [
    "df2.to_csv(\"dataset_final.csv\", index=False)"
   ]
  }
 ],
 "metadata": {
  "kernelspec": {
   "display_name": "Python 3",
   "language": "python",
   "name": "python3"
  },
  "language_info": {
   "codemirror_mode": {
    "name": "ipython",
    "version": 3
   },
   "file_extension": ".py",
   "mimetype": "text/x-python",
   "name": "python",
   "nbconvert_exporter": "python",
   "pygments_lexer": "ipython3",
   "version": "3.12.0"
  }
 },
 "nbformat": 4,
 "nbformat_minor": 2
}
