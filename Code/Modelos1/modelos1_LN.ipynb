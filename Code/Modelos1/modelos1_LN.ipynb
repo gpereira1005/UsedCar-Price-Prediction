{
 "cells": [
  {
   "cell_type": "code",
   "execution_count": 12,
   "metadata": {},
   "outputs": [],
   "source": [
    "import warnings\n",
    "warnings.filterwarnings(\"ignore\")"
   ]
  },
  {
   "cell_type": "code",
   "execution_count": 13,
   "metadata": {},
   "outputs": [],
   "source": [
    "import pandas as pd\n",
    "from sklearn.metrics import (\n",
    "    make_scorer,\n",
    "    mean_absolute_error,\n",
    "    mean_squared_error,\n",
    "    r2_score\n",
    ")\n",
    "from sklearn.model_selection import cross_validate, StratifiedKFold\n",
    "from sklearn.ensemble import RandomForestRegressor\n",
    "from sklearn.neural_network import  MLPRegressor\n",
    "from sklearn.svm import SVR\n",
    "import numpy as np"
   ]
  },
  {
   "cell_type": "code",
   "execution_count": 14,
   "metadata": {},
   "outputs": [],
   "source": [
    "def root_mean_squared_error(y_true, y_pred):\n",
    "    return np.sqrt(mean_squared_error(y_true, y_pred))\n",
    "\n",
    "METRICS_REGRESSION = {\n",
    "    \"MAE\": make_scorer(mean_absolute_error),\n",
    "    \"MSE\": make_scorer(mean_squared_error),\n",
    "    \"RMSE\": make_scorer(root_mean_squared_error),\n",
    "    \"R2\": make_scorer(r2_score)\n",
    "}"
   ]
  },
  {
   "cell_type": "code",
   "execution_count": 15,
   "metadata": {},
   "outputs": [],
   "source": [
    "df = pd.read_csv(\"../cenario1_engine.csv\")"
   ]
  },
  {
   "cell_type": "code",
   "execution_count": 16,
   "metadata": {},
   "outputs": [
    {
     "name": "stdout",
     "output_type": "stream",
     "text": [
      "<class 'pandas.core.frame.DataFrame'>\n",
      "RangeIndex: 3207 entries, 0 to 3206\n",
      "Data columns (total 14 columns):\n",
      " #   Column            Non-Null Count  Dtype  \n",
      "---  ------            --------------  -----  \n",
      " 0   Brand_Mod         3207 non-null   object \n",
      " 1   model             3207 non-null   object \n",
      " 2   model_year        3207 non-null   int64  \n",
      " 3   KM                3207 non-null   int64  \n",
      " 4   fuel              3207 non-null   object \n",
      " 5   HP                2578 non-null   float64\n",
      " 6   Litros            2891 non-null   float64\n",
      " 7   Cilindros         2705 non-null   float64\n",
      " 8   transmission_mod  3207 non-null   object \n",
      " 9   ext_col_mod       3207 non-null   object \n",
      " 10  int_col_mod       3207 non-null   object \n",
      " 11  accident_mod      3207 non-null   object \n",
      " 12  clean_title_mod   3207 non-null   object \n",
      " 13  price_eur         3207 non-null   int64  \n",
      "dtypes: float64(3), int64(3), object(8)\n",
      "memory usage: 350.9+ KB\n"
     ]
    }
   ],
   "source": [
    "df.info()"
   ]
  },
  {
   "cell_type": "code",
   "execution_count": 17,
   "metadata": {},
   "outputs": [],
   "source": [
    "df = df.dropna()"
   ]
  },
  {
   "cell_type": "code",
   "execution_count": 18,
   "metadata": {},
   "outputs": [
    {
     "name": "stdout",
     "output_type": "stream",
     "text": [
      "<class 'pandas.core.frame.DataFrame'>\n",
      "Index: 2453 entries, 0 to 3206\n",
      "Data columns (total 14 columns):\n",
      " #   Column            Non-Null Count  Dtype  \n",
      "---  ------            --------------  -----  \n",
      " 0   Brand_Mod         2453 non-null   object \n",
      " 1   model             2453 non-null   object \n",
      " 2   model_year        2453 non-null   int64  \n",
      " 3   KM                2453 non-null   int64  \n",
      " 4   fuel              2453 non-null   object \n",
      " 5   HP                2453 non-null   float64\n",
      " 6   Litros            2453 non-null   float64\n",
      " 7   Cilindros         2453 non-null   float64\n",
      " 8   transmission_mod  2453 non-null   object \n",
      " 9   ext_col_mod       2453 non-null   object \n",
      " 10  int_col_mod       2453 non-null   object \n",
      " 11  accident_mod      2453 non-null   object \n",
      " 12  clean_title_mod   2453 non-null   object \n",
      " 13  price_eur         2453 non-null   int64  \n",
      "dtypes: float64(3), int64(3), object(8)\n",
      "memory usage: 287.5+ KB\n"
     ]
    }
   ],
   "source": [
    "df.info()"
   ]
  },
  {
   "cell_type": "code",
   "execution_count": 19,
   "metadata": {},
   "outputs": [],
   "source": [
    "categorical_columns = df.select_dtypes(include='object').columns\n",
    "\n",
    "for column in categorical_columns:\n",
    "    df[column] = df[column].astype('category').cat.codes"
   ]
  },
  {
   "cell_type": "code",
   "execution_count": 20,
   "metadata": {},
   "outputs": [],
   "source": [
    "X, y = df.drop(\"price_eur\", axis=1), df[\"price_eur\"]"
   ]
  },
  {
   "cell_type": "code",
   "execution_count": 21,
   "metadata": {},
   "outputs": [],
   "source": [
    "splitter = StratifiedKFold(n_splits=10, shuffle=True, random_state=1234)"
   ]
  },
  {
   "cell_type": "markdown",
   "metadata": {},
   "source": [
    "Random Forest"
   ]
  },
  {
   "cell_type": "code",
   "execution_count": 22,
   "metadata": {},
   "outputs": [
    {
     "data": {
      "text/html": [
       "<div>\n",
       "<style scoped>\n",
       "    .dataframe tbody tr th:only-of-type {\n",
       "        vertical-align: middle;\n",
       "    }\n",
       "\n",
       "    .dataframe tbody tr th {\n",
       "        vertical-align: top;\n",
       "    }\n",
       "\n",
       "    .dataframe thead th {\n",
       "        text-align: right;\n",
       "    }\n",
       "</style>\n",
       "<table border=\"1\" class=\"dataframe\">\n",
       "  <thead>\n",
       "    <tr style=\"text-align: right;\">\n",
       "      <th></th>\n",
       "      <th>fit_time</th>\n",
       "      <th>score_time</th>\n",
       "      <th>test_MAE</th>\n",
       "      <th>test_MSE</th>\n",
       "      <th>test_RMSE</th>\n",
       "      <th>test_R2</th>\n",
       "    </tr>\n",
       "  </thead>\n",
       "  <tbody>\n",
       "    <tr>\n",
       "      <th>0</th>\n",
       "      <td>2.185811</td>\n",
       "      <td>0.008949</td>\n",
       "      <td>10065.073371</td>\n",
       "      <td>4.088155e+09</td>\n",
       "      <td>42426.614174</td>\n",
       "      <td>0.473366</td>\n",
       "    </tr>\n",
       "  </tbody>\n",
       "</table>\n",
       "</div>"
      ],
      "text/plain": [
       "   fit_time  score_time      test_MAE      test_MSE     test_RMSE   test_R2\n",
       "0  2.185811    0.008949  10065.073371  4.088155e+09  42426.614174  0.473366"
      ]
     },
     "execution_count": 22,
     "metadata": {},
     "output_type": "execute_result"
    }
   ],
   "source": [
    "rf = RandomForestRegressor(random_state=1234)\n",
    "scores_rf = cross_validate(rf, X, y, cv=splitter, scoring=METRICS_REGRESSION)\n",
    "rf_scores = pd.DataFrame(scores_rf)\n",
    "pd.DataFrame(rf_scores.mean()).T"
   ]
  },
  {
   "cell_type": "markdown",
   "metadata": {},
   "source": [
    "Redes Neuronais"
   ]
  },
  {
   "cell_type": "code",
   "execution_count": 23,
   "metadata": {},
   "outputs": [
    {
     "data": {
      "text/html": [
       "<div>\n",
       "<style scoped>\n",
       "    .dataframe tbody tr th:only-of-type {\n",
       "        vertical-align: middle;\n",
       "    }\n",
       "\n",
       "    .dataframe tbody tr th {\n",
       "        vertical-align: top;\n",
       "    }\n",
       "\n",
       "    .dataframe thead th {\n",
       "        text-align: right;\n",
       "    }\n",
       "</style>\n",
       "<table border=\"1\" class=\"dataframe\">\n",
       "  <thead>\n",
       "    <tr style=\"text-align: right;\">\n",
       "      <th></th>\n",
       "      <th>fit_time</th>\n",
       "      <th>score_time</th>\n",
       "      <th>test_MAE</th>\n",
       "      <th>test_MSE</th>\n",
       "      <th>test_RMSE</th>\n",
       "      <th>test_R2</th>\n",
       "    </tr>\n",
       "  </thead>\n",
       "  <tbody>\n",
       "    <tr>\n",
       "      <th>0</th>\n",
       "      <td>1.686437</td>\n",
       "      <td>0.002402</td>\n",
       "      <td>17083.44181</td>\n",
       "      <td>4.263896e+09</td>\n",
       "      <td>47020.444869</td>\n",
       "      <td>0.284287</td>\n",
       "    </tr>\n",
       "  </tbody>\n",
       "</table>\n",
       "</div>"
      ],
      "text/plain": [
       "   fit_time  score_time     test_MAE      test_MSE     test_RMSE   test_R2\n",
       "0  1.686437    0.002402  17083.44181  4.263896e+09  47020.444869  0.284287"
      ]
     },
     "execution_count": 23,
     "metadata": {},
     "output_type": "execute_result"
    }
   ],
   "source": [
    "nn = MLPRegressor(hidden_layer_sizes=(50,50), max_iter=200, random_state=1234)\n",
    "scores_nn = cross_validate(nn, X, y, cv=splitter, scoring=METRICS_REGRESSION)\n",
    "nn_scores = pd.DataFrame(scores_nn)\n",
    "pd.DataFrame(nn_scores.mean()).T"
   ]
  },
  {
   "cell_type": "markdown",
   "metadata": {},
   "source": [
    "Support Vector Machine"
   ]
  },
  {
   "cell_type": "code",
   "execution_count": 24,
   "metadata": {},
   "outputs": [
    {
     "data": {
      "text/html": [
       "<div>\n",
       "<style scoped>\n",
       "    .dataframe tbody tr th:only-of-type {\n",
       "        vertical-align: middle;\n",
       "    }\n",
       "\n",
       "    .dataframe tbody tr th {\n",
       "        vertical-align: top;\n",
       "    }\n",
       "\n",
       "    .dataframe thead th {\n",
       "        text-align: right;\n",
       "    }\n",
       "</style>\n",
       "<table border=\"1\" class=\"dataframe\">\n",
       "  <thead>\n",
       "    <tr style=\"text-align: right;\">\n",
       "      <th></th>\n",
       "      <th>fit_time</th>\n",
       "      <th>score_time</th>\n",
       "      <th>test_MAE</th>\n",
       "      <th>test_MSE</th>\n",
       "      <th>test_RMSE</th>\n",
       "      <th>test_R2</th>\n",
       "    </tr>\n",
       "  </thead>\n",
       "  <tbody>\n",
       "    <tr>\n",
       "      <th>0</th>\n",
       "      <td>0.16775</td>\n",
       "      <td>0.037004</td>\n",
       "      <td>21066.804947</td>\n",
       "      <td>4.912119e+09</td>\n",
       "      <td>54906.106366</td>\n",
       "      <td>-0.048246</td>\n",
       "    </tr>\n",
       "  </tbody>\n",
       "</table>\n",
       "</div>"
      ],
      "text/plain": [
       "   fit_time  score_time      test_MAE      test_MSE     test_RMSE   test_R2\n",
       "0   0.16775    0.037004  21066.804947  4.912119e+09  54906.106366 -0.048246"
      ]
     },
     "execution_count": 24,
     "metadata": {},
     "output_type": "execute_result"
    }
   ],
   "source": [
    "svm = SVR()\n",
    "scores_svm = cross_validate(svm, X, y, cv=splitter, scoring=METRICS_REGRESSION)\n",
    "svm_scores = pd.DataFrame(scores_svm)\n",
    "pd.DataFrame(svm_scores.mean()).T"
   ]
  }
 ],
 "metadata": {
  "kernelspec": {
   "display_name": "Python 3",
   "language": "python",
   "name": "python3"
  },
  "language_info": {
   "codemirror_mode": {
    "name": "ipython",
    "version": 3
   },
   "file_extension": ".py",
   "mimetype": "text/x-python",
   "name": "python",
   "nbconvert_exporter": "python",
   "pygments_lexer": "ipython3",
   "version": "3.12.0"
  }
 },
 "nbformat": 4,
 "nbformat_minor": 2
}
